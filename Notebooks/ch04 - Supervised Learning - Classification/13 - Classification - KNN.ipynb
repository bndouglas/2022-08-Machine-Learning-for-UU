{
 "cells": [
  {
   "cell_type": "markdown",
   "id": "f4d6a8ef-64a4-42d0-bcaa-7a588ad8abb7",
   "metadata": {},
   "source": [
    "<h1 style='color: #C9C9C9'>Machine Learning with Python<img style=\"float: right; margin-top: 0;\" width=\"240\" src=\"../../Images/cf-logo.png\" /></h1> \n",
    "<p style='color: #C9C9C9'>&copy; Coding Fury 2022 - all rights reserved</p>\n",
    "\n",
    "<hr style='color: #C9C9C9' />"
   ]
  },
  {
   "cell_type": "markdown",
   "id": "788da1e7",
   "metadata": {},
   "source": [
    "# The Iris Dataset\n",
    "\n",
    "![Iris Flowers](../../Images/iris-machinelearning.png)\n",
    "\n",
    "The Iris Dataset provides 4 measurements from each iris flower: \n",
    "- Petal length and width\n",
    "- Sepal length and width\n",
    "\n",
    "Based on these 4 variables, it should be possible to predict which of 3 varieties any given iris flower is.\n"
   ]
  },
  {
   "cell_type": "markdown",
   "id": "8bfba28c-c0e8-4363-8468-4b07981805de",
   "metadata": {
    "tags": []
   },
   "source": [
    "# Classification with k-Nearest Neighbors\n",
    "\n",
    "Documentation: https://scikit-learn.org/stable/modules/generated/sklearn.neighbors.KNeighborsClassifier.html\n",
    "\n",
    "Note that you will choose a value for k. In the case of the iris dataset, the flowers are grouped into 3 classes, so k=3.\n",
    "* Any new data point will be assigned a category based on the 3 closest data points in the training set.\n",
    "* knn uses a majority vote to determine which category to put the new point into. "
   ]
  },
  {
   "cell_type": "code",
   "execution_count": 3,
   "id": "cfc8acc9-2392-4c39-a62c-c276e611cc09",
   "metadata": {},
   "outputs": [],
   "source": [
    "import pandas as pd\n",
    "import numpy as np"
   ]
  },
  {
   "cell_type": "code",
   "execution_count": 7,
   "id": "581f03fd-b507-4cd9-9601-117dd2fc0815",
   "metadata": {},
   "outputs": [
    {
     "ename": "FileNotFoundError",
     "evalue": "[Errno 2] No such file or directory: '../../Data/iris.csv'",
     "output_type": "error",
     "traceback": [
      "\u001b[0;31m---------------------------------------------------------------------------\u001b[0m",
      "\u001b[0;31mFileNotFoundError\u001b[0m                         Traceback (most recent call last)",
      "\u001b[1;32m/Users/briandouglas/code/jupyter/PythonTraining/Machine Learning with Python/SciKit Learn v2/Notebooks/12 - SciKit Learn - Classification.ipynb Cell 5\u001b[0m in \u001b[0;36m<cell line: 1>\u001b[0;34m()\u001b[0m\n\u001b[0;32m----> <a href='vscode-notebook-cell:/Users/briandouglas/code/jupyter/PythonTraining/Machine%20Learning%20with%20Python/SciKit%20Learn%20v2/Notebooks/12%20-%20SciKit%20Learn%20-%20Classification.ipynb#W3sZmlsZQ%3D%3D?line=0'>1</a>\u001b[0m iris_df \u001b[39m=\u001b[39m pd\u001b[39m.\u001b[39;49mread_csv(\u001b[39m\"\u001b[39;49m\u001b[39m../../Data/iris.csv\u001b[39;49m\u001b[39m\"\u001b[39;49m)\n",
      "File \u001b[0;32m/Library/Frameworks/Python.framework/Versions/3.10/lib/python3.10/site-packages/pandas/io/parsers.py:688\u001b[0m, in \u001b[0;36mread_csv\u001b[0;34m(filepath_or_buffer, sep, delimiter, header, names, index_col, usecols, squeeze, prefix, mangle_dupe_cols, dtype, engine, converters, true_values, false_values, skipinitialspace, skiprows, skipfooter, nrows, na_values, keep_default_na, na_filter, verbose, skip_blank_lines, parse_dates, infer_datetime_format, keep_date_col, date_parser, dayfirst, cache_dates, iterator, chunksize, compression, thousands, decimal, lineterminator, quotechar, quoting, doublequote, escapechar, comment, encoding, dialect, error_bad_lines, warn_bad_lines, delim_whitespace, low_memory, memory_map, float_precision)\u001b[0m\n\u001b[1;32m    635\u001b[0m     engine_specified \u001b[39m=\u001b[39m \u001b[39mFalse\u001b[39;00m\n\u001b[1;32m    637\u001b[0m kwds\u001b[39m.\u001b[39mupdate(\n\u001b[1;32m    638\u001b[0m     delimiter\u001b[39m=\u001b[39mdelimiter,\n\u001b[1;32m    639\u001b[0m     engine\u001b[39m=\u001b[39mengine,\n\u001b[0;32m   (...)\u001b[0m\n\u001b[1;32m    685\u001b[0m     skip_blank_lines\u001b[39m=\u001b[39mskip_blank_lines,\n\u001b[1;32m    686\u001b[0m )\n\u001b[0;32m--> 688\u001b[0m \u001b[39mreturn\u001b[39;00m _read(filepath_or_buffer, kwds)\n",
      "File \u001b[0;32m/Library/Frameworks/Python.framework/Versions/3.10/lib/python3.10/site-packages/pandas/io/parsers.py:454\u001b[0m, in \u001b[0;36m_read\u001b[0;34m(filepath_or_buffer, kwds)\u001b[0m\n\u001b[1;32m    451\u001b[0m _validate_names(kwds\u001b[39m.\u001b[39mget(\u001b[39m\"\u001b[39m\u001b[39mnames\u001b[39m\u001b[39m\"\u001b[39m, \u001b[39mNone\u001b[39;00m))\n\u001b[1;32m    453\u001b[0m \u001b[39m# Create the parser.\u001b[39;00m\n\u001b[0;32m--> 454\u001b[0m parser \u001b[39m=\u001b[39m TextFileReader(fp_or_buf, \u001b[39m*\u001b[39;49m\u001b[39m*\u001b[39;49mkwds)\n\u001b[1;32m    456\u001b[0m \u001b[39mif\u001b[39;00m chunksize \u001b[39mor\u001b[39;00m iterator:\n\u001b[1;32m    457\u001b[0m     \u001b[39mreturn\u001b[39;00m parser\n",
      "File \u001b[0;32m/Library/Frameworks/Python.framework/Versions/3.10/lib/python3.10/site-packages/pandas/io/parsers.py:948\u001b[0m, in \u001b[0;36mTextFileReader.__init__\u001b[0;34m(self, f, engine, **kwds)\u001b[0m\n\u001b[1;32m    945\u001b[0m \u001b[39mif\u001b[39;00m \u001b[39m\"\u001b[39m\u001b[39mhas_index_names\u001b[39m\u001b[39m\"\u001b[39m \u001b[39min\u001b[39;00m kwds:\n\u001b[1;32m    946\u001b[0m     \u001b[39mself\u001b[39m\u001b[39m.\u001b[39moptions[\u001b[39m\"\u001b[39m\u001b[39mhas_index_names\u001b[39m\u001b[39m\"\u001b[39m] \u001b[39m=\u001b[39m kwds[\u001b[39m\"\u001b[39m\u001b[39mhas_index_names\u001b[39m\u001b[39m\"\u001b[39m]\n\u001b[0;32m--> 948\u001b[0m \u001b[39mself\u001b[39;49m\u001b[39m.\u001b[39;49m_make_engine(\u001b[39mself\u001b[39;49m\u001b[39m.\u001b[39;49mengine)\n",
      "File \u001b[0;32m/Library/Frameworks/Python.framework/Versions/3.10/lib/python3.10/site-packages/pandas/io/parsers.py:1180\u001b[0m, in \u001b[0;36mTextFileReader._make_engine\u001b[0;34m(self, engine)\u001b[0m\n\u001b[1;32m   1178\u001b[0m \u001b[39mdef\u001b[39;00m \u001b[39m_make_engine\u001b[39m(\u001b[39mself\u001b[39m, engine\u001b[39m=\u001b[39m\u001b[39m\"\u001b[39m\u001b[39mc\u001b[39m\u001b[39m\"\u001b[39m):\n\u001b[1;32m   1179\u001b[0m     \u001b[39mif\u001b[39;00m engine \u001b[39m==\u001b[39m \u001b[39m\"\u001b[39m\u001b[39mc\u001b[39m\u001b[39m\"\u001b[39m:\n\u001b[0;32m-> 1180\u001b[0m         \u001b[39mself\u001b[39m\u001b[39m.\u001b[39m_engine \u001b[39m=\u001b[39m CParserWrapper(\u001b[39mself\u001b[39;49m\u001b[39m.\u001b[39;49mf, \u001b[39m*\u001b[39;49m\u001b[39m*\u001b[39;49m\u001b[39mself\u001b[39;49m\u001b[39m.\u001b[39;49moptions)\n\u001b[1;32m   1181\u001b[0m     \u001b[39melse\u001b[39;00m:\n\u001b[1;32m   1182\u001b[0m         \u001b[39mif\u001b[39;00m engine \u001b[39m==\u001b[39m \u001b[39m\"\u001b[39m\u001b[39mpython\u001b[39m\u001b[39m\"\u001b[39m:\n",
      "File \u001b[0;32m/Library/Frameworks/Python.framework/Versions/3.10/lib/python3.10/site-packages/pandas/io/parsers.py:2010\u001b[0m, in \u001b[0;36mCParserWrapper.__init__\u001b[0;34m(self, src, **kwds)\u001b[0m\n\u001b[1;32m   2007\u001b[0m \u001b[39mself\u001b[39m\u001b[39m.\u001b[39musecols, \u001b[39mself\u001b[39m\u001b[39m.\u001b[39musecols_dtype \u001b[39m=\u001b[39m _validate_usecols_arg(kwds[\u001b[39m\"\u001b[39m\u001b[39musecols\u001b[39m\u001b[39m\"\u001b[39m])\n\u001b[1;32m   2008\u001b[0m kwds[\u001b[39m\"\u001b[39m\u001b[39musecols\u001b[39m\u001b[39m\"\u001b[39m] \u001b[39m=\u001b[39m \u001b[39mself\u001b[39m\u001b[39m.\u001b[39musecols\n\u001b[0;32m-> 2010\u001b[0m \u001b[39mself\u001b[39m\u001b[39m.\u001b[39m_reader \u001b[39m=\u001b[39m parsers\u001b[39m.\u001b[39;49mTextReader(src, \u001b[39m*\u001b[39;49m\u001b[39m*\u001b[39;49mkwds)\n\u001b[1;32m   2011\u001b[0m \u001b[39mself\u001b[39m\u001b[39m.\u001b[39munnamed_cols \u001b[39m=\u001b[39m \u001b[39mself\u001b[39m\u001b[39m.\u001b[39m_reader\u001b[39m.\u001b[39munnamed_cols\n\u001b[1;32m   2013\u001b[0m passed_names \u001b[39m=\u001b[39m \u001b[39mself\u001b[39m\u001b[39m.\u001b[39mnames \u001b[39mis\u001b[39;00m \u001b[39mNone\u001b[39;00m\n",
      "File \u001b[0;32mpandas/_libs/parsers.pyx:382\u001b[0m, in \u001b[0;36mpandas._libs.parsers.TextReader.__cinit__\u001b[0;34m()\u001b[0m\n",
      "File \u001b[0;32mpandas/_libs/parsers.pyx:674\u001b[0m, in \u001b[0;36mpandas._libs.parsers.TextReader._setup_parser_source\u001b[0;34m()\u001b[0m\n",
      "\u001b[0;31mFileNotFoundError\u001b[0m: [Errno 2] No such file or directory: '../../Data/iris.csv'"
     ]
    }
   ],
   "source": [
    "iris_df = pd.read_csv(\"../../Data/iris.csv\")"
   ]
  },
  {
   "cell_type": "code",
   "execution_count": 5,
   "id": "d699fcd7-7c77-4f44-9d55-d4654a4846db",
   "metadata": {},
   "outputs": [
    {
     "data": {
      "text/html": [
       "<div>\n",
       "<style scoped>\n",
       "    .dataframe tbody tr th:only-of-type {\n",
       "        vertical-align: middle;\n",
       "    }\n",
       "\n",
       "    .dataframe tbody tr th {\n",
       "        vertical-align: top;\n",
       "    }\n",
       "\n",
       "    .dataframe thead th {\n",
       "        text-align: right;\n",
       "    }\n",
       "</style>\n",
       "<table border=\"1\" class=\"dataframe\">\n",
       "  <thead>\n",
       "    <tr style=\"text-align: right;\">\n",
       "      <th></th>\n",
       "      <th>Id</th>\n",
       "      <th>SepalLengthCm</th>\n",
       "      <th>SepalWidthCm</th>\n",
       "      <th>PetalLengthCm</th>\n",
       "      <th>PetalWidthCm</th>\n",
       "      <th>Species</th>\n",
       "    </tr>\n",
       "  </thead>\n",
       "  <tbody>\n",
       "    <tr>\n",
       "      <th>0</th>\n",
       "      <td>1</td>\n",
       "      <td>5.1</td>\n",
       "      <td>3.5</td>\n",
       "      <td>1.4</td>\n",
       "      <td>0.2</td>\n",
       "      <td>Iris-setosa</td>\n",
       "    </tr>\n",
       "    <tr>\n",
       "      <th>1</th>\n",
       "      <td>2</td>\n",
       "      <td>4.9</td>\n",
       "      <td>3.0</td>\n",
       "      <td>1.4</td>\n",
       "      <td>0.2</td>\n",
       "      <td>Iris-setosa</td>\n",
       "    </tr>\n",
       "    <tr>\n",
       "      <th>2</th>\n",
       "      <td>3</td>\n",
       "      <td>4.7</td>\n",
       "      <td>3.2</td>\n",
       "      <td>1.3</td>\n",
       "      <td>0.2</td>\n",
       "      <td>Iris-setosa</td>\n",
       "    </tr>\n",
       "    <tr>\n",
       "      <th>3</th>\n",
       "      <td>4</td>\n",
       "      <td>4.6</td>\n",
       "      <td>3.1</td>\n",
       "      <td>1.5</td>\n",
       "      <td>0.2</td>\n",
       "      <td>Iris-setosa</td>\n",
       "    </tr>\n",
       "    <tr>\n",
       "      <th>4</th>\n",
       "      <td>5</td>\n",
       "      <td>5.0</td>\n",
       "      <td>3.6</td>\n",
       "      <td>1.4</td>\n",
       "      <td>0.2</td>\n",
       "      <td>Iris-setosa</td>\n",
       "    </tr>\n",
       "    <tr>\n",
       "      <th>...</th>\n",
       "      <td>...</td>\n",
       "      <td>...</td>\n",
       "      <td>...</td>\n",
       "      <td>...</td>\n",
       "      <td>...</td>\n",
       "      <td>...</td>\n",
       "    </tr>\n",
       "    <tr>\n",
       "      <th>145</th>\n",
       "      <td>146</td>\n",
       "      <td>6.7</td>\n",
       "      <td>3.0</td>\n",
       "      <td>5.2</td>\n",
       "      <td>2.3</td>\n",
       "      <td>Iris-virginica</td>\n",
       "    </tr>\n",
       "    <tr>\n",
       "      <th>146</th>\n",
       "      <td>147</td>\n",
       "      <td>6.3</td>\n",
       "      <td>2.5</td>\n",
       "      <td>5.0</td>\n",
       "      <td>1.9</td>\n",
       "      <td>Iris-virginica</td>\n",
       "    </tr>\n",
       "    <tr>\n",
       "      <th>147</th>\n",
       "      <td>148</td>\n",
       "      <td>6.5</td>\n",
       "      <td>3.0</td>\n",
       "      <td>5.2</td>\n",
       "      <td>2.0</td>\n",
       "      <td>Iris-virginica</td>\n",
       "    </tr>\n",
       "    <tr>\n",
       "      <th>148</th>\n",
       "      <td>149</td>\n",
       "      <td>6.2</td>\n",
       "      <td>3.4</td>\n",
       "      <td>5.4</td>\n",
       "      <td>2.3</td>\n",
       "      <td>Iris-virginica</td>\n",
       "    </tr>\n",
       "    <tr>\n",
       "      <th>149</th>\n",
       "      <td>150</td>\n",
       "      <td>5.9</td>\n",
       "      <td>3.0</td>\n",
       "      <td>5.1</td>\n",
       "      <td>1.8</td>\n",
       "      <td>Iris-virginica</td>\n",
       "    </tr>\n",
       "  </tbody>\n",
       "</table>\n",
       "<p>150 rows × 6 columns</p>\n",
       "</div>"
      ],
      "text/plain": [
       "      Id  SepalLengthCm  SepalWidthCm  PetalLengthCm  PetalWidthCm  \\\n",
       "0      1            5.1           3.5            1.4           0.2   \n",
       "1      2            4.9           3.0            1.4           0.2   \n",
       "2      3            4.7           3.2            1.3           0.2   \n",
       "3      4            4.6           3.1            1.5           0.2   \n",
       "4      5            5.0           3.6            1.4           0.2   \n",
       "..   ...            ...           ...            ...           ...   \n",
       "145  146            6.7           3.0            5.2           2.3   \n",
       "146  147            6.3           2.5            5.0           1.9   \n",
       "147  148            6.5           3.0            5.2           2.0   \n",
       "148  149            6.2           3.4            5.4           2.3   \n",
       "149  150            5.9           3.0            5.1           1.8   \n",
       "\n",
       "            Species  \n",
       "0       Iris-setosa  \n",
       "1       Iris-setosa  \n",
       "2       Iris-setosa  \n",
       "3       Iris-setosa  \n",
       "4       Iris-setosa  \n",
       "..              ...  \n",
       "145  Iris-virginica  \n",
       "146  Iris-virginica  \n",
       "147  Iris-virginica  \n",
       "148  Iris-virginica  \n",
       "149  Iris-virginica  \n",
       "\n",
       "[150 rows x 6 columns]"
      ]
     },
     "execution_count": 5,
     "metadata": {},
     "output_type": "execute_result"
    }
   ],
   "source": [
    "iris_df"
   ]
  },
  {
   "cell_type": "code",
   "execution_count": 6,
   "id": "3112df60-06ac-42ad-80b1-5bac6cc112f2",
   "metadata": {},
   "outputs": [
    {
     "name": "stdout",
     "output_type": "stream",
     "text": [
      "<class 'pandas.core.frame.DataFrame'>\n",
      "RangeIndex: 150 entries, 0 to 149\n",
      "Data columns (total 6 columns):\n",
      " #   Column         Non-Null Count  Dtype  \n",
      "---  ------         --------------  -----  \n",
      " 0   Id             150 non-null    int64  \n",
      " 1   SepalLengthCm  150 non-null    float64\n",
      " 2   SepalWidthCm   150 non-null    float64\n",
      " 3   PetalLengthCm  150 non-null    float64\n",
      " 4   PetalWidthCm   150 non-null    float64\n",
      " 5   Species        150 non-null    object \n",
      "dtypes: float64(4), int64(1), object(1)\n",
      "memory usage: 7.2+ KB\n"
     ]
    }
   ],
   "source": [
    "iris_df.info()"
   ]
  },
  {
   "cell_type": "markdown",
   "id": "5bfcbbcc-20d4-4b3b-8af1-f13c80ef15f1",
   "metadata": {},
   "source": [
    "\n",
    "**Note**\n",
    "no missing values in any columns"
   ]
  },
  {
   "cell_type": "markdown",
   "id": "ca6c5b10-442d-438d-b865-420e0cd4db6c",
   "metadata": {},
   "source": [
    "# Initial Look\n",
    "\n",
    "Let's have an initial look at the data to see if the \"features\" we have can be used to determine the species of iris"
   ]
  },
  {
   "cell_type": "code",
   "execution_count": 2,
   "id": "edc3709f-635e-4d18-9620-0c91f6f1d2df",
   "metadata": {},
   "outputs": [
    {
     "ename": "NameError",
     "evalue": "name 'iris_df' is not defined",
     "output_type": "error",
     "traceback": [
      "\u001b[0;31m---------------------------------------------------------------------------\u001b[0m",
      "\u001b[0;31mNameError\u001b[0m                                 Traceback (most recent call last)",
      "\u001b[1;32m/Users/briandouglas/code/jupyter/PythonTraining/Machine Learning with Python/SciKit Learn v2/Notebooks/12 - SciKit Learn - Classification.ipynb Cell 10\u001b[0m in \u001b[0;36m<cell line: 1>\u001b[0;34m()\u001b[0m\n\u001b[0;32m----> <a href='vscode-notebook-cell:/Users/briandouglas/code/jupyter/PythonTraining/Machine%20Learning%20with%20Python/SciKit%20Learn%20v2/Notebooks/12%20-%20SciKit%20Learn%20-%20Classification.ipynb#X11sZmlsZQ%3D%3D?line=0'>1</a>\u001b[0m iris_df\u001b[39m.\u001b[39minfo()\n",
      "\u001b[0;31mNameError\u001b[0m: name 'iris_df' is not defined"
     ]
    }
   ],
   "source": [
    "iris_df.info()"
   ]
  },
  {
   "cell_type": "markdown",
   "id": "a134c5a8-e0ac-46ba-bb55-033c0ec06883",
   "metadata": {},
   "source": [
    "## We need the Species to be numerical for charting - convert it to a Category"
   ]
  },
  {
   "cell_type": "code",
   "execution_count": 71,
   "id": "b65d9d66-3495-45ba-be43-d8a4d508b0bc",
   "metadata": {},
   "outputs": [],
   "source": [
    "iris_df[\"Category\"] = iris_df[\"Species\"].astype(\"category\") # a category is a bit like an enum in programming. It's numerical under the hood. "
   ]
  },
  {
   "cell_type": "markdown",
   "id": "ff5b4734-717c-44e0-9d11-03bdd0ef993f",
   "metadata": {},
   "source": [
    "## Do Sepal measurements help when predicting species? "
   ]
  },
  {
   "cell_type": "code",
   "execution_count": 19,
   "id": "7666990c-c53d-4b31-8357-04533c8b4806",
   "metadata": {
    "tags": []
   },
   "outputs": [],
   "source": [
    "import seaborn as sns"
   ]
  },
  {
   "cell_type": "code",
   "execution_count": 27,
   "id": "489145b6-75b7-4e1f-aa56-5de86e64b3bb",
   "metadata": {
    "tags": []
   },
   "outputs": [
    {
     "data": {
      "text/plain": [
       "<seaborn.axisgrid.FacetGrid at 0x7fe3909be880>"
      ]
     },
     "execution_count": 27,
     "metadata": {},
     "output_type": "execute_result"
    },
    {
     "data": {
      "image/png": "[encoded data removed]",
      "text/plain": [
       "<Figure size 463.25x360 with 1 Axes>"
      ]
     },
     "metadata": {
      "needs_background": "light"
     },
     "output_type": "display_data"
    }
   ],
   "source": [
    "sns.catplot(x=\"SepalLengthCm\", y=\"SepalWidthCm\", data=iris_df, hue='Species')"
   ]
  },
  {
   "cell_type": "code",
   "execution_count": null,
   "id": "25aaa5a0-547a-40a0-8e1b-9655b7515328",
   "metadata": {
    "tags": []
   },
   "outputs": [],
   "source": [
    "\n",
    "iris_df.plot(x=\"SepalLengthCm\", y=\"SepalWidthCm\", kind=\"scatter\", c=\"Category\", cmap=\"Set3\")"
   ]
  },
  {
   "cell_type": "markdown",
   "id": "b8e5ceaa-6afe-4380-9177-00379e69118d",
   "metadata": {},
   "source": [
    "ColorMaps: https://matplotlib.org/stable/gallery/color/colormap_reference.html"
   ]
  },
  {
   "cell_type": "markdown",
   "id": "1b0db08d-77f5-4117-aeb6-59ee4b666c49",
   "metadata": {},
   "source": [
    "### No, not really\n",
    "\n",
    "## Do Petal measurements help when predicting species? \n"
   ]
  },
  {
   "cell_type": "code",
   "execution_count": 28,
   "id": "0503a1f7-8e44-41d8-8761-e117937a68a5",
   "metadata": {},
   "outputs": [
    {
     "data": {
      "text/plain": [
       "<seaborn.axisgrid.FacetGrid at 0x7fe3d0bbfbb0>"
      ]
     },
     "execution_count": 28,
     "metadata": {},
     "output_type": "execute_result"
    },
    {
     "data": {
      "image/png": "[encoded data removed]",
      "text/plain": [
       "<Figure size 463.25x360 with 1 Axes>"
      ]
     },
     "metadata": {
      "needs_background": "light"
     },
     "output_type": "display_data"
    }
   ],
   "source": [
    "sns.catplot(x=\"PetalLengthCm\", y=\"PetalWidthCm\", data=iris_df, hue='Species')"
   ]
  },
  {
   "cell_type": "code",
   "execution_count": null,
   "id": "145af0af-2aa4-4ffe-8e61-8fd8e1bb55b1",
   "metadata": {
    "tags": []
   },
   "outputs": [],
   "source": [
    "iris_df.plot(x=\"PetalLengthCm\", y=\"PetalWidthCm\", kind=\"scatter\", c=\"Category\", cmap='Set3')\n"
   ]
  },
  {
   "cell_type": "markdown",
   "id": "6bdd6be2-b031-4a18-89e6-e90cb7327b4e",
   "metadata": {},
   "source": [
    "### Yes! We can work with that!\n",
    "\n",
    "---"
   ]
  },
  {
   "cell_type": "markdown",
   "id": "32ee5bb9-d4ba-4264-92dd-e621ae0804db",
   "metadata": {},
   "source": [
    "# Train the kNN model"
   ]
  },
  {
   "cell_type": "code",
   "execution_count": 29,
   "id": "67769a7e-50dc-46a7-acb9-53055a980237",
   "metadata": {},
   "outputs": [],
   "source": [
    "from sklearn.neighbors import KNeighborsClassifier"
   ]
  },
  {
   "cell_type": "code",
   "execution_count": 30,
   "id": "275c72a9-6c58-4d4a-a7b7-747940a06aec",
   "metadata": {},
   "outputs": [],
   "source": [
    "features = [\"PetalLengthCm\",\"PetalWidthCm\"]"
   ]
  },
  {
   "cell_type": "code",
   "execution_count": null,
   "id": "b262112b-3f07-401a-973c-e64ea97e81ea",
   "metadata": {},
   "outputs": [],
   "source": []
  },
  {
   "cell_type": "code",
   "execution_count": 33,
   "id": "91a2e7e0-3717-404d-a752-659cfaad3bf3",
   "metadata": {},
   "outputs": [],
   "source": [
    "X = iris_df[features].values # this is the contents of the column as a numpy array\n",
    "y = iris_df[\"Species\"].values"
   ]
  },
  {
   "cell_type": "code",
   "execution_count": 34,
   "id": "9541429a-2de4-49ff-a4d8-d30f1624da6b",
   "metadata": {},
   "outputs": [
    {
     "name": "stdout",
     "output_type": "stream",
     "text": [
      "(150, 2) (150,)\n"
     ]
    }
   ],
   "source": [
    "print(X.shape, y.shape)"
   ]
  },
  {
   "cell_type": "code",
   "execution_count": 59,
   "id": "0f2fa4c1-0ff5-45b5-8346-8a3ab7542887",
   "metadata": {},
   "outputs": [],
   "source": [
    "knn = KNeighborsClassifier(n_neighbors=5)"
   ]
  },
  {
   "cell_type": "code",
   "execution_count": 54,
   "id": "98dae4e7-3327-435e-964f-e807f859bee3",
   "metadata": {},
   "outputs": [
    {
     "data": {
      "text/plain": [
       "KNeighborsClassifier()"
      ]
     },
     "execution_count": 54,
     "metadata": {},
     "output_type": "execute_result"
    }
   ],
   "source": [
    "knn.fit(X,y)"
   ]
  },
  {
   "cell_type": "code",
   "execution_count": 55,
   "id": "ace2d83c-9845-429e-a1cf-3a9a500a5a1f",
   "metadata": {},
   "outputs": [],
   "source": [
    "X_new = np.array([\n",
    "    [2,0.2],\n",
    "    [1.4,0.3],\n",
    "    [3.9,3.7],\n",
    "    [4.6, 1.4]\n",
    "    ])"
   ]
  },
  {
   "cell_type": "code",
   "execution_count": 51,
   "id": "b12896e0-1128-40d0-a1a2-2e4e452115ff",
   "metadata": {},
   "outputs": [],
   "source": [
    "predictions = knn.predict(X_new)"
   ]
  },
  {
   "cell_type": "code",
   "execution_count": 52,
   "id": "ee052425-9b6a-4413-85c4-0d12b712b091",
   "metadata": {},
   "outputs": [
    {
     "data": {
      "text/plain": [
       "array(['Iris-setosa', 'Iris-setosa', 'Iris-virginica', 'Iris-versicolor'],\n",
       "      dtype=object)"
      ]
     },
     "execution_count": 52,
     "metadata": {},
     "output_type": "execute_result"
    }
   ],
   "source": [
    "predictions"
   ]
  },
  {
   "cell_type": "markdown",
   "id": "82304333-e7bd-48b4-96b5-b83c4b61033e",
   "metadata": {},
   "source": [
    "___\n",
    "\n",
    "# How good is our model? "
   ]
  },
  {
   "cell_type": "markdown",
   "id": "35123336-6ece-4f17-9be5-22f4b50ba1b8",
   "metadata": {},
   "source": [
    "## Measuring Model Performance\n",
    "\n",
    "In order to measure the performance of our model we need to: \n",
    "\n",
    "1. Get some data that's not part of our training set, for which we know the target value.\n",
    "2. The easiest way to achieve this is to split our dataset in two parts. We'll use 70% of it for training, and we'll withhold 30% for testing.\n",
    "3. Measure how well our predictions fared against the correct answer, by calculating the accuracy.\n",
    "\n",
    "$$ accuracy = \\frac{correct \\space predictions}{total \\space observations} $$"
   ]
  },
  {
   "cell_type": "markdown",
   "id": "0b734325-98a3-437c-8c44-868151b92498",
   "metadata": {},
   "source": [
    "## Splitting data into Training and Test"
   ]
  },
  {
   "cell_type": "code",
   "execution_count": 56,
   "id": "bb83a82c-1393-46db-b272-dda40b2ac186",
   "metadata": {},
   "outputs": [],
   "source": [
    "from sklearn.model_selection import train_test_split"
   ]
  },
  {
   "cell_type": "code",
   "execution_count": 57,
   "id": "1370d638-6862-4aae-bef1-f623c9a6c833",
   "metadata": {},
   "outputs": [],
   "source": [
    "X_train, X_test, y_train, y_test = train_test_split(X, y, test_size=0.3, random_state=21, stratify=y)"
   ]
  },
  {
   "cell_type": "markdown",
   "id": "776cea55-0738-4e48-a7a6-99d7ccc2be7c",
   "metadata": {},
   "source": [
    "## Explanation\n",
    "\n",
    "```test_size=0.3``` \n",
    "\n",
    "> This sets 30% of our data as test set i.e. 70% will be used to train our model\n",
    "\n",
    "```random_state=21```\n",
    "\n",
    "> This is a seed for a random number generator that splits the data i.e. test rows are selected at random based on the seed. \n",
    ">  Choosing the same number will guarantee the same rows are selected for the split each time, making our program repeatable, with the same rows in the training and test set each time.\n",
    "\n",
    "```stratify=y```\n",
    "\n",
    "> This guarantees that proportion of rows that have setosa, virginica and versicolor are the same in both the training and test data sets. \n",
    "\n",
    "**RETURENED VALUES**\n",
    "\n",
    "The data is returned as a tuple that contains 4 variales\n",
    "\n",
    "```X_train``` \n",
    "> this is the training data\n",
    "\n",
    "```X_test```\n",
    "> this is the test data\n",
    "\n",
    "```y_train```\n",
    "> the traing data labels labels (in this case the species)\n",
    "\n",
    "```y_test```\n",
    "> the test data labels\n"
   ]
  },
  {
   "cell_type": "markdown",
   "id": "481a965a-69cd-4b61-9dc7-c4c10352dfb2",
   "metadata": {},
   "source": [
    "## Calculating the accuracy score"
   ]
  },
  {
   "cell_type": "code",
   "execution_count": 58,
   "id": "e99814e4-f308-49b9-b3e3-cd91a0050112",
   "metadata": {},
   "outputs": [
    {
     "data": {
      "text/plain": [
       "0.9777777777777777"
      ]
     },
     "execution_count": 58,
     "metadata": {},
     "output_type": "execute_result"
    }
   ],
   "source": [
    "knn.score(X_test, y_test)"
   ]
  },
  {
   "cell_type": "markdown",
   "id": "d63a270d-0701-4257-a00d-e5f1b2231041",
   "metadata": {},
   "source": [
    "Our accuracy is therefore 97.8%, which is high, but could we have done better?\n",
    "\n",
    "Can you improve the accuracy by changing the value of ```n_neighbors```? Try different values. Start with 3, and gradually increase the number"
   ]
  },
  {
   "cell_type": "markdown",
   "id": "a8052f96-f2c1-48e9-8c4c-945a7a138284",
   "metadata": {},
   "source": [
    "\n",
    "k is large\n",
    "* less complex model\n",
    "* new observations are compared against a large number of neighbors\n",
    "* can cause underfitting\n",
    "\n",
    "k is small \n",
    "* more complex model \n",
    "* new observations are compared against a small number of neighbors\n",
    "* can cause overfitting i.e. one erroneous value could strongly impact a prediction"
   ]
  },
  {
   "cell_type": "code",
   "execution_count": 60,
   "id": "55826524-9544-4f77-80d9-a0659a78ef0c",
   "metadata": {},
   "outputs": [],
   "source": [
    "train_accuracies = {}\n",
    "test_accuracies = {}\n",
    "neighbors = np.arange(1,31)"
   ]
  },
  {
   "cell_type": "code",
   "execution_count": 61,
   "id": "ab010d18-b0d5-4c02-9f95-6d3f3dabdd67",
   "metadata": {},
   "outputs": [],
   "source": [
    "for neighbor in neighbors:\n",
    "    knn = KNeighborsClassifier(n_neighbors=neighbor)\n",
    "    knn.fit(X_train, y_train)\n",
    "    train_accuracies[neighbor] = knn.score(X_train, y_train)\n",
    "    test_accuracies[neighbor] = knn.score(X_test, y_test)"
   ]
  },
  {
   "cell_type": "code",
   "execution_count": null,
   "id": "997f4f54-73fc-4ff7-a421-db420e8f223c",
   "metadata": {},
   "outputs": [],
   "source": []
  },
  {
   "cell_type": "markdown",
   "id": "07929535-0c31-44e9-8be8-4850c88cf98c",
   "metadata": {},
   "source": [
    "## Plotting the accuracy for each value of n_neighbors\n",
    "\n",
    "## Model Complexity Curve"
   ]
  },
  {
   "cell_type": "code",
   "execution_count": 64,
   "id": "67a30d2d-ca88-4429-8b07-39cb072a199a",
   "metadata": {},
   "outputs": [
    {
     "data": {
      "image/png": "[encoded data removed]",
      "text/plain": [
       "<Figure size 720x576 with 1 Axes>"
      ]
     },
     "metadata": {
      "needs_background": "light"
     },
     "output_type": "display_data"
    }
   ],
   "source": [
    "import matplotlib.pyplot as plt\n",
    "\n",
    "plt.figure(figsize=(10,8))\n",
    "plt.title(\"KNN\")\n",
    "plt.plot(neighbors, train_accuracies.values(), label=\"Training Accuracy\")\n",
    "plt.plot(neighbors, test_accuracies.values(), label=\"Testing Accuracy\")\n",
    "plt.legend()\n",
    "plt.xlabel(\"Number of Neighbors\")\n",
    "plt.ylabel(\"Accuracy\")\n",
    "plt.show()"
   ]
  },
  {
   "cell_type": "markdown",
   "id": "cc6c976e-ea3b-4182-beea-ce6fb34575e0",
   "metadata": {},
   "source": [
    "For this dataset most the values of n_neighbors offer a good fit. \n",
    "\n",
    "The peak test accuracy occurs at neighbours=4\n",
    "\n",
    "Ideally the Training data should be a better fit than the test data, so this indicates that our sample size of 150 records probably isn't big enough. \n",
    "\n",
    "An example of the kind of chart we would expect to see is shown below\n",
    "\n",
    "![Model Complexity Curve](../Images/knn-model-complexity-curve.png)\n",
    "\n"
   ]
  },
  {
   "cell_type": "markdown",
   "id": "61c315c0-ce71-4d85-951d-d3c765e2a637",
   "metadata": {},
   "source": [
    "# Plot decision boundaries\n",
    "\n",
    "To plot Desicion boundaries you need to make a meshgrid. You can use np.meshgrid to do this. np.meshgrid requires min and max values of X and Y and a meshstep size parameter. It is sometimes prudent to make the minimal values a bit lower then the minimal value of x and y and the max value a bit higher.\n",
    "\n"
   ]
  },
  {
   "cell_type": "code",
   "execution_count": 65,
   "id": "5f805a19-dc18-4904-8c87-6c3ef4ebd480",
   "metadata": {},
   "outputs": [],
   "source": [
    "h = .02  # step size in the mesh"
   ]
  },
  {
   "cell_type": "code",
   "execution_count": 66,
   "id": "ca0ea88b-6125-4b82-8fff-b3ec4c9672af",
   "metadata": {},
   "outputs": [],
   "source": [
    "x_min, x_max = X[:, 0].min() - 1, X[:, 0].max() + 1\n",
    "y_min, y_max = X[:, 1].min() - 1, X[:, 1].max() + 1\n"
   ]
  },
  {
   "cell_type": "code",
   "execution_count": 67,
   "id": "959617bf-2596-4c45-8fc6-0aa2d15f06d5",
   "metadata": {},
   "outputs": [],
   "source": [
    "xx, yy = np.meshgrid(np.arange(x_min, x_max, h),\n",
    "                 np.arange(y_min, y_max, h))\n"
   ]
  },
  {
   "cell_type": "markdown",
   "id": "de2cafae-aa59-4337-a155-90543a589591",
   "metadata": {},
   "source": [
    "You then feed your classifier your meshgrid like so ```Z=knn.predict(np.c_[xx.ravel(), yy.ravel()])```\n",
    "\n",
    "You need to reshape the output of this to be the same format as your original meshgrid \n",
    "\n",
    "```Z = Z.reshape(xx.shape)```\n",
    "\n",
    "Finally when you are making your plot you need to call ```plt.pcolormesh(xx, yy, Z, cmap=cmap_light)``` \n",
    "\n",
    "This will make the decision boundaries visible in your plot.\n"
   ]
  },
  {
   "cell_type": "code",
   "execution_count": 68,
   "id": "e4700203-5622-4271-906d-417a09a45e1e",
   "metadata": {},
   "outputs": [],
   "source": [
    "# Create color maps\n",
    "from matplotlib.colors import ListedColormap, LinearSegmentedColormap\n",
    "\n",
    "cmap_light = ListedColormap(['#FFAAAA', '#AAFFAA', '#AAAAFF'])\n",
    "cmap_bold = ListedColormap(['#FF0000', '#00FF00', '#0000FF'])\n"
   ]
  },
  {
   "cell_type": "code",
   "execution_count": 69,
   "id": "16278208-21ed-4310-8eaa-b441018c89dd",
   "metadata": {},
   "outputs": [
    {
     "data": {
      "text/plain": [
       "numpy.ndarray"
      ]
     },
     "execution_count": 69,
     "metadata": {},
     "output_type": "execute_result"
    }
   ],
   "source": [
    "type(y)"
   ]
  },
  {
   "cell_type": "code",
   "execution_count": 72,
   "id": "b9169647-b31b-464e-b595-10a4afe9bf1e",
   "metadata": {},
   "outputs": [
    {
     "data": {
      "image/png": "[encoded data removed]",
      "text/plain": [
       "<Figure size 432x288 with 1 Axes>"
      ]
     },
     "metadata": {
      "needs_background": "light"
     },
     "output_type": "display_data"
    },
    {
     "data": {
      "image/png": "[encoded data removed]",
      "text/plain": [
       "<Figure size 432x288 with 1 Axes>"
      ]
     },
     "metadata": {
      "needs_background": "light"
     },
     "output_type": "display_data"
    }
   ],
   "source": [
    "features = [\"PetalLengthCm\",\"PetalWidthCm\"]\n",
    "X = iris_df[features].values # this is the contents of the column as a numpy array\n",
    "y = iris_df[\"Category\"].cat.codes  # the numerical value of each category\n",
    "\n",
    "neighbors = 5\n",
    "for weights in ['uniform', 'distance']:\n",
    "    # we create an instance of Neighbours Classifier and fit the data.\n",
    "    knn = KNeighborsClassifier(n_neighbors=neighbors, weights=weights)\n",
    "    knn.fit(X, y)\n",
    "\n",
    "    # Plot the decision boundary. For that, we will assign a color to each\n",
    "    # point in the mesh [x_min, x_max]x[y_min, y_max].\n",
    "    x_min, x_max = X[:, 0].min() - 1, X[:, 0].max() + 1\n",
    "    y_min, y_max = X[:, 1].min() - 1, X[:, 1].max() + 1\n",
    "    xx, yy = np.meshgrid(np.arange(x_min, x_max, h),\n",
    "                         np.arange(y_min, y_max, h))\n",
    "    Z = knn.predict(np.c_[xx.ravel(), yy.ravel()])\n",
    "\n",
    "    # Put the result into a color plot\n",
    "    Z = Z.reshape(xx.shape)\n",
    "    plt.figure()\n",
    "    plt.rcParams['pcolor.shading'] ='nearest'\n",
    "    plt.pcolormesh(xx, yy, Z, cmap=cmap_light)\n",
    "\n",
    "    # Plot also the training points\n",
    "    plt.scatter(X[:, 0], X[:, 1], c=y, cmap=cmap_bold)\n",
    "    plt.xlim(xx.min(), xx.max())\n",
    "    plt.ylim(yy.min(), yy.max())\n",
    "    plt.title(f\"3-Class classification (k = {neighbors}, weights = {weights})\")\n",
    "\n",
    "plt.show()"
   ]
  },
  {
   "cell_type": "markdown",
   "id": "3d58257a-f59a-440e-8ed4-3ca018ec1c6c",
   "metadata": {},
   "source": [
    "The above example used code taken from: \n",
    "https://scikit-learn.org/stable/auto_examples/neighbors/plot_nca_classification.html#sphx-glr-auto-examples-neighbors-plot-nca-classification-py\n",
    "\n",
    "\n",
    "# Next steps\n",
    "\n",
    "Try different Classifiers on this dataset\n",
    "\n",
    "Original: https://towardsdatascience.com/exploring-classifiers-with-python-scikit-learn-iris-dataset-2bcb490d2e1b\n"
   ]
  },
  {
   "cell_type": "code",
   "execution_count": null,
   "id": "5fc6da3c-d491-4ad9-8791-6bda57b4f7f5",
   "metadata": {},
   "outputs": [],
   "source": []
  }
 ],
 "metadata": {
  "kernelspec": {
   "display_name": "Python 3.10.4 64-bit",
   "language": "python",
   "name": "python3"
  },
  "language_info": {
   "codemirror_mode": {
    "name": "ipython",
    "version": 3
   },
   "file_extension": ".py",
   "mimetype": "text/x-python",
   "name": "python",
   "nbconvert_exporter": "python",
   "pygments_lexer": "ipython3",
   "version": "3.10.4"
  },
  "vscode": {
   "interpreter": {
    "hash": "7e1998ff7f8aa20ada591c520b972326324e5ea05489af9e422744c7c09f6dad"
   }
  }
 },
 "nbformat": 4,
 "nbformat_minor": 5
}
