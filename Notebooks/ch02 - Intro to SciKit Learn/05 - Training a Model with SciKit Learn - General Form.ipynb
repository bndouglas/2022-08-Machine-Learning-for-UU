{
 "cells": [
  {
   "cell_type": "markdown",
   "metadata": {},
   "source": [
    "<h1 style='color: #C9C9C9'>Machine Learning with Python<img style=\"float: right; margin-top: 0;\" width=\"240\" src=\"../../Images/cf-logo.png\" /></h1> \n",
    "<p style='color: #C9C9C9'>&copy; Coding Fury 2022 - all rights reserved</p>\n",
    "\n",
    "<hr style='color: #C9C9C9' />"
   ]
  },
  {
   "cell_type": "markdown",
   "metadata": {},
   "source": [
    "# How to Fit a Model to your data\n",
    "\n",
    "The following code won't run but it demonstrates the four steps that you'll follow when training a model with SciKit Learn. \n",
    "\n",
    "**General Form**\n",
    "\n",
    "```\n",
    "1. from sklearn.module import Model\n",
    "2. model = Model()\n",
    "3. model.fit(X,y)\n",
    "4. predictions = model.predict(new_X) \n",
    "````\n",
    "\n",
    "Let's look at each step in the process in turn.\n",
    "\n",
    "\n",
    "## Step 1: Import the SciKit Learn libary\n",
    "\n",
    "**General Form**\n",
    "```\n",
    "from sklearn.module import Model\n",
    "```\n",
    "\n",
    "**Explanation**\n",
    "\n",
    "The actual module you import will vary depending on the Machine Learning algorithm you want to use... \n",
    "\n",
    "For Linear Regression this might be: \n",
    "```from sklearn.linear_model import LinearRegression``` \n",
    "\n",
    "or for a Nearest Neighbours Classifier this might be \n",
    "```from sklearn.neighbors import KNeighborsClassifier```\n",
    "\n",
    "\n",
    "\n",
    "## Step 2: instantiate the model\n",
    "\n",
    "**General Form**\n",
    "\n",
    "Create an instance of the mode you want to use.\n",
    "```\n",
    "model = Model()\n",
    "```\n",
    "\n",
    "**Explanation**\n",
    "\n",
    "The model that you instantiate could be Linear Regression...\n",
    "\n",
    "```model = LinearRegression()```\n",
    "\n",
    "A k Nearest Neighbours classifier...\n",
    "\n",
    "```model = KNeighborsClassifier()```\n",
    "\n",
    "...or something else!\n",
    "\n",
    "\n",
    "## Step 3: fit the data to the model \n",
    "\n",
    "In this step you'll train the model\n",
    "\n",
    "**General Form**\n",
    "\n",
    "Training the model is known as \"fitting\" the data to the model.\n",
    "```\n",
    "model.fit(X,y) \n",
    "```\n",
    "\n",
    "**Explanation**\n",
    "\n",
    "X = a numpy array of features \n",
    "\n",
    "y = the target variable\n",
    "\n",
    "\n",
    "## Step 4: make predictions\n",
    "\n",
    "Pass new data to the model, then make predictions of new target_values for a given set of features.\n",
    "\n",
    "**General Form**\n",
    "```\n",
    "predictions = model.predict(new_X) \n",
    "```\n",
    "**Explanation**\n",
    "\n",
    "new_X = new features for which we want to predict "
   ]
  },
  {
   "cell_type": "markdown",
   "metadata": {},
   "source": []
  }
 ],
 "metadata": {
  "kernelspec": {
   "display_name": "Python 3 (ipykernel)",
   "language": "python",
   "name": "python3"
  },
  "language_info": {
   "codemirror_mode": {
    "name": "ipython",
    "version": 3
   },
   "file_extension": ".py",
   "mimetype": "text/x-python",
   "name": "python",
   "nbconvert_exporter": "python",
   "pygments_lexer": "ipython3",
   "version": "3.9.7"
  },
  "vscode": {
   "interpreter": {
    "hash": "7e1998ff7f8aa20ada591c520b972326324e5ea05489af9e422744c7c09f6dad"
   }
  }
 },
 "nbformat": 4,
 "nbformat_minor": 4
}
