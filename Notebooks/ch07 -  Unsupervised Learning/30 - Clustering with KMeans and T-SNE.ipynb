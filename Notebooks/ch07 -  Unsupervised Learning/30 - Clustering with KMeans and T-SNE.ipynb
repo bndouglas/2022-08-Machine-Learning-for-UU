{
 "cells": [
  {
   "cell_type": "markdown",
   "id": "a34ca4e0",
   "metadata": {},
   "source": [
    "<h1 style='color: #C9C9C9'>Machine Learning with Python<img style=\"float: right; margin-top: 0;\" width=\"240\" src=\"../../Images/cf-logo.png\" /></h1> \n",
    "<p style='color: #C9C9C9'>&copy; Coding Fury 2022 - all rights reserved</p>\n",
    "\n",
    "<hr style='color: #C9C9C9' />"
   ]
  },
  {
   "cell_type": "markdown",
   "id": "e88d691e",
   "metadata": {},
   "source": [
    "# Unsupervised Learning with KMeans\n",
    "\n",
    "In this tutorial, we'll analyse shoppers at a shopping mall, and try group the customers into categories. We'll do this with KMeans.\n"
   ]
  },
  {
   "cell_type": "code",
   "execution_count": 2,
   "id": "8402603d",
   "metadata": {},
   "outputs": [],
   "source": [
    "import numpy as np\n",
    "import pandas as pd\n",
    "import matplotlib.pyplot as plt\n",
    "import seaborn as sns"
   ]
  },
  {
   "cell_type": "code",
   "execution_count": 3,
   "id": "91bbcf4c",
   "metadata": {},
   "outputs": [
    {
     "data": {
      "text/html": [
       "<div>\n",
       "<style scoped>\n",
       "    .dataframe tbody tr th:only-of-type {\n",
       "        vertical-align: middle;\n",
       "    }\n",
       "\n",
       "    .dataframe tbody tr th {\n",
       "        vertical-align: top;\n",
       "    }\n",
       "\n",
       "    .dataframe thead th {\n",
       "        text-align: right;\n",
       "    }\n",
       "</style>\n",
       "<table border=\"1\" class=\"dataframe\">\n",
       "  <thead>\n",
       "    <tr style=\"text-align: right;\">\n",
       "      <th></th>\n",
       "      <th>CustomerID</th>\n",
       "      <th>Gender</th>\n",
       "      <th>Age</th>\n",
       "      <th>Annual Income (k$)</th>\n",
       "      <th>Spending Score (1-100)</th>\n",
       "    </tr>\n",
       "  </thead>\n",
       "  <tbody>\n",
       "    <tr>\n",
       "      <th>0</th>\n",
       "      <td>1</td>\n",
       "      <td>Male</td>\n",
       "      <td>19</td>\n",
       "      <td>15</td>\n",
       "      <td>39</td>\n",
       "    </tr>\n",
       "    <tr>\n",
       "      <th>1</th>\n",
       "      <td>2</td>\n",
       "      <td>Male</td>\n",
       "      <td>21</td>\n",
       "      <td>15</td>\n",
       "      <td>81</td>\n",
       "    </tr>\n",
       "    <tr>\n",
       "      <th>2</th>\n",
       "      <td>3</td>\n",
       "      <td>Female</td>\n",
       "      <td>20</td>\n",
       "      <td>16</td>\n",
       "      <td>6</td>\n",
       "    </tr>\n",
       "    <tr>\n",
       "      <th>3</th>\n",
       "      <td>4</td>\n",
       "      <td>Female</td>\n",
       "      <td>23</td>\n",
       "      <td>16</td>\n",
       "      <td>77</td>\n",
       "    </tr>\n",
       "    <tr>\n",
       "      <th>4</th>\n",
       "      <td>5</td>\n",
       "      <td>Female</td>\n",
       "      <td>31</td>\n",
       "      <td>17</td>\n",
       "      <td>40</td>\n",
       "    </tr>\n",
       "    <tr>\n",
       "      <th>...</th>\n",
       "      <td>...</td>\n",
       "      <td>...</td>\n",
       "      <td>...</td>\n",
       "      <td>...</td>\n",
       "      <td>...</td>\n",
       "    </tr>\n",
       "    <tr>\n",
       "      <th>195</th>\n",
       "      <td>196</td>\n",
       "      <td>Female</td>\n",
       "      <td>35</td>\n",
       "      <td>120</td>\n",
       "      <td>79</td>\n",
       "    </tr>\n",
       "    <tr>\n",
       "      <th>196</th>\n",
       "      <td>197</td>\n",
       "      <td>Female</td>\n",
       "      <td>45</td>\n",
       "      <td>126</td>\n",
       "      <td>28</td>\n",
       "    </tr>\n",
       "    <tr>\n",
       "      <th>197</th>\n",
       "      <td>198</td>\n",
       "      <td>Male</td>\n",
       "      <td>32</td>\n",
       "      <td>126</td>\n",
       "      <td>74</td>\n",
       "    </tr>\n",
       "    <tr>\n",
       "      <th>198</th>\n",
       "      <td>199</td>\n",
       "      <td>Male</td>\n",
       "      <td>32</td>\n",
       "      <td>137</td>\n",
       "      <td>18</td>\n",
       "    </tr>\n",
       "    <tr>\n",
       "      <th>199</th>\n",
       "      <td>200</td>\n",
       "      <td>Male</td>\n",
       "      <td>30</td>\n",
       "      <td>137</td>\n",
       "      <td>83</td>\n",
       "    </tr>\n",
       "  </tbody>\n",
       "</table>\n",
       "<p>200 rows × 5 columns</p>\n",
       "</div>"
      ],
      "text/plain": [
       "     CustomerID  Gender  Age  Annual Income (k$)  Spending Score (1-100)\n",
       "0             1    Male   19                  15                      39\n",
       "1             2    Male   21                  15                      81\n",
       "2             3  Female   20                  16                       6\n",
       "3             4  Female   23                  16                      77\n",
       "4             5  Female   31                  17                      40\n",
       "..          ...     ...  ...                 ...                     ...\n",
       "195         196  Female   35                 120                      79\n",
       "196         197  Female   45                 126                      28\n",
       "197         198    Male   32                 126                      74\n",
       "198         199    Male   32                 137                      18\n",
       "199         200    Male   30                 137                      83\n",
       "\n",
       "[200 rows x 5 columns]"
      ]
     },
     "execution_count": 3,
     "metadata": {},
     "output_type": "execute_result"
    }
   ],
   "source": [
    "shoppers_df = pd.read_csv('../../Data/Mall_Customers.csv')\n",
    "shoppers_df"
   ]
  },
  {
   "cell_type": "markdown",
   "id": "0008064d",
   "metadata": {},
   "source": [
    "For each customer we know their:\n",
    "\n",
    "* Age\n",
    "* Sex\n",
    "* Annual income in thousands of dollars (k$)\n",
    "* Spending Score (1-100), this is a measure of how much they spend shopping at the mall.\n",
    "\n",
    "We won't be using the CustomerID, so we should drop it immediately. "
   ]
  },
  {
   "cell_type": "code",
   "execution_count": 3,
   "id": "4cd0ad06",
   "metadata": {},
   "outputs": [
    {
     "data": {
      "text/html": [
       "<div>\n",
       "<style scoped>\n",
       "    .dataframe tbody tr th:only-of-type {\n",
       "        vertical-align: middle;\n",
       "    }\n",
       "\n",
       "    .dataframe tbody tr th {\n",
       "        vertical-align: top;\n",
       "    }\n",
       "\n",
       "    .dataframe thead th {\n",
       "        text-align: right;\n",
       "    }\n",
       "</style>\n",
       "<table border=\"1\" class=\"dataframe\">\n",
       "  <thead>\n",
       "    <tr style=\"text-align: right;\">\n",
       "      <th></th>\n",
       "      <th>Gender</th>\n",
       "      <th>Age</th>\n",
       "      <th>Annual Income (k$)</th>\n",
       "      <th>Spending Score (1-100)</th>\n",
       "    </tr>\n",
       "  </thead>\n",
       "  <tbody>\n",
       "    <tr>\n",
       "      <th>0</th>\n",
       "      <td>Male</td>\n",
       "      <td>19</td>\n",
       "      <td>15</td>\n",
       "      <td>39</td>\n",
       "    </tr>\n",
       "    <tr>\n",
       "      <th>1</th>\n",
       "      <td>Male</td>\n",
       "      <td>21</td>\n",
       "      <td>15</td>\n",
       "      <td>81</td>\n",
       "    </tr>\n",
       "    <tr>\n",
       "      <th>2</th>\n",
       "      <td>Female</td>\n",
       "      <td>20</td>\n",
       "      <td>16</td>\n",
       "      <td>6</td>\n",
       "    </tr>\n",
       "    <tr>\n",
       "      <th>3</th>\n",
       "      <td>Female</td>\n",
       "      <td>23</td>\n",
       "      <td>16</td>\n",
       "      <td>77</td>\n",
       "    </tr>\n",
       "    <tr>\n",
       "      <th>4</th>\n",
       "      <td>Female</td>\n",
       "      <td>31</td>\n",
       "      <td>17</td>\n",
       "      <td>40</td>\n",
       "    </tr>\n",
       "    <tr>\n",
       "      <th>...</th>\n",
       "      <td>...</td>\n",
       "      <td>...</td>\n",
       "      <td>...</td>\n",
       "      <td>...</td>\n",
       "    </tr>\n",
       "    <tr>\n",
       "      <th>195</th>\n",
       "      <td>Female</td>\n",
       "      <td>35</td>\n",
       "      <td>120</td>\n",
       "      <td>79</td>\n",
       "    </tr>\n",
       "    <tr>\n",
       "      <th>196</th>\n",
       "      <td>Female</td>\n",
       "      <td>45</td>\n",
       "      <td>126</td>\n",
       "      <td>28</td>\n",
       "    </tr>\n",
       "    <tr>\n",
       "      <th>197</th>\n",
       "      <td>Male</td>\n",
       "      <td>32</td>\n",
       "      <td>126</td>\n",
       "      <td>74</td>\n",
       "    </tr>\n",
       "    <tr>\n",
       "      <th>198</th>\n",
       "      <td>Male</td>\n",
       "      <td>32</td>\n",
       "      <td>137</td>\n",
       "      <td>18</td>\n",
       "    </tr>\n",
       "    <tr>\n",
       "      <th>199</th>\n",
       "      <td>Male</td>\n",
       "      <td>30</td>\n",
       "      <td>137</td>\n",
       "      <td>83</td>\n",
       "    </tr>\n",
       "  </tbody>\n",
       "</table>\n",
       "<p>200 rows × 4 columns</p>\n",
       "</div>"
      ],
      "text/plain": [
       "     Gender  Age  Annual Income (k$)  Spending Score (1-100)\n",
       "0      Male   19                  15                      39\n",
       "1      Male   21                  15                      81\n",
       "2    Female   20                  16                       6\n",
       "3    Female   23                  16                      77\n",
       "4    Female   31                  17                      40\n",
       "..      ...  ...                 ...                     ...\n",
       "195  Female   35                 120                      79\n",
       "196  Female   45                 126                      28\n",
       "197    Male   32                 126                      74\n",
       "198    Male   32                 137                      18\n",
       "199    Male   30                 137                      83\n",
       "\n",
       "[200 rows x 4 columns]"
      ]
     },
     "execution_count": 3,
     "metadata": {},
     "output_type": "execute_result"
    }
   ],
   "source": [
    "shoppers_df = shoppers_df.drop('CustomerID', axis=1)\n",
    "shoppers_df"
   ]
  },
  {
   "cell_type": "markdown",
   "id": "342dc331-13e9-4f88-ba10-d8f8bf149953",
   "metadata": {},
   "source": [
    "\n",
    "There are 2 questions we're going to try to answer.\n",
    "\n",
    "1. \"How many clusters of customers are there?\"\n",
    "2. \"Which customers belong to each cluster?\"\n",
    "\n",
    "Since we're doing Unsupervised learning, we don't know the answer to these questions for any of the customers. In other words, our data is unlabelled. \n",
    "\n",
    "KMeans is good at determining which observations belong to each cluster. The hard bit is trying to determine the correct number of clusters. \n",
    "\n",
    "Let's simplify the problem somewhat, and imagine that we only have 2 features of data. \n",
    "\n",
    "* Annual Income (k$)\n",
    "* Spending Score (1-100)\n",
    "\n",
    "Now let's plot these two variables on a scatter chart...\n"
   ]
  },
  {
   "cell_type": "code",
   "execution_count": 7,
   "id": "02e96b86",
   "metadata": {},
   "outputs": [],
   "source": [
    "import matplotlib.pyplot as plt\n",
    "import seaborn as sns"
   ]
  },
  {
   "cell_type": "code",
   "execution_count": 8,
   "id": "19e07480",
   "metadata": {},
   "outputs": [
    {
     "data": {
      "text/plain": [
       "<AxesSubplot:xlabel='Spending Score (1-100)', ylabel='Annual Income (k$)'>"
      ]
     },
     "execution_count": 8,
     "metadata": {},
     "output_type": "execute_result"
    },
    {
     "data": {
      "image/png": "[encoded data removed]",
      "text/plain": [
       "<Figure size 432x288 with 1 Axes>"
      ]
     },
     "metadata": {
      "needs_background": "light"
     },
     "output_type": "display_data"
    }
   ],
   "source": [
    "sns.scatterplot(x='Spending Score (1-100)', y='Annual Income (k$)', data=shoppers_df)"
   ]
  },
  {
   "cell_type": "markdown",
   "id": "8e4bb68a",
   "metadata": {},
   "source": [
    "Looking at the data, I reckon there are 5 clusters, so let's plug k=5 into our model, and see how well it fares. "
   ]
  },
  {
   "cell_type": "code",
   "execution_count": 13,
   "id": "c0120aed",
   "metadata": {},
   "outputs": [],
   "source": [
    "from sklearn.cluster import KMeans"
   ]
  },
  {
   "cell_type": "code",
   "execution_count": 14,
   "id": "ed3ca4e4",
   "metadata": {},
   "outputs": [],
   "source": [
    "kmeans = KMeans(n_clusters=5)"
   ]
  },
  {
   "cell_type": "code",
   "execution_count": 15,
   "id": "b5637851",
   "metadata": {},
   "outputs": [],
   "source": [
    "X = shoppers_df[['Spending Score (1-100)', 'Annual Income (k$)']].values"
   ]
  },
  {
   "cell_type": "markdown",
   "id": "76682b56",
   "metadata": {},
   "source": [
    "Remember that there is no \"y\"; i.e. We don't have a target value in Unsupervised learning. "
   ]
  },
  {
   "cell_type": "code",
   "execution_count": 16,
   "id": "aa5464ec",
   "metadata": {},
   "outputs": [
    {
     "data": {
      "text/html": [
       "<style>#sk-container-id-1 {color: black;background-color: white;}#sk-container-id-1 pre{padding: 0;}#sk-container-id-1 div.sk-toggleable {background-color: white;}#sk-container-id-1 label.sk-toggleable__label {cursor: pointer;display: block;width: 100%;margin-bottom: 0;padding: 0.3em;box-sizing: border-box;text-align: center;}#sk-container-id-1 label.sk-toggleable__label-arrow:before {content: \"▸\";float: left;margin-right: 0.25em;color: #696969;}#sk-container-id-1 label.sk-toggleable__label-arrow:hover:before {color: black;}#sk-container-id-1 div.sk-estimator:hover label.sk-toggleable__label-arrow:before {color: black;}#sk-container-id-1 div.sk-toggleable__content {max-height: 0;max-width: 0;overflow: hidden;text-align: left;background-color: #f0f8ff;}#sk-container-id-1 div.sk-toggleable__content pre {margin: 0.2em;color: black;border-radius: 0.25em;background-color: #f0f8ff;}#sk-container-id-1 input.sk-toggleable__control:checked~div.sk-toggleable__content {max-height: 200px;max-width: 100%;overflow: auto;}#sk-container-id-1 input.sk-toggleable__control:checked~label.sk-toggleable__label-arrow:before {content: \"▾\";}#sk-container-id-1 div.sk-estimator input.sk-toggleable__control:checked~label.sk-toggleable__label {background-color: #d4ebff;}#sk-container-id-1 div.sk-label input.sk-toggleable__control:checked~label.sk-toggleable__label {background-color: #d4ebff;}#sk-container-id-1 input.sk-hidden--visually {border: 0;clip: rect(1px 1px 1px 1px);clip: rect(1px, 1px, 1px, 1px);height: 1px;margin: -1px;overflow: hidden;padding: 0;position: absolute;width: 1px;}#sk-container-id-1 div.sk-estimator {font-family: monospace;background-color: #f0f8ff;border: 1px dotted black;border-radius: 0.25em;box-sizing: border-box;margin-bottom: 0.5em;}#sk-container-id-1 div.sk-estimator:hover {background-color: #d4ebff;}#sk-container-id-1 div.sk-parallel-item::after {content: \"\";width: 100%;border-bottom: 1px solid gray;flex-grow: 1;}#sk-container-id-1 div.sk-label:hover label.sk-toggleable__label {background-color: #d4ebff;}#sk-container-id-1 div.sk-serial::before {content: \"\";position: absolute;border-left: 1px solid gray;box-sizing: border-box;top: 0;bottom: 0;left: 50%;z-index: 0;}#sk-container-id-1 div.sk-serial {display: flex;flex-direction: column;align-items: center;background-color: white;padding-right: 0.2em;padding-left: 0.2em;position: relative;}#sk-container-id-1 div.sk-item {position: relative;z-index: 1;}#sk-container-id-1 div.sk-parallel {display: flex;align-items: stretch;justify-content: center;background-color: white;position: relative;}#sk-container-id-1 div.sk-item::before, #sk-container-id-1 div.sk-parallel-item::before {content: \"\";position: absolute;border-left: 1px solid gray;box-sizing: border-box;top: 0;bottom: 0;left: 50%;z-index: -1;}#sk-container-id-1 div.sk-parallel-item {display: flex;flex-direction: column;z-index: 1;position: relative;background-color: white;}#sk-container-id-1 div.sk-parallel-item:first-child::after {align-self: flex-end;width: 50%;}#sk-container-id-1 div.sk-parallel-item:last-child::after {align-self: flex-start;width: 50%;}#sk-container-id-1 div.sk-parallel-item:only-child::after {width: 0;}#sk-container-id-1 div.sk-dashed-wrapped {border: 1px dashed gray;margin: 0 0.4em 0.5em 0.4em;box-sizing: border-box;padding-bottom: 0.4em;background-color: white;}#sk-container-id-1 div.sk-label label {font-family: monospace;font-weight: bold;display: inline-block;line-height: 1.2em;}#sk-container-id-1 div.sk-label-container {text-align: center;}#sk-container-id-1 div.sk-container {/* jupyter's `normalize.less` sets `[hidden] { display: none; }` but bootstrap.min.css set `[hidden] { display: none !important; }` so we also need the `!important` here to be able to override the default hidden behavior on the sphinx rendered scikit-learn.org. See: https://github.com/scikit-learn/scikit-learn/issues/21755 */display: inline-block !important;position: relative;}#sk-container-id-1 div.sk-text-repr-fallback {display: none;}</style><div id=\"sk-container-id-1\" class=\"sk-top-container\"><div class=\"sk-text-repr-fallback\"><pre>KMeans(n_clusters=5)</pre><b>In a Jupyter environment, please rerun this cell to show the HTML representation or trust the notebook. <br />On GitHub, the HTML representation is unable to render, please try loading this page with nbviewer.org.</b></div><div class=\"sk-container\" hidden><div class=\"sk-item\"><div class=\"sk-estimator sk-toggleable\"><input class=\"sk-toggleable__control sk-hidden--visually\" id=\"sk-estimator-id-1\" type=\"checkbox\" checked><label for=\"sk-estimator-id-1\" class=\"sk-toggleable__label sk-toggleable__label-arrow\">KMeans</label><div class=\"sk-toggleable__content\"><pre>KMeans(n_clusters=5)</pre></div></div></div></div></div>"
      ],
      "text/plain": [
       "KMeans(n_clusters=5)"
      ]
     },
     "execution_count": 16,
     "metadata": {},
     "output_type": "execute_result"
    }
   ],
   "source": [
    "kmeans.fit(X)  # remember no y because this is unsupervised learning"
   ]
  },
  {
   "cell_type": "code",
   "execution_count": 17,
   "id": "169811fa",
   "metadata": {},
   "outputs": [
    {
     "data": {
      "text/plain": [
       "array([[49.51851852, 55.2962963 ],\n",
       "       [17.11428571, 88.2       ],\n",
       "       [82.12820513, 86.53846154],\n",
       "       [79.36363636, 25.72727273],\n",
       "       [20.91304348, 26.30434783]])"
      ]
     },
     "execution_count": 17,
     "metadata": {},
     "output_type": "execute_result"
    }
   ],
   "source": [
    "kmeans.cluster_centers_"
   ]
  },
  {
   "cell_type": "markdown",
   "id": "fbda0a05",
   "metadata": {},
   "source": [
    "So how would our model label the data? "
   ]
  },
  {
   "cell_type": "code",
   "execution_count": 18,
   "id": "c4efa15a",
   "metadata": {},
   "outputs": [
    {
     "data": {
      "text/plain": [
       "array([4, 3, 4, 3, 4, 3, 4, 3, 4, 3, 4, 3, 4, 3, 4, 3, 4, 3, 4, 3, 4, 3,\n",
       "       4, 3, 4, 3, 4, 3, 4, 3, 4, 3, 4, 3, 4, 3, 4, 3, 4, 3, 4, 3, 4, 0,\n",
       "       4, 3, 0, 0, 0, 0, 0, 0, 0, 0, 0, 0, 0, 0, 0, 0, 0, 0, 0, 0, 0, 0,\n",
       "       0, 0, 0, 0, 0, 0, 0, 0, 0, 0, 0, 0, 0, 0, 0, 0, 0, 0, 0, 0, 0, 0,\n",
       "       0, 0, 0, 0, 0, 0, 0, 0, 0, 0, 0, 0, 0, 0, 0, 0, 0, 0, 0, 0, 0, 0,\n",
       "       0, 0, 0, 0, 0, 0, 0, 0, 0, 0, 0, 0, 0, 2, 1, 2, 0, 2, 1, 2, 1, 2,\n",
       "       0, 2, 1, 2, 1, 2, 1, 2, 1, 2, 0, 2, 1, 2, 1, 2, 1, 2, 1, 2, 1, 2,\n",
       "       1, 2, 1, 2, 1, 2, 1, 2, 1, 2, 1, 2, 1, 2, 1, 2, 1, 2, 1, 2, 1, 2,\n",
       "       1, 2, 1, 2, 1, 2, 1, 2, 1, 2, 1, 2, 1, 2, 1, 2, 1, 2, 1, 2, 1, 2,\n",
       "       1, 2], dtype=int32)"
      ]
     },
     "execution_count": 18,
     "metadata": {},
     "output_type": "execute_result"
    }
   ],
   "source": [
    "kmeans.labels_"
   ]
  },
  {
   "cell_type": "markdown",
   "id": "027f7fe4",
   "metadata": {},
   "source": [
    "Remember that you can't score this because you don't know what the correct labels should be!\n",
    "\n",
    "But it can be useful to visualise the data to see what it looks like."
   ]
  },
  {
   "cell_type": "code",
   "execution_count": 19,
   "id": "12c5f7cc",
   "metadata": {},
   "outputs": [
    {
     "data": {
      "text/plain": [
       "<AxesSubplot:xlabel='Spending Score (1-100)', ylabel='Annual Income (k$)'>"
      ]
     },
     "execution_count": 19,
     "metadata": {},
     "output_type": "execute_result"
    },
    {
     "data": {
      "image/png": "[encoded data removed]",
      "text/plain": [
       "<Figure size 432x288 with 1 Axes>"
      ]
     },
     "metadata": {
      "needs_background": "light"
     },
     "output_type": "display_data"
    }
   ],
   "source": [
    "sns.scatterplot(x='Spending Score (1-100)', y='Annual Income (k$)', data=shoppers_df, hue=kmeans.labels_, palette='rainbow')"
   ]
  },
  {
   "cell_type": "markdown",
   "id": "7cdaf2f7",
   "metadata": {},
   "source": [
    "## How does KMeans work?\n",
    "\n",
    "* Choose a number of Clusters \"K\" (we'll discuss how to choose K later)\n",
    "* Randomly assign each point to a cluster\n",
    "* Until the clusters stop changing, repeat the following:  \n",
    "  * For each cluster compute the cluster centroid by taking the mean vector of points in the cluster\n",
    "  * Re-assign each point to the cluster for which the centroid is closest\n",
    "\n",
    "If you want to know more check out [StatQuest: K-Means clustering](https://www.youtube.com/watch?v=4b5d3muPQmA)"
   ]
  },
  {
   "cell_type": "markdown",
   "id": "4779a9eb",
   "metadata": {},
   "source": [
    "## Choosing K\n",
    "\n",
    "In the example above we were able to choose a good value of K by creating a 2-dimensional scatter chart, then \"eyeballing it\" to choose a good value of K. In practice there's often no easy answer for choosing the best K. \n",
    "\n",
    "Often times, domain knowledge will determine the best value for K.\n",
    "\n",
    "Another strategy is to use the Elbow Method.\n"
   ]
  },
  {
   "cell_type": "markdown",
   "id": "c59f9137",
   "metadata": {},
   "source": [
    "# The Elbow Method\n",
    "\n",
    "In this section, we'll use the Elbow Method to choose the optimum number of clusters\n",
    "\n",
    "* The Elbow Method uses the Sum of Squared Error (SSE) for different values of K\n",
    "* SSE is the sum of the squared distance between each member of the cluster and its centroid. \n",
    "* plot K against SSE\n",
    "    * SSE decreases as K gets larger\n",
    "    * look for the point at which the SSE decreases abruptly. \n",
    "    * this produces an \"elbow effect\" in the graph. \n",
    "\n"
   ]
  },
  {
   "cell_type": "code",
   "execution_count": 14,
   "id": "678c0fd8",
   "metadata": {},
   "outputs": [],
   "source": [
    "clusters = list(range(1,11)) \n",
    "inertia = []\n",
    "\n",
    "for i in clusters:\n",
    "    kmeans = KMeans(n_clusters=i)\n",
    "    kmeans.fit(X)\n",
    "    inertia.append(kmeans.inertia_) "
   ]
  },
  {
   "cell_type": "markdown",
   "id": "6cbca326",
   "metadata": {},
   "source": [
    "**Intertia** is also known as the \"within cluster sum-of-squares\", it's a way of measuring how good the groupings are.\n",
    "\n",
    "It is calculated by measuring the distances between each point and it's centroid. Smaller values for intertia equate to a tigher groupings.\n",
    "\n",
    "Let's plot the intertias for different values of K."
   ]
  },
  {
   "cell_type": "code",
   "execution_count": 15,
   "id": "d8438be6",
   "metadata": {},
   "outputs": [
    {
     "data": {
      "text/plain": [
       "<AxesSubplot:>"
      ]
     },
     "execution_count": 15,
     "metadata": {},
     "output_type": "execute_result"
    },
    {
     "data": {
      "image/png": "[encoded data removed]",
      "text/plain": [
       "<Figure size 432x288 with 1 Axes>"
      ]
     },
     "metadata": {
      "needs_background": "light"
     },
     "output_type": "display_data"
    }
   ],
   "source": [
    "sns.lineplot(x=clusters, y=inertia)"
   ]
  },
  {
   "cell_type": "markdown",
   "id": "e192830d",
   "metadata": {},
   "source": [
    "Looking at this graph, the elbow occurs at 5, so K should be 5. \n",
    "\n",
    "You might think that because 10 has a lower intertia, it would be a better choice. Actually no, as we increase k we end up with too many groupings. This is \"overfitting\" our model to our data. The Elbow Method that k=5 gives us the best balance between underfitting and overfitting. "
   ]
  },
  {
   "cell_type": "markdown",
   "id": "baa4d9fd",
   "metadata": {},
   "source": [
    "# Part 2 : KMeans with 4 dimensions\n",
    "\n",
    "In this section we're going to try KMeans on all 4 dimensions of data at our desposal. \n",
    "\n"
   ]
  },
  {
   "cell_type": "code",
   "execution_count": 20,
   "id": "4d7f65f5",
   "metadata": {},
   "outputs": [
    {
     "data": {
      "text/html": [
       "<div>\n",
       "<style scoped>\n",
       "    .dataframe tbody tr th:only-of-type {\n",
       "        vertical-align: middle;\n",
       "    }\n",
       "\n",
       "    .dataframe tbody tr th {\n",
       "        vertical-align: top;\n",
       "    }\n",
       "\n",
       "    .dataframe thead th {\n",
       "        text-align: right;\n",
       "    }\n",
       "</style>\n",
       "<table border=\"1\" class=\"dataframe\">\n",
       "  <thead>\n",
       "    <tr style=\"text-align: right;\">\n",
       "      <th></th>\n",
       "      <th>Gender</th>\n",
       "      <th>Age</th>\n",
       "      <th>Annual Income (k$)</th>\n",
       "      <th>Spending Score (1-100)</th>\n",
       "    </tr>\n",
       "  </thead>\n",
       "  <tbody>\n",
       "    <tr>\n",
       "      <th>0</th>\n",
       "      <td>Male</td>\n",
       "      <td>19</td>\n",
       "      <td>15</td>\n",
       "      <td>39</td>\n",
       "    </tr>\n",
       "    <tr>\n",
       "      <th>1</th>\n",
       "      <td>Male</td>\n",
       "      <td>21</td>\n",
       "      <td>15</td>\n",
       "      <td>81</td>\n",
       "    </tr>\n",
       "    <tr>\n",
       "      <th>2</th>\n",
       "      <td>Female</td>\n",
       "      <td>20</td>\n",
       "      <td>16</td>\n",
       "      <td>6</td>\n",
       "    </tr>\n",
       "    <tr>\n",
       "      <th>3</th>\n",
       "      <td>Female</td>\n",
       "      <td>23</td>\n",
       "      <td>16</td>\n",
       "      <td>77</td>\n",
       "    </tr>\n",
       "    <tr>\n",
       "      <th>4</th>\n",
       "      <td>Female</td>\n",
       "      <td>31</td>\n",
       "      <td>17</td>\n",
       "      <td>40</td>\n",
       "    </tr>\n",
       "    <tr>\n",
       "      <th>...</th>\n",
       "      <td>...</td>\n",
       "      <td>...</td>\n",
       "      <td>...</td>\n",
       "      <td>...</td>\n",
       "    </tr>\n",
       "    <tr>\n",
       "      <th>195</th>\n",
       "      <td>Female</td>\n",
       "      <td>35</td>\n",
       "      <td>120</td>\n",
       "      <td>79</td>\n",
       "    </tr>\n",
       "    <tr>\n",
       "      <th>196</th>\n",
       "      <td>Female</td>\n",
       "      <td>45</td>\n",
       "      <td>126</td>\n",
       "      <td>28</td>\n",
       "    </tr>\n",
       "    <tr>\n",
       "      <th>197</th>\n",
       "      <td>Male</td>\n",
       "      <td>32</td>\n",
       "      <td>126</td>\n",
       "      <td>74</td>\n",
       "    </tr>\n",
       "    <tr>\n",
       "      <th>198</th>\n",
       "      <td>Male</td>\n",
       "      <td>32</td>\n",
       "      <td>137</td>\n",
       "      <td>18</td>\n",
       "    </tr>\n",
       "    <tr>\n",
       "      <th>199</th>\n",
       "      <td>Male</td>\n",
       "      <td>30</td>\n",
       "      <td>137</td>\n",
       "      <td>83</td>\n",
       "    </tr>\n",
       "  </tbody>\n",
       "</table>\n",
       "<p>200 rows × 4 columns</p>\n",
       "</div>"
      ],
      "text/plain": [
       "     Gender  Age  Annual Income (k$)  Spending Score (1-100)\n",
       "0      Male   19                  15                      39\n",
       "1      Male   21                  15                      81\n",
       "2    Female   20                  16                       6\n",
       "3    Female   23                  16                      77\n",
       "4    Female   31                  17                      40\n",
       "..      ...  ...                 ...                     ...\n",
       "195  Female   35                 120                      79\n",
       "196  Female   45                 126                      28\n",
       "197    Male   32                 126                      74\n",
       "198    Male   32                 137                      18\n",
       "199    Male   30                 137                      83\n",
       "\n",
       "[200 rows x 4 columns]"
      ]
     },
     "execution_count": 20,
     "metadata": {},
     "output_type": "execute_result"
    }
   ],
   "source": [
    "shoppers_df"
   ]
  },
  {
   "cell_type": "markdown",
   "id": "0cbb6ea6",
   "metadata": {},
   "source": [
    "Start by making gender into a number column"
   ]
  },
  {
   "cell_type": "code",
   "execution_count": 21,
   "id": "5ac56a9b",
   "metadata": {},
   "outputs": [
    {
     "data": {
      "text/html": [
       "<div>\n",
       "<style scoped>\n",
       "    .dataframe tbody tr th:only-of-type {\n",
       "        vertical-align: middle;\n",
       "    }\n",
       "\n",
       "    .dataframe tbody tr th {\n",
       "        vertical-align: top;\n",
       "    }\n",
       "\n",
       "    .dataframe thead th {\n",
       "        text-align: right;\n",
       "    }\n",
       "</style>\n",
       "<table border=\"1\" class=\"dataframe\">\n",
       "  <thead>\n",
       "    <tr style=\"text-align: right;\">\n",
       "      <th></th>\n",
       "      <th>Gender</th>\n",
       "      <th>Age</th>\n",
       "      <th>Annual Income (k$)</th>\n",
       "      <th>Spending Score (1-100)</th>\n",
       "    </tr>\n",
       "  </thead>\n",
       "  <tbody>\n",
       "    <tr>\n",
       "      <th>0</th>\n",
       "      <td>0</td>\n",
       "      <td>19</td>\n",
       "      <td>15</td>\n",
       "      <td>39</td>\n",
       "    </tr>\n",
       "    <tr>\n",
       "      <th>1</th>\n",
       "      <td>0</td>\n",
       "      <td>21</td>\n",
       "      <td>15</td>\n",
       "      <td>81</td>\n",
       "    </tr>\n",
       "    <tr>\n",
       "      <th>2</th>\n",
       "      <td>1</td>\n",
       "      <td>20</td>\n",
       "      <td>16</td>\n",
       "      <td>6</td>\n",
       "    </tr>\n",
       "    <tr>\n",
       "      <th>3</th>\n",
       "      <td>1</td>\n",
       "      <td>23</td>\n",
       "      <td>16</td>\n",
       "      <td>77</td>\n",
       "    </tr>\n",
       "    <tr>\n",
       "      <th>4</th>\n",
       "      <td>1</td>\n",
       "      <td>31</td>\n",
       "      <td>17</td>\n",
       "      <td>40</td>\n",
       "    </tr>\n",
       "    <tr>\n",
       "      <th>...</th>\n",
       "      <td>...</td>\n",
       "      <td>...</td>\n",
       "      <td>...</td>\n",
       "      <td>...</td>\n",
       "    </tr>\n",
       "    <tr>\n",
       "      <th>195</th>\n",
       "      <td>1</td>\n",
       "      <td>35</td>\n",
       "      <td>120</td>\n",
       "      <td>79</td>\n",
       "    </tr>\n",
       "    <tr>\n",
       "      <th>196</th>\n",
       "      <td>1</td>\n",
       "      <td>45</td>\n",
       "      <td>126</td>\n",
       "      <td>28</td>\n",
       "    </tr>\n",
       "    <tr>\n",
       "      <th>197</th>\n",
       "      <td>0</td>\n",
       "      <td>32</td>\n",
       "      <td>126</td>\n",
       "      <td>74</td>\n",
       "    </tr>\n",
       "    <tr>\n",
       "      <th>198</th>\n",
       "      <td>0</td>\n",
       "      <td>32</td>\n",
       "      <td>137</td>\n",
       "      <td>18</td>\n",
       "    </tr>\n",
       "    <tr>\n",
       "      <th>199</th>\n",
       "      <td>0</td>\n",
       "      <td>30</td>\n",
       "      <td>137</td>\n",
       "      <td>83</td>\n",
       "    </tr>\n",
       "  </tbody>\n",
       "</table>\n",
       "<p>200 rows × 4 columns</p>\n",
       "</div>"
      ],
      "text/plain": [
       "     Gender  Age  Annual Income (k$)  Spending Score (1-100)\n",
       "0         0   19                  15                      39\n",
       "1         0   21                  15                      81\n",
       "2         1   20                  16                       6\n",
       "3         1   23                  16                      77\n",
       "4         1   31                  17                      40\n",
       "..      ...  ...                 ...                     ...\n",
       "195       1   35                 120                      79\n",
       "196       1   45                 126                      28\n",
       "197       0   32                 126                      74\n",
       "198       0   32                 137                      18\n",
       "199       0   30                 137                      83\n",
       "\n",
       "[200 rows x 4 columns]"
      ]
     },
     "execution_count": 21,
     "metadata": {},
     "output_type": "execute_result"
    }
   ],
   "source": [
    "# make gender into 0=Male, 1=Female\n",
    "shoppers_df['Gender'] = shoppers_df['Gender'].str.replace('Male', '0')\n",
    "shoppers_df['Gender'] = shoppers_df['Gender'].str.replace('Female', '1')\n",
    "shoppers_df['Gender'] = pd.to_numeric(shoppers_df['Gender'] )\n",
    "shoppers_df"
   ]
  },
  {
   "cell_type": "code",
   "execution_count": 22,
   "id": "adb890ee",
   "metadata": {},
   "outputs": [],
   "source": [
    "X = shoppers_df.values"
   ]
  },
  {
   "cell_type": "code",
   "execution_count": 23,
   "id": "915bb033",
   "metadata": {},
   "outputs": [],
   "source": [
    "clusters = list(range(1,11))\n",
    "inertia = []\n",
    "\n",
    "for i in clusters:\n",
    "    kmeans = KMeans(n_clusters=i)\n",
    "    kmeans.fit(X)\n",
    "    inertia.append(kmeans.inertia_) \n",
    "    # intertia is also known as the \"within cluster sum-of-squares\". \n",
    "    # intertia is calculated by measuring the square of the distance between each point and the centroid of its cluster.\n",
    "    # low inertia means we have tight groupings (this is good)"
   ]
  },
  {
   "cell_type": "code",
   "execution_count": 24,
   "id": "60ad721e",
   "metadata": {},
   "outputs": [
    {
     "data": {
      "text/plain": [
       "<AxesSubplot:>"
      ]
     },
     "execution_count": 24,
     "metadata": {},
     "output_type": "execute_result"
    },
    {
     "data": {
      "image/png": "[encoded data removed]",
      "text/plain": [
       "<Figure size 432x288 with 1 Axes>"
      ]
     },
     "metadata": {
      "needs_background": "light"
     },
     "output_type": "display_data"
    }
   ],
   "source": [
    "sns.lineplot(x=clusters, y=inertia)"
   ]
  },
  {
   "cell_type": "markdown",
   "id": "2729aed0",
   "metadata": {},
   "source": [
    "What is the optimum number of clusters?\n",
    "\n",
    "According to the Elbow method, I'd choose K=6. \n",
    "\n",
    "Now let's fit the data to the model. "
   ]
  },
  {
   "cell_type": "code",
   "execution_count": 25,
   "id": "30a1228a",
   "metadata": {},
   "outputs": [
    {
     "data": {
      "text/html": [
       "<style>#sk-container-id-2 {color: black;background-color: white;}#sk-container-id-2 pre{padding: 0;}#sk-container-id-2 div.sk-toggleable {background-color: white;}#sk-container-id-2 label.sk-toggleable__label {cursor: pointer;display: block;width: 100%;margin-bottom: 0;padding: 0.3em;box-sizing: border-box;text-align: center;}#sk-container-id-2 label.sk-toggleable__label-arrow:before {content: \"▸\";float: left;margin-right: 0.25em;color: #696969;}#sk-container-id-2 label.sk-toggleable__label-arrow:hover:before {color: black;}#sk-container-id-2 div.sk-estimator:hover label.sk-toggleable__label-arrow:before {color: black;}#sk-container-id-2 div.sk-toggleable__content {max-height: 0;max-width: 0;overflow: hidden;text-align: left;background-color: #f0f8ff;}#sk-container-id-2 div.sk-toggleable__content pre {margin: 0.2em;color: black;border-radius: 0.25em;background-color: #f0f8ff;}#sk-container-id-2 input.sk-toggleable__control:checked~div.sk-toggleable__content {max-height: 200px;max-width: 100%;overflow: auto;}#sk-container-id-2 input.sk-toggleable__control:checked~label.sk-toggleable__label-arrow:before {content: \"▾\";}#sk-container-id-2 div.sk-estimator input.sk-toggleable__control:checked~label.sk-toggleable__label {background-color: #d4ebff;}#sk-container-id-2 div.sk-label input.sk-toggleable__control:checked~label.sk-toggleable__label {background-color: #d4ebff;}#sk-container-id-2 input.sk-hidden--visually {border: 0;clip: rect(1px 1px 1px 1px);clip: rect(1px, 1px, 1px, 1px);height: 1px;margin: -1px;overflow: hidden;padding: 0;position: absolute;width: 1px;}#sk-container-id-2 div.sk-estimator {font-family: monospace;background-color: #f0f8ff;border: 1px dotted black;border-radius: 0.25em;box-sizing: border-box;margin-bottom: 0.5em;}#sk-container-id-2 div.sk-estimator:hover {background-color: #d4ebff;}#sk-container-id-2 div.sk-parallel-item::after {content: \"\";width: 100%;border-bottom: 1px solid gray;flex-grow: 1;}#sk-container-id-2 div.sk-label:hover label.sk-toggleable__label {background-color: #d4ebff;}#sk-container-id-2 div.sk-serial::before {content: \"\";position: absolute;border-left: 1px solid gray;box-sizing: border-box;top: 0;bottom: 0;left: 50%;z-index: 0;}#sk-container-id-2 div.sk-serial {display: flex;flex-direction: column;align-items: center;background-color: white;padding-right: 0.2em;padding-left: 0.2em;position: relative;}#sk-container-id-2 div.sk-item {position: relative;z-index: 1;}#sk-container-id-2 div.sk-parallel {display: flex;align-items: stretch;justify-content: center;background-color: white;position: relative;}#sk-container-id-2 div.sk-item::before, #sk-container-id-2 div.sk-parallel-item::before {content: \"\";position: absolute;border-left: 1px solid gray;box-sizing: border-box;top: 0;bottom: 0;left: 50%;z-index: -1;}#sk-container-id-2 div.sk-parallel-item {display: flex;flex-direction: column;z-index: 1;position: relative;background-color: white;}#sk-container-id-2 div.sk-parallel-item:first-child::after {align-self: flex-end;width: 50%;}#sk-container-id-2 div.sk-parallel-item:last-child::after {align-self: flex-start;width: 50%;}#sk-container-id-2 div.sk-parallel-item:only-child::after {width: 0;}#sk-container-id-2 div.sk-dashed-wrapped {border: 1px dashed gray;margin: 0 0.4em 0.5em 0.4em;box-sizing: border-box;padding-bottom: 0.4em;background-color: white;}#sk-container-id-2 div.sk-label label {font-family: monospace;font-weight: bold;display: inline-block;line-height: 1.2em;}#sk-container-id-2 div.sk-label-container {text-align: center;}#sk-container-id-2 div.sk-container {/* jupyter's `normalize.less` sets `[hidden] { display: none; }` but bootstrap.min.css set `[hidden] { display: none !important; }` so we also need the `!important` here to be able to override the default hidden behavior on the sphinx rendered scikit-learn.org. See: https://github.com/scikit-learn/scikit-learn/issues/21755 */display: inline-block !important;position: relative;}#sk-container-id-2 div.sk-text-repr-fallback {display: none;}</style><div id=\"sk-container-id-2\" class=\"sk-top-container\"><div class=\"sk-text-repr-fallback\"><pre>KMeans(n_clusters=6)</pre><b>In a Jupyter environment, please rerun this cell to show the HTML representation or trust the notebook. <br />On GitHub, the HTML representation is unable to render, please try loading this page with nbviewer.org.</b></div><div class=\"sk-container\" hidden><div class=\"sk-item\"><div class=\"sk-estimator sk-toggleable\"><input class=\"sk-toggleable__control sk-hidden--visually\" id=\"sk-estimator-id-2\" type=\"checkbox\" checked><label for=\"sk-estimator-id-2\" class=\"sk-toggleable__label sk-toggleable__label-arrow\">KMeans</label><div class=\"sk-toggleable__content\"><pre>KMeans(n_clusters=6)</pre></div></div></div></div></div>"
      ],
      "text/plain": [
       "KMeans(n_clusters=6)"
      ]
     },
     "execution_count": 25,
     "metadata": {},
     "output_type": "execute_result"
    }
   ],
   "source": [
    "kmeans = KMeans(n_clusters=6)\n",
    "kmeans.fit(X)"
   ]
  },
  {
   "cell_type": "markdown",
   "id": "d857d919",
   "metadata": {},
   "source": [
    "Can we plot 4 dimensions in a chart? \n",
    "\n",
    "Actually, yes we can! Let's have an interactive 3d chart using Plotly.\n",
    "\n",
    "x = Annual Income (k$)\n",
    "y = Spending Score (1=100)\n",
    "z = Age\n",
    "shape = gender (circles for male, diamonds for female) \n",
    "color = cluster"
   ]
  },
  {
   "cell_type": "code",
   "execution_count": 27,
   "id": "584d4577",
   "metadata": {},
   "outputs": [
    {
     "data": {
      "application/vnd.plotly.v1+json": {
       "config": {
        "plotlyServerURL": "https://plot.ly"
       },
       "data": [
        {
         "hovertemplate": "Gender=0<br>Annual Income (k$)=%{x}<br>Spending Score (1-100)=%{y}<br>Age=%{z}<br>color=%{marker.color}<extra></extra>",
         "legendgroup": "0",
         "marker": {
          "color": [
           3,
           0,
           3,
           3,
           3,
           0,
           0,
           3,
           3,
           0,
           0,
           0,
           0,
           3,
           3,
           0,
           0,
           1,
           5,
           1,
           1,
           1,
           1,
           1,
           5,
           1,
           5,
           5,
           1,
           1,
           5,
           5,
           1,
           5,
           1,
           1,
           5,
           1,
           5,
           1,
           5,
           1,
           5,
           1,
           1,
           1,
           1,
           1,
           5,
           5,
           2,
           4,
           2,
           4,
           2,
           4,
           2,
           4,
           2,
           4,
           2,
           4,
           2,
           4,
           2,
           4,
           2,
           4,
           4,
           4,
           4,
           4,
           2,
           4,
           2,
           4,
           2,
           4,
           2,
           4,
           2,
           4,
           2,
           2,
           4,
           2,
           4,
           2
          ],
          "coloraxis": "coloraxis",
          "symbol": "circle"
         },
         "mode": "markers",
         "name": "0",
         "scene": "scene",
         "showlegend": true,
         "type": "scatter3d",
         "x": [
          15,
          15,
          19,
          19,
          20,
          20,
          21,
          23,
          24,
          24,
          25,
          28,
          28,
          30,
          33,
          33,
          38,
          39,
          42,
          43,
          43,
          44,
          46,
          46,
          46,
          48,
          48,
          48,
          49,
          54,
          54,
          54,
          54,
          54,
          54,
          54,
          59,
          60,
          60,
          61,
          61,
          62,
          62,
          62,
          63,
          63,
          63,
          63,
          64,
          67,
          69,
          71,
          71,
          71,
          71,
          71,
          71,
          73,
          73,
          74,
          75,
          77,
          77,
          77,
          78,
          78,
          78,
          78,
          78,
          81,
          85,
          86,
          87,
          87,
          87,
          87,
          87,
          88,
          88,
          93,
          93,
          98,
          99,
          101,
          113,
          126,
          137,
          137
         ],
         "y": [
          39,
          81,
          3,
          14,
          13,
          79,
          66,
          29,
          35,
          73,
          73,
          82,
          61,
          4,
          4,
          92,
          92,
          36,
          60,
          60,
          41,
          46,
          46,
          56,
          55,
          51,
          59,
          59,
          55,
          47,
          54,
          48,
          51,
          55,
          41,
          46,
          41,
          49,
          52,
          42,
          49,
          59,
          55,
          56,
          46,
          43,
          48,
          52,
          46,
          56,
          91,
          35,
          95,
          11,
          75,
          9,
          75,
          5,
          73,
          10,
          93,
          12,
          97,
          36,
          90,
          17,
          88,
          1,
          1,
          5,
          26,
          20,
          63,
          13,
          75,
          10,
          92,
          15,
          69,
          14,
          90,
          15,
          97,
          68,
          8,
          74,
          18,
          83
         ],
         "z": [
          19,
          21,
          64,
          67,
          37,
          22,
          20,
          52,
          35,
          25,
          31,
          29,
          35,
          60,
          53,
          18,
          24,
          48,
          33,
          59,
          47,
          69,
          53,
          70,
          19,
          63,
          18,
          19,
          70,
          59,
          26,
          40,
          57,
          38,
          67,
          48,
          18,
          48,
          24,
          48,
          20,
          67,
          26,
          49,
          54,
          68,
          66,
          65,
          19,
          27,
          39,
          43,
          40,
          59,
          38,
          47,
          39,
          20,
          32,
          19,
          32,
          25,
          28,
          48,
          34,
          43,
          39,
          37,
          34,
          19,
          50,
          42,
          32,
          40,
          28,
          36,
          36,
          58,
          27,
          59,
          35,
          46,
          30,
          28,
          33,
          32,
          32,
          30
         ]
        },
        {
         "hovertemplate": "Gender=1<br>Annual Income (k$)=%{x}<br>Spending Score (1-100)=%{y}<br>Age=%{z}<br>color=%{marker.color}<extra></extra>",
         "legendgroup": "1",
         "marker": {
          "color": [
           3,
           0,
           3,
           0,
           3,
           0,
           0,
           0,
           3,
           0,
           3,
           0,
           3,
           3,
           3,
           3,
           0,
           0,
           3,
           0,
           3,
           0,
           3,
           0,
           1,
           5,
           3,
           0,
           1,
           5,
           5,
           5,
           1,
           5,
           1,
           1,
           5,
           1,
           1,
           1,
           1,
           5,
           1,
           1,
           1,
           1,
           5,
           1,
           1,
           5,
           1,
           5,
           5,
           1,
           1,
           5,
           5,
           1,
           5,
           5,
           1,
           5,
           1,
           5,
           5,
           5,
           5,
           1,
           1,
           1,
           1,
           5,
           5,
           5,
           2,
           5,
           2,
           2,
           4,
           2,
           4,
           5,
           2,
           2,
           4,
           4,
           2,
           4,
           2,
           2,
           2,
           4,
           2,
           2,
           2,
           2,
           4,
           4,
           2,
           4,
           2,
           2,
           4,
           4,
           4,
           2,
           4,
           2,
           2,
           4,
           2,
           4
          ],
          "coloraxis": "coloraxis",
          "symbol": "diamond"
         },
         "mode": "markers",
         "name": "1",
         "scene": "scene",
         "showlegend": true,
         "type": "scatter3d",
         "x": [
          16,
          16,
          17,
          17,
          18,
          18,
          19,
          19,
          20,
          20,
          21,
          23,
          25,
          28,
          28,
          29,
          29,
          30,
          33,
          33,
          34,
          34,
          37,
          37,
          38,
          39,
          39,
          39,
          40,
          40,
          40,
          40,
          42,
          43,
          43,
          44,
          46,
          47,
          47,
          48,
          48,
          48,
          49,
          50,
          50,
          54,
          54,
          54,
          54,
          54,
          57,
          57,
          58,
          58,
          59,
          60,
          60,
          60,
          60,
          62,
          62,
          62,
          63,
          63,
          64,
          65,
          65,
          65,
          65,
          67,
          67,
          67,
          69,
          70,
          70,
          72,
          72,
          73,
          73,
          74,
          75,
          76,
          76,
          77,
          78,
          78,
          78,
          78,
          78,
          78,
          78,
          79,
          79,
          81,
          85,
          86,
          87,
          88,
          88,
          97,
          97,
          98,
          99,
          101,
          103,
          103,
          103,
          103,
          113,
          120,
          120,
          126
         ],
         "y": [
          6,
          77,
          40,
          76,
          6,
          94,
          72,
          99,
          15,
          77,
          35,
          98,
          5,
          14,
          32,
          31,
          87,
          73,
          14,
          81,
          17,
          73,
          26,
          75,
          35,
          61,
          28,
          65,
          55,
          47,
          42,
          42,
          52,
          54,
          45,
          50,
          51,
          52,
          59,
          50,
          48,
          47,
          42,
          49,
          56,
          53,
          52,
          42,
          44,
          57,
          58,
          55,
          60,
          46,
          55,
          40,
          42,
          47,
          50,
          41,
          48,
          42,
          50,
          54,
          42,
          48,
          50,
          43,
          59,
          43,
          57,
          40,
          58,
          29,
          77,
          34,
          71,
          88,
          7,
          72,
          5,
          40,
          87,
          74,
          22,
          20,
          76,
          16,
          89,
          78,
          73,
          35,
          83,
          93,
          75,
          95,
          27,
          13,
          86,
          32,
          86,
          88,
          39,
          24,
          17,
          85,
          23,
          69,
          91,
          16,
          79,
          28
         ],
         "z": [
          20,
          23,
          31,
          22,
          35,
          23,
          30,
          35,
          58,
          24,
          35,
          35,
          46,
          54,
          45,
          40,
          23,
          21,
          49,
          21,
          42,
          30,
          36,
          20,
          65,
          31,
          49,
          24,
          50,
          27,
          29,
          31,
          49,
          31,
          50,
          51,
          27,
          67,
          54,
          43,
          68,
          32,
          47,
          60,
          60,
          45,
          23,
          49,
          46,
          21,
          55,
          22,
          34,
          50,
          68,
          40,
          32,
          47,
          27,
          23,
          49,
          21,
          66,
          19,
          38,
          18,
          19,
          63,
          49,
          51,
          50,
          38,
          40,
          23,
          31,
          25,
          31,
          29,
          44,
          35,
          57,
          28,
          32,
          32,
          34,
          44,
          38,
          47,
          27,
          30,
          30,
          56,
          29,
          31,
          36,
          33,
          36,
          52,
          30,
          37,
          32,
          29,
          41,
          54,
          41,
          36,
          34,
          32,
          38,
          47,
          35,
          45
         ]
        }
       ],
       "layout": {
        "autosize": false,
        "coloraxis": {
         "colorbar": {
          "title": {
           "text": "color"
          }
         },
         "colorscale": [
          [
           0,
           "#0d0887"
          ],
          [
           0.1111111111111111,
           "#46039f"
          ],
          [
           0.2222222222222222,
           "#7201a8"
          ],
          [
           0.3333333333333333,
           "#9c179e"
          ],
          [
           0.4444444444444444,
           "#bd3786"
          ],
          [
           0.5555555555555556,
           "#d8576b"
          ],
          [
           0.6666666666666666,
           "#ed7953"
          ],
          [
           0.7777777777777778,
           "#fb9f3a"
          ],
          [
           0.8888888888888888,
           "#fdca26"
          ],
          [
           1,
           "#f0f921"
          ]
         ]
        },
        "height": 800,
        "legend": {
         "title": {
          "text": "Gender"
         },
         "tracegroupgap": 0
        },
        "margin": {
         "t": 60
        },
        "scene": {
         "domain": {
          "x": [
           0,
           1
          ],
          "y": [
           0,
           1
          ]
         },
         "xaxis": {
          "title": {
           "text": "Annual Income (k$)"
          }
         },
         "yaxis": {
          "title": {
           "text": "Spending Score (1-100)"
          }
         },
         "zaxis": {
          "title": {
           "text": "Age"
          }
         }
        },
        "template": {
         "data": {
          "bar": [
           {
            "error_x": {
             "color": "#2a3f5f"
            },
            "error_y": {
             "color": "#2a3f5f"
            },
            "marker": {
             "line": {
              "color": "#E5ECF6",
              "width": 0.5
             },
             "pattern": {
              "fillmode": "overlay",
              "size": 10,
              "solidity": 0.2
             }
            },
            "type": "bar"
           }
          ],
          "barpolar": [
           {
            "marker": {
             "line": {
              "color": "#E5ECF6",
              "width": 0.5
             },
             "pattern": {
              "fillmode": "overlay",
              "size": 10,
              "solidity": 0.2
             }
            },
            "type": "barpolar"
           }
          ],
          "carpet": [
           {
            "aaxis": {
             "endlinecolor": "#2a3f5f",
             "gridcolor": "white",
             "linecolor": "white",
             "minorgridcolor": "white",
             "startlinecolor": "#2a3f5f"
            },
            "baxis": {
             "endlinecolor": "#2a3f5f",
             "gridcolor": "white",
             "linecolor": "white",
             "minorgridcolor": "white",
             "startlinecolor": "#2a3f5f"
            },
            "type": "carpet"
           }
          ],
          "choropleth": [
           {
            "colorbar": {
             "outlinewidth": 0,
             "ticks": ""
            },
            "type": "choropleth"
           }
          ],
          "contour": [
           {
            "colorbar": {
             "outlinewidth": 0,
             "ticks": ""
            },
            "colorscale": [
             [
              0,
              "#0d0887"
             ],
             [
              0.1111111111111111,
              "#46039f"
             ],
             [
              0.2222222222222222,
              "#7201a8"
             ],
             [
              0.3333333333333333,
              "#9c179e"
             ],
             [
              0.4444444444444444,
              "#bd3786"
             ],
             [
              0.5555555555555556,
              "#d8576b"
             ],
             [
              0.6666666666666666,
              "#ed7953"
             ],
             [
              0.7777777777777778,
              "#fb9f3a"
             ],
             [
              0.8888888888888888,
              "#fdca26"
             ],
             [
              1,
              "#f0f921"
             ]
            ],
            "type": "contour"
           }
          ],
          "contourcarpet": [
           {
            "colorbar": {
             "outlinewidth": 0,
             "ticks": ""
            },
            "type": "contourcarpet"
           }
          ],
          "heatmap": [
           {
            "colorbar": {
             "outlinewidth": 0,
             "ticks": ""
            },
            "colorscale": [
             [
              0,
              "#0d0887"
             ],
             [
              0.1111111111111111,
              "#46039f"
             ],
             [
              0.2222222222222222,
              "#7201a8"
             ],
             [
              0.3333333333333333,
              "#9c179e"
             ],
             [
              0.4444444444444444,
              "#bd3786"
             ],
             [
              0.5555555555555556,
              "#d8576b"
             ],
             [
              0.6666666666666666,
              "#ed7953"
             ],
             [
              0.7777777777777778,
              "#fb9f3a"
             ],
             [
              0.8888888888888888,
              "#fdca26"
             ],
             [
              1,
              "#f0f921"
             ]
            ],
            "type": "heatmap"
           }
          ],
          "heatmapgl": [
           {
            "colorbar": {
             "outlinewidth": 0,
             "ticks": ""
            },
            "colorscale": [
             [
              0,
              "#0d0887"
             ],
             [
              0.1111111111111111,
              "#46039f"
             ],
             [
              0.2222222222222222,
              "#7201a8"
             ],
             [
              0.3333333333333333,
              "#9c179e"
             ],
             [
              0.4444444444444444,
              "#bd3786"
             ],
             [
              0.5555555555555556,
              "#d8576b"
             ],
             [
              0.6666666666666666,
              "#ed7953"
             ],
             [
              0.7777777777777778,
              "#fb9f3a"
             ],
             [
              0.8888888888888888,
              "#fdca26"
             ],
             [
              1,
              "#f0f921"
             ]
            ],
            "type": "heatmapgl"
           }
          ],
          "histogram": [
           {
            "marker": {
             "pattern": {
              "fillmode": "overlay",
              "size": 10,
              "solidity": 0.2
             }
            },
            "type": "histogram"
           }
          ],
          "histogram2d": [
           {
            "colorbar": {
             "outlinewidth": 0,
             "ticks": ""
            },
            "colorscale": [
             [
              0,
              "#0d0887"
             ],
             [
              0.1111111111111111,
              "#46039f"
             ],
             [
              0.2222222222222222,
              "#7201a8"
             ],
             [
              0.3333333333333333,
              "#9c179e"
             ],
             [
              0.4444444444444444,
              "#bd3786"
             ],
             [
              0.5555555555555556,
              "#d8576b"
             ],
             [
              0.6666666666666666,
              "#ed7953"
             ],
             [
              0.7777777777777778,
              "#fb9f3a"
             ],
             [
              0.8888888888888888,
              "#fdca26"
             ],
             [
              1,
              "#f0f921"
             ]
            ],
            "type": "histogram2d"
           }
          ],
          "histogram2dcontour": [
           {
            "colorbar": {
             "outlinewidth": 0,
             "ticks": ""
            },
            "colorscale": [
             [
              0,
              "#0d0887"
             ],
             [
              0.1111111111111111,
              "#46039f"
             ],
             [
              0.2222222222222222,
              "#7201a8"
             ],
             [
              0.3333333333333333,
              "#9c179e"
             ],
             [
              0.4444444444444444,
              "#bd3786"
             ],
             [
              0.5555555555555556,
              "#d8576b"
             ],
             [
              0.6666666666666666,
              "#ed7953"
             ],
             [
              0.7777777777777778,
              "#fb9f3a"
             ],
             [
              0.8888888888888888,
              "#fdca26"
             ],
             [
              1,
              "#f0f921"
             ]
            ],
            "type": "histogram2dcontour"
           }
          ],
          "mesh3d": [
           {
            "colorbar": {
             "outlinewidth": 0,
             "ticks": ""
            },
            "type": "mesh3d"
           }
          ],
          "parcoords": [
           {
            "line": {
             "colorbar": {
              "outlinewidth": 0,
              "ticks": ""
             }
            },
            "type": "parcoords"
           }
          ],
          "pie": [
           {
            "automargin": true,
            "type": "pie"
           }
          ],
          "scatter": [
           {
            "fillpattern": {
             "fillmode": "overlay",
             "size": 10,
             "solidity": 0.2
            },
            "type": "scatter"
           }
          ],
          "scatter3d": [
           {
            "line": {
             "colorbar": {
              "outlinewidth": 0,
              "ticks": ""
             }
            },
            "marker": {
             "colorbar": {
              "outlinewidth": 0,
              "ticks": ""
             }
            },
            "type": "scatter3d"
           }
          ],
          "scattercarpet": [
           {
            "marker": {
             "colorbar": {
              "outlinewidth": 0,
              "ticks": ""
             }
            },
            "type": "scattercarpet"
           }
          ],
          "scattergeo": [
           {
            "marker": {
             "colorbar": {
              "outlinewidth": 0,
              "ticks": ""
             }
            },
            "type": "scattergeo"
           }
          ],
          "scattergl": [
           {
            "marker": {
             "colorbar": {
              "outlinewidth": 0,
              "ticks": ""
             }
            },
            "type": "scattergl"
           }
          ],
          "scattermapbox": [
           {
            "marker": {
             "colorbar": {
              "outlinewidth": 0,
              "ticks": ""
             }
            },
            "type": "scattermapbox"
           }
          ],
          "scatterpolar": [
           {
            "marker": {
             "colorbar": {
              "outlinewidth": 0,
              "ticks": ""
             }
            },
            "type": "scatterpolar"
           }
          ],
          "scatterpolargl": [
           {
            "marker": {
             "colorbar": {
              "outlinewidth": 0,
              "ticks": ""
             }
            },
            "type": "scatterpolargl"
           }
          ],
          "scatterternary": [
           {
            "marker": {
             "colorbar": {
              "outlinewidth": 0,
              "ticks": ""
             }
            },
            "type": "scatterternary"
           }
          ],
          "surface": [
           {
            "colorbar": {
             "outlinewidth": 0,
             "ticks": ""
            },
            "colorscale": [
             [
              0,
              "#0d0887"
             ],
             [
              0.1111111111111111,
              "#46039f"
             ],
             [
              0.2222222222222222,
              "#7201a8"
             ],
             [
              0.3333333333333333,
              "#9c179e"
             ],
             [
              0.4444444444444444,
              "#bd3786"
             ],
             [
              0.5555555555555556,
              "#d8576b"
             ],
             [
              0.6666666666666666,
              "#ed7953"
             ],
             [
              0.7777777777777778,
              "#fb9f3a"
             ],
             [
              0.8888888888888888,
              "#fdca26"
             ],
             [
              1,
              "#f0f921"
             ]
            ],
            "type": "surface"
           }
          ],
          "table": [
           {
            "cells": {
             "fill": {
              "color": "#EBF0F8"
             },
             "line": {
              "color": "white"
             }
            },
            "header": {
             "fill": {
              "color": "#C8D4E3"
             },
             "line": {
              "color": "white"
             }
            },
            "type": "table"
           }
          ]
         },
         "layout": {
          "annotationdefaults": {
           "arrowcolor": "#2a3f5f",
           "arrowhead": 0,
           "arrowwidth": 1
          },
          "autotypenumbers": "strict",
          "coloraxis": {
           "colorbar": {
            "outlinewidth": 0,
            "ticks": ""
           }
          },
          "colorscale": {
           "diverging": [
            [
             0,
             "#8e0152"
            ],
            [
             0.1,
             "#c51b7d"
            ],
            [
             0.2,
             "#de77ae"
            ],
            [
             0.3,
             "#f1b6da"
            ],
            [
             0.4,
             "#fde0ef"
            ],
            [
             0.5,
             "#f7f7f7"
            ],
            [
             0.6,
             "#e6f5d0"
            ],
            [
             0.7,
             "#b8e186"
            ],
            [
             0.8,
             "#7fbc41"
            ],
            [
             0.9,
             "#4d9221"
            ],
            [
             1,
             "#276419"
            ]
           ],
           "sequential": [
            [
             0,
             "#0d0887"
            ],
            [
             0.1111111111111111,
             "#46039f"
            ],
            [
             0.2222222222222222,
             "#7201a8"
            ],
            [
             0.3333333333333333,
             "#9c179e"
            ],
            [
             0.4444444444444444,
             "#bd3786"
            ],
            [
             0.5555555555555556,
             "#d8576b"
            ],
            [
             0.6666666666666666,
             "#ed7953"
            ],
            [
             0.7777777777777778,
             "#fb9f3a"
            ],
            [
             0.8888888888888888,
             "#fdca26"
            ],
            [
             1,
             "#f0f921"
            ]
           ],
           "sequentialminus": [
            [
             0,
             "#0d0887"
            ],
            [
             0.1111111111111111,
             "#46039f"
            ],
            [
             0.2222222222222222,
             "#7201a8"
            ],
            [
             0.3333333333333333,
             "#9c179e"
            ],
            [
             0.4444444444444444,
             "#bd3786"
            ],
            [
             0.5555555555555556,
             "#d8576b"
            ],
            [
             0.6666666666666666,
             "#ed7953"
            ],
            [
             0.7777777777777778,
             "#fb9f3a"
            ],
            [
             0.8888888888888888,
             "#fdca26"
            ],
            [
             1,
             "#f0f921"
            ]
           ]
          },
          "colorway": [
           "#636efa",
           "#EF553B",
           "#00cc96",
           "#ab63fa",
           "#FFA15A",
           "#19d3f3",
           "#FF6692",
           "#B6E880",
           "#FF97FF",
           "#FECB52"
          ],
          "font": {
           "color": "#2a3f5f"
          },
          "geo": {
           "bgcolor": "white",
           "lakecolor": "white",
           "landcolor": "#E5ECF6",
           "showlakes": true,
           "showland": true,
           "subunitcolor": "white"
          },
          "hoverlabel": {
           "align": "left"
          },
          "hovermode": "closest",
          "mapbox": {
           "style": "light"
          },
          "paper_bgcolor": "white",
          "plot_bgcolor": "#E5ECF6",
          "polar": {
           "angularaxis": {
            "gridcolor": "white",
            "linecolor": "white",
            "ticks": ""
           },
           "bgcolor": "#E5ECF6",
           "radialaxis": {
            "gridcolor": "white",
            "linecolor": "white",
            "ticks": ""
           }
          },
          "scene": {
           "xaxis": {
            "backgroundcolor": "#E5ECF6",
            "gridcolor": "white",
            "gridwidth": 2,
            "linecolor": "white",
            "showbackground": true,
            "ticks": "",
            "zerolinecolor": "white"
           },
           "yaxis": {
            "backgroundcolor": "#E5ECF6",
            "gridcolor": "white",
            "gridwidth": 2,
            "linecolor": "white",
            "showbackground": true,
            "ticks": "",
            "zerolinecolor": "white"
           },
           "zaxis": {
            "backgroundcolor": "#E5ECF6",
            "gridcolor": "white",
            "gridwidth": 2,
            "linecolor": "white",
            "showbackground": true,
            "ticks": "",
            "zerolinecolor": "white"
           }
          },
          "shapedefaults": {
           "line": {
            "color": "#2a3f5f"
           }
          },
          "ternary": {
           "aaxis": {
            "gridcolor": "white",
            "linecolor": "white",
            "ticks": ""
           },
           "baxis": {
            "gridcolor": "white",
            "linecolor": "white",
            "ticks": ""
           },
           "bgcolor": "#E5ECF6",
           "caxis": {
            "gridcolor": "white",
            "linecolor": "white",
            "ticks": ""
           }
          },
          "title": {
           "x": 0.05
          },
          "xaxis": {
           "automargin": true,
           "gridcolor": "white",
           "linecolor": "white",
           "ticks": "",
           "title": {
            "standoff": 15
           },
           "zerolinecolor": "white",
           "zerolinewidth": 2
          },
          "yaxis": {
           "automargin": true,
           "gridcolor": "white",
           "linecolor": "white",
           "ticks": "",
           "title": {
            "standoff": 15
           },
           "zerolinecolor": "white",
           "zerolinewidth": 2
          }
         }
        },
        "width": 1600
       }
      }
     },
     "metadata": {},
     "output_type": "display_data"
    }
   ],
   "source": [
    "import plotly.express as px\n",
    "\n",
    "fig = px.scatter_3d(shoppers_df, x='Annual Income (k$)', y='Spending Score (1-100)', z='Age',\n",
    "              color=kmeans.labels_, symbol='Gender')\n",
    "fig.update_layout(\n",
    "    autosize=False,\n",
    "    width=1600,\n",
    "    height=800,)\n",
    "fig.show()"
   ]
  },
  {
   "cell_type": "markdown",
   "id": "a8852f8b",
   "metadata": {},
   "source": [
    "I'm sure you'll agree that this is really cool!\n",
    "\n",
    "And you can use the chart to verify that 6 clusters actually do make sense. \n"
   ]
  },
  {
   "cell_type": "markdown",
   "id": "699baa9a",
   "metadata": {},
   "source": [
    "# T-SNE\n",
    "\n",
    "Let's build on the last example. Would you have been able to use the KMeans model with additional features of data? \n",
    "\n",
    "Hopefully, the answer is yes, although I think we have to concede that we really were pushing the limits of how many features you could visualise. \n",
    "\n",
    "This is a great time to introduce T-SNE.\n",
    "\n",
    "T-SNE stands for t-disributed stochastic neighbor embedding. \n",
    "\n",
    "It's a useful tool for visualising higher dimensional data in 2 or 3 dimensions. \n",
    "\n",
    "While distortion is inevitable, t-sne does a good job of representing the distances between the samples.\n"
   ]
  },
  {
   "cell_type": "code",
   "execution_count": 28,
   "id": "9d9dbc76",
   "metadata": {},
   "outputs": [
    {
     "name": "stderr",
     "output_type": "stream",
     "text": [
      "/Library/Frameworks/Python.framework/Versions/3.10/lib/python3.10/site-packages/sklearn/manifold/_t_sne.py:800: FutureWarning:\n",
      "\n",
      "The default initialization in TSNE will change from 'random' to 'pca' in 1.2.\n",
      "\n"
     ]
    },
    {
     "data": {
      "text/plain": [
       "array([[  1.4456077 ,  -9.764502  ],\n",
       "       [  9.13989   , -12.208989  ],\n",
       "       [ -0.73665917, -10.973182  ],\n",
       "       [  9.132264  , -11.748295  ],\n",
       "       [  1.0928344 ,  -9.564889  ],\n",
       "       [  9.059899  , -11.596917  ],\n",
       "       [ -1.292273  , -10.7188425 ],\n",
       "       [  8.8489    , -12.886492  ],\n",
       "       [ -2.9105344 ,  -9.954058  ],\n",
       "       [  8.750811  , -11.118778  ],\n",
       "       [ -2.9001088 ,  -9.462236  ],\n",
       "       [  8.850918  , -13.363309  ],\n",
       "       [ -2.4185526 ,  -9.45109   ],\n",
       "       [  8.560838  , -11.755396  ],\n",
       "       [ -1.0843887 , -10.3217    ],\n",
       "       [  8.605316  , -12.0204    ],\n",
       "       [  0.58546925,  -9.413914  ],\n",
       "       [  8.661771  , -10.74079   ],\n",
       "       [ -1.2458478 ,  -8.794415  ],\n",
       "       [  8.570133  , -13.389685  ],\n",
       "       [  0.52443063,  -9.2833395 ],\n",
       "       [  8.225406  , -11.307738  ],\n",
       "       [ -1.8981233 , -10.336067  ],\n",
       "       [  8.112823  , -11.030787  ],\n",
       "       [ -2.0535457 ,  -9.58439   ],\n",
       "       [  7.9887824 , -12.136885  ],\n",
       "       [ -0.41946578,  -8.696394  ],\n",
       "       [  7.3249855 , -10.006091  ],\n",
       "       [ -0.12803347,  -8.972036  ],\n",
       "       [  8.036319  , -12.589601  ],\n",
       "       [ -2.630007  , -10.102034  ],\n",
       "       [  7.670918  , -11.3753195 ],\n",
       "       [ -2.299438  , -10.227609  ],\n",
       "       [  7.744229  , -12.968994  ],\n",
       "       [ -1.7082082 ,  -9.599674  ],\n",
       "       [  7.511938  , -12.105521  ],\n",
       "       [ -1.1650078 ,  -9.533353  ],\n",
       "       [  7.4231343 , -10.883568  ],\n",
       "       [ -0.37659743,  -8.985329  ],\n",
       "       [  7.1466174 , -11.518897  ],\n",
       "       [ -2.62148   ,  -5.6230454 ],\n",
       "       [  7.5439115 , -12.998456  ],\n",
       "       [ -0.46435264,  -7.1221256 ],\n",
       "       [  6.4330144 ,  -8.902338  ],\n",
       "       [ -0.87398744,  -8.0289545 ],\n",
       "       [  6.9143467 ,  -9.413879  ],\n",
       "       [ -1.0417719 ,  -4.711445  ],\n",
       "       [  4.748098  ,  -7.6968455 ],\n",
       "       [  4.142648  ,  -7.712366  ],\n",
       "       [  4.0264664 ,  -7.7044725 ],\n",
       "       [ -0.60594785,  -4.763209  ],\n",
       "       [  6.1488175 ,  -8.558749  ],\n",
       "       [  5.5584307 ,  -7.8535094 ],\n",
       "       [ -2.1072414 ,  -3.8775842 ],\n",
       "       [ -0.09153259,  -4.999024  ],\n",
       "       [  0.11416643,  -5.636369  ],\n",
       "       [ -0.52442044,  -4.4538975 ],\n",
       "       [ -3.221835  ,  -3.3275416 ],\n",
       "       [  5.4967303 ,  -7.1187057 ],\n",
       "       [ -0.3330804 ,  -4.1386757 ],\n",
       "       [ -3.4290571 ,  -2.7426686 ],\n",
       "       [  6.4824724 ,  -6.961843  ],\n",
       "       [ -2.8779514 ,  -2.851077  ],\n",
       "       [ -1.4464667 ,  -3.808257  ],\n",
       "       [ -2.3613656 ,  -2.878469  ],\n",
       "       [  6.9630184 ,  -6.8501186 ],\n",
       "       [  1.4331766 ,  -4.479305  ],\n",
       "       [ -2.8852527 ,  -2.5605526 ],\n",
       "       [  6.873588  ,  -6.87983   ],\n",
       "       [  4.6907363 ,  -6.8343325 ],\n",
       "       [ -3.2858698 ,  -2.2977843 ],\n",
       "       [  0.70316625,  -4.2807775 ],\n",
       "       [ -1.7457565 ,  -2.7137098 ],\n",
       "       [ -1.9050398 ,  -3.0281184 ],\n",
       "       [ -1.3574798 ,  -2.2506182 ],\n",
       "       [  6.0580506 ,  -5.6871696 ],\n",
       "       [  1.8486725 ,  -3.4750018 ],\n",
       "       [  2.4821217 ,  -3.7248487 ],\n",
       "       [  6.4479094 ,  -5.6184464 ],\n",
       "       [  0.83324134,  -3.1978912 ],\n",
       "       [ -1.0593482 ,  -2.4199328 ],\n",
       "       [  3.4110374 ,  -4.408621  ],\n",
       "       [ -2.3434675 ,  -1.7781618 ],\n",
       "       [  1.3907948 ,  -3.2522254 ],\n",
       "       [  6.8668294 ,  -5.92986   ],\n",
       "       [  1.0176277 ,  -3.117662  ],\n",
       "       [ -0.5458609 ,  -1.6612631 ],\n",
       "       [  6.8332543 ,  -5.3259797 ],\n",
       "       [  4.759577  ,  -4.7643566 ],\n",
       "       [  0.9801902 ,  -2.3429985 ],\n",
       "       [ -2.8653312 ,  -1.2330735 ],\n",
       "       [  7.5806313 ,  -3.2506578 ],\n",
       "       [  1.2809696 ,  -1.9587817 ],\n",
       "       [  3.5707695 ,  -1.9789611 ],\n",
       "       [  5.2756534 ,  -2.56139   ],\n",
       "       [  6.621982  ,  -4.7141333 ],\n",
       "       [  1.6472853 ,  -2.1801305 ],\n",
       "       [  6.2339263 ,  -4.3318896 ],\n",
       "       [  2.0854323 ,  -1.9524786 ],\n",
       "       [  7.0563827 ,  -4.270586  ],\n",
       "       [  6.8465223 ,  -2.918165  ],\n",
       "       [  1.329042  ,  -1.6139523 ],\n",
       "       [ -3.0108778 ,  -0.80375123],\n",
       "       [  6.18982   ,  -4.6632934 ],\n",
       "       [  0.7367149 ,  -0.86484545],\n",
       "       [  7.064172  ,  -3.117995  ],\n",
       "       [ -2.1951127 ,  -0.77723825],\n",
       "       [  0.5732073 ,  -1.5474548 ],\n",
       "       [ -1.9461839 ,  -0.3796963 ],\n",
       "       [ -1.9917934 ,  -0.7677887 ],\n",
       "       [ -2.2763865 ,  -0.812487  ],\n",
       "       [  7.3180227 ,  -4.73019   ],\n",
       "       [  4.2192836 ,  -1.7165568 ],\n",
       "       [  7.141835  ,  -3.618003  ],\n",
       "       [  7.5269346 ,  -3.9032729 ],\n",
       "       [  7.355968  ,  -4.1476455 ],\n",
       "       [ -1.4275994 ,  -0.42815852],\n",
       "       [  0.7647134 ,  -0.34157756],\n",
       "       [  2.063956  ,  -1.0982544 ],\n",
       "       [  0.7928438 ,  -0.36541462],\n",
       "       [  6.0231996 ,  -4.141636  ],\n",
       "       [  4.539936  ,  -1.2833782 ],\n",
       "       [  1.4358565 ,   0.18274526],\n",
       "       [-12.678271  ,  12.416756  ],\n",
       "       [  7.4064465 ,  -0.97415394],\n",
       "       [-11.118694  ,  11.931505  ],\n",
       "       [  5.067659  ,   0.5710863 ],\n",
       "       [-13.031995  ,  12.874349  ],\n",
       "       [  9.4953    ,   4.939799  ],\n",
       "       [-10.850153  ,  11.590756  ],\n",
       "       [  9.3851185 ,   4.207723  ],\n",
       "       [-10.877254  ,  11.528515  ],\n",
       "       [  7.115705  ,  -1.2924752 ],\n",
       "       [-10.006873  ,  11.71672   ],\n",
       "       [  9.440715  ,   2.1272    ],\n",
       "       [-12.039809  ,  12.605008  ],\n",
       "       [  9.335777  ,   3.955674  ],\n",
       "       [-10.320601  ,  11.923652  ],\n",
       "       [  9.180014  ,   1.9396565 ],\n",
       "       [-10.185525  ,  11.89385   ],\n",
       "       [  9.427325  ,   4.864185  ],\n",
       "       [-12.656526  ,  13.359241  ],\n",
       "       [  6.7310047 ,  -1.3354886 ],\n",
       "       [-11.749932  ,  12.980181  ],\n",
       "       [  8.859808  ,   2.3547862 ],\n",
       "       [-12.866352  ,  13.8685255 ],\n",
       "       [  5.436083  ,   1.8033471 ],\n",
       "       [-10.238576  ,  12.49061   ],\n",
       "       [  7.788507  ,   2.881874  ],\n",
       "       [-12.115155  ,  13.495096  ],\n",
       "       [  8.339422  ,   3.7976182 ],\n",
       "       [-12.157448  ,  13.000781  ],\n",
       "       [  7.935309  ,   3.6273453 ],\n",
       "       [-10.725036  ,  12.441396  ],\n",
       "       [  8.577521  ,   4.2219524 ],\n",
       "       [-11.772428  ,  13.590372  ],\n",
       "       [  9.446391  ,   3.3368635 ],\n",
       "       [-10.73955   ,  12.847671  ],\n",
       "       [  9.430147  ,   3.093118  ],\n",
       "       [ -9.962816  ,  12.586806  ],\n",
       "       [  5.473164  ,   2.2338853 ],\n",
       "       [-11.170158  ,  13.260602  ],\n",
       "       [  9.376704  ,   2.2206168 ],\n",
       "       [-12.255949  ,  14.015288  ],\n",
       "       [  7.117641  ,   4.0012293 ],\n",
       "       [-10.131059  ,  13.329992  ],\n",
       "       [  7.5850525 ,   4.0487    ],\n",
       "       [-12.211157  ,  14.593573  ],\n",
       "       [  6.8992596 ,   3.6136158 ],\n",
       "       [ -9.036702  ,  13.340602  ],\n",
       "       [  8.061524  ,   4.125431  ],\n",
       "       [ -9.984379  ,  13.719092  ],\n",
       "       [  8.491151  ,   3.4057558 ],\n",
       "       [-11.847132  ,  14.533158  ],\n",
       "       [  8.21883   ,   4.90175   ],\n",
       "       [-11.105082  ,  14.261692  ],\n",
       "       [  8.371368  ,   5.278846  ],\n",
       "       [ -9.373277  ,  13.621635  ],\n",
       "       [  8.104938  ,   5.5385594 ],\n",
       "       [-11.394401  ,  14.973856  ],\n",
       "       [  6.1854405 ,   4.495884  ],\n",
       "       [-10.711194  ,  15.048305  ],\n",
       "       [  7.325395  ,   5.11083   ],\n",
       "       [-10.901341  ,  15.27905   ],\n",
       "       [  5.8620443 ,   4.5198236 ],\n",
       "       [-11.470849  ,  15.629908  ],\n",
       "       [  7.1632075 ,   5.482124  ],\n",
       "       [ -9.228805  ,  14.763745  ],\n",
       "       [  6.7632113 ,   5.367337  ],\n",
       "       [-10.402988  ,  15.537401  ],\n",
       "       [  6.3394766 ,   5.1231575 ],\n",
       "       [ -9.299267  ,  14.999357  ],\n",
       "       [  6.663774  ,   6.247943  ],\n",
       "       [-10.362757  ,  16.18095   ],\n",
       "       [  6.303175  ,   6.246492  ],\n",
       "       [ -9.624293  ,  16.164726  ],\n",
       "       [  5.8895893 ,   6.3265533 ],\n",
       "       [ -9.394401  ,  16.33091   ],\n",
       "       [  5.925605  ,   6.6522174 ],\n",
       "       [ -9.484635  ,  16.600294  ]], dtype=float32)"
      ]
     },
     "execution_count": 28,
     "metadata": {},
     "output_type": "execute_result"
    }
   ],
   "source": [
    "from sklearn.manifold import TSNE\n",
    "model = TSNE(learning_rate=200)       # vary the learning rate between 50-200 to get good groupings on the chart.\n",
    "\n",
    "tsne_features = model.fit_transform(X) # note that there aren't separate fit() and transform() functions. \n",
    "tsne_features"
   ]
  },
  {
   "cell_type": "markdown",
   "id": "dcbe8490",
   "metadata": {},
   "source": [
    "T-SNE has taken the 4 features and distilled them down to 2 dimensions that we can easily plot. "
   ]
  },
  {
   "cell_type": "code",
   "execution_count": 29,
   "id": "dbfd46d6",
   "metadata": {},
   "outputs": [
    {
     "data": {
      "text/plain": [
       "<matplotlib.collections.PathCollection at 0x14903e860>"
      ]
     },
     "execution_count": 29,
     "metadata": {},
     "output_type": "execute_result"
    },
    {
     "data": {
      "image/png": "[encoded data removed]",
      "text/plain": [
       "<Figure size 432x288 with 1 Axes>"
      ]
     },
     "metadata": {
      "needs_background": "light"
     },
     "output_type": "display_data"
    }
   ],
   "source": [
    "xs = tsne_features[:, 0]\n",
    "ys = tsne_features[:, 1]\n",
    "\n",
    "plt.scatter(xs, ys)"
   ]
  },
  {
   "cell_type": "markdown",
   "id": "7733a1c5",
   "metadata": {},
   "source": [
    "## Conclusion: \n",
    "\n",
    "* The axis on the chart above have no discernable meaning. \n",
    "* Running the T-SNE again will generate a new chart with a different shape - but similar groupings.\n",
    "\n",
    "\n",
    "## Deciding the correct number of Clusters\n",
    "Thinking back to our shoppers, would you be inclined to say there are 6 groupings (or clusters) in the chart above? \n",
    "\n",
    "When we used Plotly to produce the interactive 3d chart, it was just about possible to represent the 4 dimensions of data on one chart, in order to confirm that the 6 clusters seemed reasonable. \n",
    "\n",
    "Can you see how this technique could be useful when dealing with even higher dimensions of data? \n",
    "\n",
    "Finally, shall we superimpose our KMeans labels on the T-SNE chart? "
   ]
  },
  {
   "cell_type": "code",
   "execution_count": 77,
   "id": "8bab8ffe",
   "metadata": {},
   "outputs": [
    {
     "data": {
      "text/plain": [
       "<matplotlib.collections.PathCollection at 0x150d06950>"
      ]
     },
     "execution_count": 77,
     "metadata": {},
     "output_type": "execute_result"
    },
    {
     "data": {
      "image/png": "[encoded data removed]",
      "text/plain": [
       "<Figure size 432x288 with 1 Axes>"
      ]
     },
     "metadata": {
      "needs_background": "light"
     },
     "output_type": "display_data"
    }
   ],
   "source": [
    "plt.scatter(xs, ys, c=kmeans.labels_)"
   ]
  },
  {
   "cell_type": "markdown",
   "id": "6c2719cc",
   "metadata": {},
   "source": [
    "As you can see T-SNE makes it easy to visualise data in higher dimensions. By reducing the 4 dimensions of data we gave as input, and outputting 2 dimensions we were able to plot the data and see the groupings. \n",
    "\n",
    "This is an example of \"dimension reduction\". "
   ]
  }
 ],
 "metadata": {
  "kernelspec": {
   "display_name": "Python 3.10.4 64-bit",
   "language": "python",
   "name": "python3"
  },
  "language_info": {
   "codemirror_mode": {
    "name": "ipython",
    "version": 3
   },
   "file_extension": ".py",
   "mimetype": "text/x-python",
   "name": "python",
   "nbconvert_exporter": "python",
   "pygments_lexer": "ipython3",
   "version": "3.10.4"
  },
  "vscode": {
   "interpreter": {
    "hash": "7e1998ff7f8aa20ada591c520b972326324e5ea05489af9e422744c7c09f6dad"
   }
  }
 },
 "nbformat": 4,
 "nbformat_minor": 5
}
