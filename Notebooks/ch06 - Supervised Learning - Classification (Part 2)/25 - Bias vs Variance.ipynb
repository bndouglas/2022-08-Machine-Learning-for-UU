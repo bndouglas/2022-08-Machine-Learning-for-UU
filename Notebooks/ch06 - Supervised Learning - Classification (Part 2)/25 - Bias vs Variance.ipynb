{
 "cells": [
  {
   "cell_type": "markdown",
   "id": "de00646b-07d9-4080-9af8-f2248fc98a14",
   "metadata": {},
   "source": [
    "<h1 style='color: #C9C9C9'>Machine Learning with Python<img style=\"float: right; margin-top: 0;\" width=\"240\" src=\"../../Images/cf-logo.png\" /></h1> \n",
    "<p style='color: #C9C9C9'>&copy; Coding Fury 2022 - all rights reserved</p>\n",
    "\n",
    "<hr style='color: #C9C9C9' />"
   ]
  },
  {
   "cell_type": "markdown",
   "id": "69e70e0d",
   "metadata": {},
   "source": [
    "# Bias vs Variance\n",
    "\n",
    "In today's class, we've a lot of ground to cover. To expedite things I'm going to spend less time explaining how each model works and focus on coding a working example. \n",
    "\n",
    "To aid us on our way, I'll point you to examples on the excellent [StatQuest](https://www.youtube.com/c/joshstarmer) Youtube Channel by Josh Starmer from the University of North Carolina, which will explain the ins and outs of exactly how each model works, and the maths behind it. \n",
    "\n",
    "Let's get started with a StatQuest on Bias and Variance... \n",
    "\n",
    "[Bias and Variance](https://www.youtube.com/watch?v=EuBBz3bI-aA&t=3s) (6min 35s)\n",
    "\n"
   ]
  },
  {
   "cell_type": "markdown",
   "id": "ae08ddba",
   "metadata": {},
   "source": []
  }
 ],
 "metadata": {
  "kernelspec": {
   "display_name": "Python 3.10.4 64-bit",
   "language": "python",
   "name": "python3"
  },
  "language_info": {
   "codemirror_mode": {
    "name": "ipython",
    "version": 3
   },
   "file_extension": ".py",
   "mimetype": "text/x-python",
   "name": "python",
   "nbconvert_exporter": "python",
   "pygments_lexer": "ipython3",
   "version": "3.10.4"
  },
  "vscode": {
   "interpreter": {
    "hash": "7e1998ff7f8aa20ada591c520b972326324e5ea05489af9e422744c7c09f6dad"
   }
  }
 },
 "nbformat": 4,
 "nbformat_minor": 5
}
