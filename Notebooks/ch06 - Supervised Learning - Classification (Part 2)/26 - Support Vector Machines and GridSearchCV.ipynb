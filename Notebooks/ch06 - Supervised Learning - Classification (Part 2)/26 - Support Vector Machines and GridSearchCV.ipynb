{
 "cells": [
  {
   "cell_type": "markdown",
   "id": "9d0069c8",
   "metadata": {},
   "source": [
    "<h1 style='color: #C9C9C9'>Machine Learning with Python<img style=\"float: right; margin-top: 0;\" width=\"240\" src=\"../../Images/cf-logo.png\" /></h1> \n",
    "<p style='color: #C9C9C9'>&copy; Coding Fury 2022 - all rights reserved</p>\n",
    "\n",
    "<hr style='color: #C9C9C9' />"
   ]
  },
  {
   "cell_type": "markdown",
   "id": "9dd7f940-7cd6-444f-9fa3-c6e755c49a97",
   "metadata": {},
   "source": [
    "# Support Vector Machines\n"
   ]
  },
  {
   "cell_type": "markdown",
   "id": "b1804e46",
   "metadata": {},
   "source": [
    "## Explanation by StatQuest \n",
    "\n",
    "StatQuest has 4 videos on Support Vector Machines, but for now you should just watch this introduction: \n",
    "[StatQuest: SVM Main Ideas](https://www.youtube.com/watch?v=efR1C6CvhmE&t=742s) (20min 30s)\n",
    "\n"
   ]
  },
  {
   "cell_type": "markdown",
   "id": "f9af0351",
   "metadata": {},
   "source": [
    "Support Vector Machines can be used for both Classification and Regression, but in this example we're going to use it as a Binary Classifier.\n",
    "\n",
    "Start by loading in the breast cancer dataset. "
   ]
  },
  {
   "cell_type": "markdown",
   "id": "4449d04b",
   "metadata": {},
   "source": [
    "# Part 1: Train a SVM Model"
   ]
  },
  {
   "cell_type": "code",
   "execution_count": null,
   "id": "3fec8151",
   "metadata": {},
   "outputs": [],
   "source": [
    "import pandas as pd\n",
    "pd.options.display.max_columns = None"
   ]
  },
  {
   "cell_type": "code",
   "execution_count": null,
   "id": "72f92718",
   "metadata": {},
   "outputs": [],
   "source": [
    "cancer_df = pd.read_csv('../../Data/breast_cancer.csv') # outcome: 0 = benign, 1 = malignant"
   ]
  },
  {
   "cell_type": "code",
   "execution_count": null,
   "id": "8cd267ec",
   "metadata": {},
   "outputs": [],
   "source": [
    "cancer_df"
   ]
  },
  {
   "cell_type": "markdown",
   "id": "6b4da0d8",
   "metadata": {},
   "source": [
    "# Train the Model"
   ]
  },
  {
   "cell_type": "markdown",
   "id": "90e3413e",
   "metadata": {},
   "source": [
    "### Create arrays for the Features and Target Value\n",
    "\n",
    "Set \"outcome\" as the target value. 1 means that the patient has Breast Cancer. 0 means they don't."
   ]
  },
  {
   "cell_type": "code",
   "execution_count": null,
   "id": "06ed215a",
   "metadata": {},
   "outputs": [],
   "source": [
    "X = cancer_df.drop('outcome', axis=1).values"
   ]
  },
  {
   "cell_type": "code",
   "execution_count": null,
   "id": "802c4de4",
   "metadata": {},
   "outputs": [],
   "source": [
    "y = cancer_df['outcome'].values"
   ]
  },
  {
   "cell_type": "markdown",
   "id": "b09897c7",
   "metadata": {},
   "source": [
    "### Split into Training and Test"
   ]
  },
  {
   "cell_type": "code",
   "execution_count": null,
   "id": "3f3035d0",
   "metadata": {},
   "outputs": [],
   "source": [
    "from sklearn.model_selection import train_test_split\n",
    "X_train, X_test, y_train, y_test = train_test_split(X, y, train_size=0.3, random_state=42)\n"
   ]
  },
  {
   "cell_type": "markdown",
   "id": "9062980f",
   "metadata": {},
   "source": [
    "### Train the model"
   ]
  },
  {
   "cell_type": "code",
   "execution_count": null,
   "id": "cd8b30d0",
   "metadata": {},
   "outputs": [],
   "source": [
    "from sklearn.svm import SVC\n",
    "\n",
    "model = SVC()\n",
    "model.fit(X_train, y_train)"
   ]
  },
  {
   "cell_type": "markdown",
   "id": "9e83c303",
   "metadata": {},
   "source": [
    "### Make predictions"
   ]
  },
  {
   "cell_type": "code",
   "execution_count": null,
   "id": "cbdd7016",
   "metadata": {},
   "outputs": [],
   "source": [
    "y_pred = model.predict(X_test)\n",
    "y_pred"
   ]
  },
  {
   "cell_type": "markdown",
   "id": "2e55147c",
   "metadata": {},
   "source": [
    "### Evaluate the Predictions\n",
    "\n",
    "Let's see how good our model is by creating a confusion matrix. "
   ]
  },
  {
   "cell_type": "code",
   "execution_count": null,
   "id": "c596c2af",
   "metadata": {},
   "outputs": [],
   "source": [
    "from sklearn.metrics import classification_report, confusion_matrix"
   ]
  },
  {
   "cell_type": "code",
   "execution_count": null,
   "id": "50d4781e",
   "metadata": {},
   "outputs": [],
   "source": [
    "conf_mat = confusion_matrix(y_test, y_pred)\n",
    "conf_mat"
   ]
  },
  {
   "cell_type": "code",
   "execution_count": null,
   "id": "9293996c",
   "metadata": {},
   "outputs": [],
   "source": [
    "import matplotlib.pyplot as plt\n",
    "import seaborn as sns"
   ]
  },
  {
   "cell_type": "code",
   "execution_count": null,
   "id": "d49ca952",
   "metadata": {},
   "outputs": [],
   "source": [
    "# plotting the confusion matrix\n",
    "plt.figure(figsize=(12,6))\n",
    "plt.title(\"Confusion Matrix\")\n",
    "sns.heatmap(conf_mat, annot=True, fmt='d', cmap='Blues')\n",
    "plt.ylabel(\"Actual Values\")\n",
    "plt.xlabel(\"Predicted Values\")\n"
   ]
  },
  {
   "cell_type": "code",
   "execution_count": null,
   "id": "6346497a",
   "metadata": {},
   "outputs": [],
   "source": [
    "print(classification_report(y_test, y_pred))"
   ]
  },
  {
   "cell_type": "markdown",
   "id": "ab616349",
   "metadata": {},
   "source": [
    "In case you've forgotten how to read the Confusion Matrix, here's some - Reference: \n",
    "\n",
    "* https://medium.com/@kohlishivam5522/understanding-a-classification-report-for-your-machine-learning-model-88815e2ce397\n",
    "* https://scikit-learn.org/stable/modules/generated/sklearn.metrics.classification_report.html\n",
    "* https://www.statology.org/sklearn-classification-report/ \n"
   ]
  },
  {
   "cell_type": "markdown",
   "id": "868579cb",
   "metadata": {},
   "source": [
    "# Part 2: Tuning the model with GridSearchCV\n",
    "\n",
    "The SVM model accepts hyperparameters that can be used to tune it. \n",
    "\n",
    "C\n",
    "* the cost of misclassification. \n",
    "* a large value of C will result in low bias, but high variance\n",
    "\n",
    "Kernel\n",
    "* You can choose which kernel to use: \"Radial Basis Function\" is the default\n",
    "\n",
    "Gamma\n",
    "* This is a parameter of the Radial Basis Function\n",
    "* a large value of gamma will result in high bias and low variance\n",
    "\n",
    "\n",
    "In order to find the best values for C and Gamma, we'll try lots of values. This is easy to do with GridSearch Cross-Validation. In fact, GridSearchCV works with any model that accepts hyperparameters e.g. K Nearest Neighbors.\n"
   ]
  },
  {
   "cell_type": "code",
   "execution_count": null,
   "id": "4ac109b0",
   "metadata": {},
   "outputs": [],
   "source": [
    "from sklearn.model_selection import GridSearchCV\n",
    "import numpy as np"
   ]
  },
  {
   "cell_type": "code",
   "execution_count": null,
   "id": "809fc91a",
   "metadata": {},
   "outputs": [],
   "source": [
    "param_grid = {\n",
    "    'C': [0.1, 0.2, 0.3, 0.4, 0.5, 0.6, 0.7, 0.8, 0.9, 1, 5, 10, 50, 100, 500, 1000],\n",
    "    'gamma': [1, 0.5, 0.1, 0.05, 0.01, 0.005, 0.001, 0.0005, 0.0001, 0.00005, 0.00001]\n",
    "}\n"
   ]
  },
  {
   "cell_type": "code",
   "execution_count": null,
   "id": "7a6cac34",
   "metadata": {},
   "outputs": [],
   "source": [
    "grid = GridSearchCV(SVC(), param_grid=param_grid, verbose=3) # higher the verbose number the more output you see."
   ]
  },
  {
   "cell_type": "code",
   "execution_count": null,
   "id": "964c8bdd",
   "metadata": {},
   "outputs": [],
   "source": [
    "grid.fit(X_train, y_train)"
   ]
  },
  {
   "cell_type": "markdown",
   "id": "b07c43b8",
   "metadata": {},
   "source": [
    "Get the best parameters!"
   ]
  },
  {
   "cell_type": "code",
   "execution_count": null,
   "id": "726575e5",
   "metadata": {},
   "outputs": [],
   "source": [
    "grid.best_params_"
   ]
  },
  {
   "cell_type": "markdown",
   "id": "3670112d",
   "metadata": {},
   "source": [
    "What's the best score that could be achieved? "
   ]
  },
  {
   "cell_type": "code",
   "execution_count": null,
   "id": "f370b439",
   "metadata": {},
   "outputs": [],
   "source": [
    "grid.best_score_"
   ]
  },
  {
   "cell_type": "markdown",
   "id": "035494ac",
   "metadata": {},
   "source": [
    "Let's plug these values into the model"
   ]
  },
  {
   "cell_type": "code",
   "execution_count": null,
   "id": "17c240f9",
   "metadata": {},
   "outputs": [],
   "source": [
    "grid.best_estimator_"
   ]
  },
  {
   "cell_type": "markdown",
   "id": "d7662bb7",
   "metadata": {},
   "source": [
    "Now that we've found the best hyperparameters, and trained our model with them, let's see if our model performs any better. "
   ]
  },
  {
   "cell_type": "code",
   "execution_count": null,
   "id": "09bcc890",
   "metadata": {},
   "outputs": [],
   "source": [
    "grid_predictions = grid.predict(X_test)"
   ]
  },
  {
   "cell_type": "code",
   "execution_count": null,
   "id": "f41ea87f",
   "metadata": {},
   "outputs": [],
   "source": [
    "conf_mat = confusion_matrix(y_test, grid_predictions)\n",
    "conf_mat"
   ]
  },
  {
   "cell_type": "code",
   "execution_count": null,
   "id": "af3edabd",
   "metadata": {},
   "outputs": [],
   "source": [
    "# plotting the confusion matrix\n",
    "\n",
    "plt.figure(figsize=(12,6))\n",
    "plt.title(\"Confusion Matrix\")\n",
    "sns.heatmap(conf_mat, annot=True, fmt='d', cmap='Blues')\n",
    "plt.ylabel(\"Actual Values\")\n",
    "plt.xlabel(\"Predicted Values\")\n",
    "plt.show()"
   ]
  },
  {
   "cell_type": "code",
   "execution_count": null,
   "id": "fda5eeb6",
   "metadata": {},
   "outputs": [],
   "source": [
    "print(classification_report(y_test, grid_predictions))"
   ]
  },
  {
   "cell_type": "markdown",
   "id": "98454bd4",
   "metadata": {},
   "source": [
    "# In conclusion\n",
    "\n",
    "You may have noticed that the performance of this model with the GridSearchCV performs worse than just the plain old SVM model we used in Part 1. \n",
    "\n",
    "Take a minute to verify this for yourself. \n",
    "\n",
    "Why is this? \n",
    "\n",
    "If I had to guess, I'd imagine it's probably a combination of 2 factors: \n",
    "\n",
    "1. The dataset we have to work with is relatively small\n",
    "2. GridSearchCV performs K-Folds validation (5 folds by default), so it's not working with the entire training dataset on any one pass. \n",
    "\n",
    "Nevertheless, this is a good example of how to tune hyperparameters using GridSearchCV. With larger, real-world datasets, this nearly always yields an improvement on the default values in the SVM model. \n"
   ]
  },
  {
   "cell_type": "code",
   "execution_count": null,
   "id": "7ae7a8f2",
   "metadata": {},
   "outputs": [],
   "source": []
  }
 ],
 "metadata": {
  "kernelspec": {
   "display_name": "Python 3.10.4 64-bit",
   "language": "python",
   "name": "python3"
  },
  "language_info": {
   "codemirror_mode": {
    "name": "ipython",
    "version": 3
   },
   "file_extension": ".py",
   "mimetype": "text/x-python",
   "name": "python",
   "nbconvert_exporter": "python",
   "pygments_lexer": "ipython3",
   "version": "3.10.4"
  },
  "vscode": {
   "interpreter": {
    "hash": "7e1998ff7f8aa20ada591c520b972326324e5ea05489af9e422744c7c09f6dad"
   }
  }
 },
 "nbformat": 4,
 "nbformat_minor": 5
}
