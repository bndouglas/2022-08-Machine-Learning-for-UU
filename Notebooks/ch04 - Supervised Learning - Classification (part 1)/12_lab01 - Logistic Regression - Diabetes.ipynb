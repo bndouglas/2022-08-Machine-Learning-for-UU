{
 "cells": [
  {
   "cell_type": "markdown",
   "metadata": {},
   "source": [
    "<h1 style='color: #C9C9C9'>Machine Learning with Python<img style=\"float: right; margin-top: 0;\" width=\"240\" src=\"../../Images/cf-logo.png\" /></h1> \n",
    "<p style='color: #C9C9C9'>&copy; Coding Fury 2022 - all rights reserved</p>\n",
    "\n",
    "<hr style='color: #C9C9C9' />"
   ]
  },
  {
   "cell_type": "markdown",
   "metadata": {},
   "source": [
    "# 12 Lab 01: Diabetes Detailed Analysis\n",
    "\n",
    "**Part 1. Diabetes Detailed Analysis**\n",
    "\n",
    "a) Create a new notebook, repeat the steps in this notebook, but this time perform your analysis on all 8 features (not just the BMI).\n",
    "b) Comment on how the new model using all 8 available features performs when compared to our simple model. \n",
    "\n",
    "The Diabetes dataset is commonly used to teach Logistic Regression. You may wish to review the following tutorial from Towards Data Science, which is similar to my tutorial, but uses all features of the dataset. \n",
    "* [Introduction to Logistic Regression: Predicting Diabetes](https://towardsdatascience.com/introduction-to-logistic-regression-predicting-diabetes-bc3a88f1e60e)\n",
    "\n"
   ]
  },
  {
   "cell_type": "code",
   "execution_count": null,
   "metadata": {},
   "outputs": [],
   "source": []
  },
  {
   "cell_type": "code",
   "execution_count": null,
   "metadata": {},
   "outputs": [],
   "source": []
  },
  {
   "cell_type": "code",
   "execution_count": null,
   "metadata": {},
   "outputs": [],
   "source": []
  },
  {
   "cell_type": "code",
   "execution_count": null,
   "metadata": {},
   "outputs": [],
   "source": []
  },
  {
   "cell_type": "markdown",
   "metadata": {},
   "source": [
    "\n",
    "# Extension Activities\n",
    "\n",
    "> The following are optional\n",
    "\n",
    "**Part 2. Review the analysis of this dataset by others:**\n",
    "\n",
    "A good way to learn is to review the approaches taken by others. \n",
    "\n",
    "Go to Kaggle.com and search for \"Diabetes Logistic Regression\". \n",
    "\n",
    "Take a few minutes to review what others have done. Can you incorporate some of their ideas in your notebook? \n",
    "\n",
    "**Part 3. Optimisation**\n",
    "\n",
    "Review the following tutorial is a good extension activity to this tutorial. It considers whether you should change the threshold from 0.5 to something else. \n",
    "\n",
    "* [Calculating and Setting Thresholds to Optimise Logistic Regression Performance](https://towardsdatascience.com/calculating-and-setting-thresholds-to-optimise-logistic-regression-performance-c77e6d112d7e#:~:text=A%20Quick%20Recap%20on%20Thresholds&text=The%20logistic%20regression%20assigns%20each,0.5%20is%20the%20default%20threshold)"
   ]
  },
  {
   "cell_type": "markdown",
   "metadata": {},
   "source": []
  }
 ],
 "metadata": {
  "kernelspec": {
   "display_name": "Python 3.10.4 64-bit",
   "language": "python",
   "name": "python3"
  },
  "language_info": {
   "name": "python",
   "version": "3.10.4"
  },
  "orig_nbformat": 4,
  "vscode": {
   "interpreter": {
    "hash": "7e1998ff7f8aa20ada591c520b972326324e5ea05489af9e422744c7c09f6dad"
   }
  }
 },
 "nbformat": 4,
 "nbformat_minor": 2
}
