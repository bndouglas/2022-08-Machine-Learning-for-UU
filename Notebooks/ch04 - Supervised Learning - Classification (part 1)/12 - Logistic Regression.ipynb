{
 "cells": [
  {
   "cell_type": "markdown",
   "id": "23dcca9b-3523-453e-9cc7-26bfcaa0f018",
   "metadata": {},
   "source": [
    "<h1 style='color: #C9C9C9'>Machine Learning with Python<img style=\"float: right; margin-top: 0;\" width=\"240\" src=\"../../Images/cf-logo.png\" /></h1> \n",
    "<p style='color: #C9C9C9'>&copy; Coding Fury 2022 - all rights reserved</p>\n",
    "\n",
    "<hr style='color: #C9C9C9' />"
   ]
  },
  {
   "cell_type": "markdown",
   "id": "454e6660",
   "metadata": {},
   "source": [
    "# What is Logistic Regression? "
   ]
  },
  {
   "cell_type": "markdown",
   "id": "18d2aeab",
   "metadata": {},
   "source": [
    "Logistic Regression is used when the target variable can be one of 2 outcomes: True or False\n",
    "\n",
    "For example, Logistic Regression could be used to determine if an email was spam or not spam. Or it could be used to determine if someone has a particular disease based on a range of factors. \n",
    "\n",
    "\n",
    "In this tutorial we're going to predict if a patient has diabetes or not. \n"
   ]
  },
  {
   "cell_type": "markdown",
   "id": "3822edf2",
   "metadata": {},
   "source": [
    "# The Diabetes Dataset\n",
    "\n",
    "The Diabetes Dataset has 8 features\n",
    "1. Pregnancies: the number of times the patient has been pregnant\n",
    "1. Glucose : blood glucose levels from a glucose tolerance test\n",
    "1. BloodPressure : diastolic blood pressure values (mm Hg)\n",
    "1. SkinThickness : triceps skin fold thickness (mm)\n",
    "1. Insulin : levels of insulin\n",
    "1. BMI : body mass index\n",
    "1. Age : age in years\n",
    "\n",
    "\n",
    "The Target Value is \n",
    "* Outcome : whether the patient has diabetes or not\n"
   ]
  },
  {
   "cell_type": "code",
   "execution_count": 56,
   "id": "ea1b1bab-5269-4990-9a03-c31f8e0a9221",
   "metadata": {},
   "outputs": [
    {
     "data": {
      "text/html": [
       "<div>\n",
       "<style scoped>\n",
       "    .dataframe tbody tr th:only-of-type {\n",
       "        vertical-align: middle;\n",
       "    }\n",
       "\n",
       "    .dataframe tbody tr th {\n",
       "        vertical-align: top;\n",
       "    }\n",
       "\n",
       "    .dataframe thead th {\n",
       "        text-align: right;\n",
       "    }\n",
       "</style>\n",
       "<table border=\"1\" class=\"dataframe\">\n",
       "  <thead>\n",
       "    <tr style=\"text-align: right;\">\n",
       "      <th></th>\n",
       "      <th>Pregnancies</th>\n",
       "      <th>Glucose</th>\n",
       "      <th>BloodPressure</th>\n",
       "      <th>SkinThickness</th>\n",
       "      <th>Insulin</th>\n",
       "      <th>BMI</th>\n",
       "      <th>DiabetesPedigreeFunction</th>\n",
       "      <th>Age</th>\n",
       "      <th>Outcome</th>\n",
       "    </tr>\n",
       "  </thead>\n",
       "  <tbody>\n",
       "    <tr>\n",
       "      <th>0</th>\n",
       "      <td>6</td>\n",
       "      <td>148</td>\n",
       "      <td>72</td>\n",
       "      <td>35</td>\n",
       "      <td>0</td>\n",
       "      <td>33.6</td>\n",
       "      <td>0.627</td>\n",
       "      <td>50</td>\n",
       "      <td>1</td>\n",
       "    </tr>\n",
       "    <tr>\n",
       "      <th>1</th>\n",
       "      <td>1</td>\n",
       "      <td>85</td>\n",
       "      <td>66</td>\n",
       "      <td>29</td>\n",
       "      <td>0</td>\n",
       "      <td>26.6</td>\n",
       "      <td>0.351</td>\n",
       "      <td>31</td>\n",
       "      <td>0</td>\n",
       "    </tr>\n",
       "    <tr>\n",
       "      <th>2</th>\n",
       "      <td>8</td>\n",
       "      <td>183</td>\n",
       "      <td>64</td>\n",
       "      <td>0</td>\n",
       "      <td>0</td>\n",
       "      <td>23.3</td>\n",
       "      <td>0.672</td>\n",
       "      <td>32</td>\n",
       "      <td>1</td>\n",
       "    </tr>\n",
       "    <tr>\n",
       "      <th>3</th>\n",
       "      <td>1</td>\n",
       "      <td>89</td>\n",
       "      <td>66</td>\n",
       "      <td>23</td>\n",
       "      <td>94</td>\n",
       "      <td>28.1</td>\n",
       "      <td>0.167</td>\n",
       "      <td>21</td>\n",
       "      <td>0</td>\n",
       "    </tr>\n",
       "    <tr>\n",
       "      <th>4</th>\n",
       "      <td>0</td>\n",
       "      <td>137</td>\n",
       "      <td>40</td>\n",
       "      <td>35</td>\n",
       "      <td>168</td>\n",
       "      <td>43.1</td>\n",
       "      <td>2.288</td>\n",
       "      <td>33</td>\n",
       "      <td>1</td>\n",
       "    </tr>\n",
       "    <tr>\n",
       "      <th>...</th>\n",
       "      <td>...</td>\n",
       "      <td>...</td>\n",
       "      <td>...</td>\n",
       "      <td>...</td>\n",
       "      <td>...</td>\n",
       "      <td>...</td>\n",
       "      <td>...</td>\n",
       "      <td>...</td>\n",
       "      <td>...</td>\n",
       "    </tr>\n",
       "    <tr>\n",
       "      <th>763</th>\n",
       "      <td>10</td>\n",
       "      <td>101</td>\n",
       "      <td>76</td>\n",
       "      <td>48</td>\n",
       "      <td>180</td>\n",
       "      <td>32.9</td>\n",
       "      <td>0.171</td>\n",
       "      <td>63</td>\n",
       "      <td>0</td>\n",
       "    </tr>\n",
       "    <tr>\n",
       "      <th>764</th>\n",
       "      <td>2</td>\n",
       "      <td>122</td>\n",
       "      <td>70</td>\n",
       "      <td>27</td>\n",
       "      <td>0</td>\n",
       "      <td>36.8</td>\n",
       "      <td>0.340</td>\n",
       "      <td>27</td>\n",
       "      <td>0</td>\n",
       "    </tr>\n",
       "    <tr>\n",
       "      <th>765</th>\n",
       "      <td>5</td>\n",
       "      <td>121</td>\n",
       "      <td>72</td>\n",
       "      <td>23</td>\n",
       "      <td>112</td>\n",
       "      <td>26.2</td>\n",
       "      <td>0.245</td>\n",
       "      <td>30</td>\n",
       "      <td>0</td>\n",
       "    </tr>\n",
       "    <tr>\n",
       "      <th>766</th>\n",
       "      <td>1</td>\n",
       "      <td>126</td>\n",
       "      <td>60</td>\n",
       "      <td>0</td>\n",
       "      <td>0</td>\n",
       "      <td>30.1</td>\n",
       "      <td>0.349</td>\n",
       "      <td>47</td>\n",
       "      <td>1</td>\n",
       "    </tr>\n",
       "    <tr>\n",
       "      <th>767</th>\n",
       "      <td>1</td>\n",
       "      <td>93</td>\n",
       "      <td>70</td>\n",
       "      <td>31</td>\n",
       "      <td>0</td>\n",
       "      <td>30.4</td>\n",
       "      <td>0.315</td>\n",
       "      <td>23</td>\n",
       "      <td>0</td>\n",
       "    </tr>\n",
       "  </tbody>\n",
       "</table>\n",
       "<p>768 rows × 9 columns</p>\n",
       "</div>"
      ],
      "text/plain": [
       "     Pregnancies  Glucose  BloodPressure  SkinThickness  Insulin   BMI  \\\n",
       "0              6      148             72             35        0  33.6   \n",
       "1              1       85             66             29        0  26.6   \n",
       "2              8      183             64              0        0  23.3   \n",
       "3              1       89             66             23       94  28.1   \n",
       "4              0      137             40             35      168  43.1   \n",
       "..           ...      ...            ...            ...      ...   ...   \n",
       "763           10      101             76             48      180  32.9   \n",
       "764            2      122             70             27        0  36.8   \n",
       "765            5      121             72             23      112  26.2   \n",
       "766            1      126             60              0        0  30.1   \n",
       "767            1       93             70             31        0  30.4   \n",
       "\n",
       "     DiabetesPedigreeFunction  Age  Outcome  \n",
       "0                       0.627   50        1  \n",
       "1                       0.351   31        0  \n",
       "2                       0.672   32        1  \n",
       "3                       0.167   21        0  \n",
       "4                       2.288   33        1  \n",
       "..                        ...  ...      ...  \n",
       "763                     0.171   63        0  \n",
       "764                     0.340   27        0  \n",
       "765                     0.245   30        0  \n",
       "766                     0.349   47        1  \n",
       "767                     0.315   23        0  \n",
       "\n",
       "[768 rows x 9 columns]"
      ]
     },
     "execution_count": 56,
     "metadata": {},
     "output_type": "execute_result"
    }
   ],
   "source": [
    "import pandas as pd\n",
    "\n",
    "diabetes_df = pd.read_csv('../../Data/diabetes.csv')\n",
    "diabetes_df"
   ]
  },
  {
   "cell_type": "code",
   "execution_count": 57,
   "id": "6f36444c",
   "metadata": {},
   "outputs": [
    {
     "name": "stdout",
     "output_type": "stream",
     "text": [
      "<class 'pandas.core.frame.DataFrame'>\n",
      "RangeIndex: 768 entries, 0 to 767\n",
      "Data columns (total 9 columns):\n",
      " #   Column                    Non-Null Count  Dtype  \n",
      "---  ------                    --------------  -----  \n",
      " 0   Pregnancies               768 non-null    int64  \n",
      " 1   Glucose                   768 non-null    int64  \n",
      " 2   BloodPressure             768 non-null    int64  \n",
      " 3   SkinThickness             768 non-null    int64  \n",
      " 4   Insulin                   768 non-null    int64  \n",
      " 5   BMI                       768 non-null    float64\n",
      " 6   DiabetesPedigreeFunction  768 non-null    float64\n",
      " 7   Age                       768 non-null    int64  \n",
      " 8   Outcome                   768 non-null    int64  \n",
      "dtypes: float64(2), int64(7)\n",
      "memory usage: 54.1 KB\n"
     ]
    }
   ],
   "source": [
    "diabetes_df.info()"
   ]
  },
  {
   "cell_type": "code",
   "execution_count": 58,
   "id": "81df3207",
   "metadata": {},
   "outputs": [],
   "source": [
    "X = diabetes_df['BMI'].values.reshape(-1,1)\n",
    "y = diabetes_df['Outcome'].values"
   ]
  },
  {
   "cell_type": "markdown",
   "id": "5553569b",
   "metadata": {},
   "source": [
    "# Simple Example: BMI and Outcome\n",
    "\n",
    "To make this example as simple as possible, we're going to perform logistic regression on a single feature, the BMI."
   ]
  },
  {
   "cell_type": "markdown",
   "id": "41436423",
   "metadata": {},
   "source": [
    "# Introduction to Logistic Regression\n",
    "\n",
    "Regression is about finding the line of best fit. You might wonder how this works with only 2 possible outcomes? \n",
    "\n",
    "The concept is that the Logistic Algorithm tries to find the best fit for the dat based on an s-curve as shown below. \n",
    "\n",
    "![S-Curve](../../Images/logistic-regression-s-curve.png)\n",
    "\n",
    "## The Logistic Regression Equation\n",
    "\n",
    "The general Equation for a Sigmoid Curve (or s-curve) is \n",
    "$$ \\sigma(x) = \\frac{1}{1+e^{-x}}$$\n",
    "\n",
    "And you may recall that the equation for linear regression is \n",
    "$$a_1x_1 + a_2x_2 + ... + a_nx_n + b$$\n",
    "\n",
    "**Putting these together, we get the equation used for logistic regression:**\n",
    "$$ \\sigma(x) = \\frac{1}{1+e^{-(a_1x_1 + a_2x_2 + ... + a_nx_n + b)}}$$\n",
    "\n",
    "In our example, the s-curve gives the probability that a patient has diabetes. Values along the s-curve therefore range from 0 to 1.\n",
    "\n",
    "## Logistic Regression as a Classifier\n",
    "\n",
    "Generally speaking, we tend to use Logistic Regression as a binary classifier. That is to say, our predictions should fall into one of two classes; having diabetes, or not.\n",
    "\n",
    "![Logistic Regression Classifier](../../Images/logistic-regression-as-a-classifier.png)\n",
    "\n",
    "By default, a 'threshold' is set at 0.5. If the probability of a patient having diabetes is greater than 0.5, the algorithm will classify that patient as having diabetes. \n",
    "\n"
   ]
  },
  {
   "cell_type": "markdown",
   "id": "9bc1cba0",
   "metadata": {},
   "source": [
    "# Training the model"
   ]
  },
  {
   "cell_type": "code",
   "execution_count": 59,
   "id": "25f289df",
   "metadata": {},
   "outputs": [],
   "source": [
    "X = diabetes_df['BMI'].values.reshape(-1,1)"
   ]
  },
  {
   "cell_type": "code",
   "execution_count": 60,
   "id": "22b5bfa9",
   "metadata": {},
   "outputs": [],
   "source": [
    "y = diabetes_df['Outcome'].values"
   ]
  },
  {
   "cell_type": "markdown",
   "id": "cada782d",
   "metadata": {},
   "source": [
    "## Visualise the training data\n",
    "\n",
    "By plotting the values for BMI and outcome, we can see the data that we're trying to fit a s-curve to."
   ]
  },
  {
   "cell_type": "code",
   "execution_count": 61,
   "id": "403ca8a4",
   "metadata": {},
   "outputs": [
    {
     "data": {
      "text/plain": [
       "<matplotlib.collections.PathCollection at 0x1408ef4f0>"
      ]
     },
     "execution_count": 61,
     "metadata": {},
     "output_type": "execute_result"
    },
    {
     "data": {
      "image/png": "[encoded data removed]",
      "text/plain": [
       "<Figure size 432x288 with 1 Axes>"
      ]
     },
     "metadata": {
      "needs_background": "light"
     },
     "output_type": "display_data"
    }
   ],
   "source": [
    "import matplotlib.pyplot as plt\n",
    "\n",
    "plt.scatter(X,y, marker='>')"
   ]
  },
  {
   "cell_type": "code",
   "execution_count": 62,
   "id": "349aa823",
   "metadata": {},
   "outputs": [
    {
     "data": {
      "text/html": [
       "<style>#sk-container-id-4 {color: black;background-color: white;}#sk-container-id-4 pre{padding: 0;}#sk-container-id-4 div.sk-toggleable {background-color: white;}#sk-container-id-4 label.sk-toggleable__label {cursor: pointer;display: block;width: 100%;margin-bottom: 0;padding: 0.3em;box-sizing: border-box;text-align: center;}#sk-container-id-4 label.sk-toggleable__label-arrow:before {content: \"▸\";float: left;margin-right: 0.25em;color: #696969;}#sk-container-id-4 label.sk-toggleable__label-arrow:hover:before {color: black;}#sk-container-id-4 div.sk-estimator:hover label.sk-toggleable__label-arrow:before {color: black;}#sk-container-id-4 div.sk-toggleable__content {max-height: 0;max-width: 0;overflow: hidden;text-align: left;background-color: #f0f8ff;}#sk-container-id-4 div.sk-toggleable__content pre {margin: 0.2em;color: black;border-radius: 0.25em;background-color: #f0f8ff;}#sk-container-id-4 input.sk-toggleable__control:checked~div.sk-toggleable__content {max-height: 200px;max-width: 100%;overflow: auto;}#sk-container-id-4 input.sk-toggleable__control:checked~label.sk-toggleable__label-arrow:before {content: \"▾\";}#sk-container-id-4 div.sk-estimator input.sk-toggleable__control:checked~label.sk-toggleable__label {background-color: #d4ebff;}#sk-container-id-4 div.sk-label input.sk-toggleable__control:checked~label.sk-toggleable__label {background-color: #d4ebff;}#sk-container-id-4 input.sk-hidden--visually {border: 0;clip: rect(1px 1px 1px 1px);clip: rect(1px, 1px, 1px, 1px);height: 1px;margin: -1px;overflow: hidden;padding: 0;position: absolute;width: 1px;}#sk-container-id-4 div.sk-estimator {font-family: monospace;background-color: #f0f8ff;border: 1px dotted black;border-radius: 0.25em;box-sizing: border-box;margin-bottom: 0.5em;}#sk-container-id-4 div.sk-estimator:hover {background-color: #d4ebff;}#sk-container-id-4 div.sk-parallel-item::after {content: \"\";width: 100%;border-bottom: 1px solid gray;flex-grow: 1;}#sk-container-id-4 div.sk-label:hover label.sk-toggleable__label {background-color: #d4ebff;}#sk-container-id-4 div.sk-serial::before {content: \"\";position: absolute;border-left: 1px solid gray;box-sizing: border-box;top: 0;bottom: 0;left: 50%;z-index: 0;}#sk-container-id-4 div.sk-serial {display: flex;flex-direction: column;align-items: center;background-color: white;padding-right: 0.2em;padding-left: 0.2em;position: relative;}#sk-container-id-4 div.sk-item {position: relative;z-index: 1;}#sk-container-id-4 div.sk-parallel {display: flex;align-items: stretch;justify-content: center;background-color: white;position: relative;}#sk-container-id-4 div.sk-item::before, #sk-container-id-4 div.sk-parallel-item::before {content: \"\";position: absolute;border-left: 1px solid gray;box-sizing: border-box;top: 0;bottom: 0;left: 50%;z-index: -1;}#sk-container-id-4 div.sk-parallel-item {display: flex;flex-direction: column;z-index: 1;position: relative;background-color: white;}#sk-container-id-4 div.sk-parallel-item:first-child::after {align-self: flex-end;width: 50%;}#sk-container-id-4 div.sk-parallel-item:last-child::after {align-self: flex-start;width: 50%;}#sk-container-id-4 div.sk-parallel-item:only-child::after {width: 0;}#sk-container-id-4 div.sk-dashed-wrapped {border: 1px dashed gray;margin: 0 0.4em 0.5em 0.4em;box-sizing: border-box;padding-bottom: 0.4em;background-color: white;}#sk-container-id-4 div.sk-label label {font-family: monospace;font-weight: bold;display: inline-block;line-height: 1.2em;}#sk-container-id-4 div.sk-label-container {text-align: center;}#sk-container-id-4 div.sk-container {/* jupyter's `normalize.less` sets `[hidden] { display: none; }` but bootstrap.min.css set `[hidden] { display: none !important; }` so we also need the `!important` here to be able to override the default hidden behavior on the sphinx rendered scikit-learn.org. See: https://github.com/scikit-learn/scikit-learn/issues/21755 */display: inline-block !important;position: relative;}#sk-container-id-4 div.sk-text-repr-fallback {display: none;}</style><div id=\"sk-container-id-4\" class=\"sk-top-container\"><div class=\"sk-text-repr-fallback\"><pre>LogisticRegression()</pre><b>In a Jupyter environment, please rerun this cell to show the HTML representation or trust the notebook. <br />On GitHub, the HTML representation is unable to render, please try loading this page with nbviewer.org.</b></div><div class=\"sk-container\" hidden><div class=\"sk-item\"><div class=\"sk-estimator sk-toggleable\"><input class=\"sk-toggleable__control sk-hidden--visually\" id=\"sk-estimator-id-4\" type=\"checkbox\" checked><label for=\"sk-estimator-id-4\" class=\"sk-toggleable__label sk-toggleable__label-arrow\">LogisticRegression</label><div class=\"sk-toggleable__content\"><pre>LogisticRegression()</pre></div></div></div></div></div>"
      ],
      "text/plain": [
       "LogisticRegression()"
      ]
     },
     "execution_count": 62,
     "metadata": {},
     "output_type": "execute_result"
    }
   ],
   "source": [
    "from sklearn.linear_model import LogisticRegression\n",
    "from sklearn.model_selection import train_test_split\n",
    "\n",
    "model = LogisticRegression() \n",
    "model.fit(X, y)"
   ]
  },
  {
   "cell_type": "markdown",
   "id": "022076f6",
   "metadata": {},
   "source": [
    "# Visualise the Model\n",
    "\n",
    "Let's see how the model predicts for each of our input observations by visualising the predictions. \n",
    "\n"
   ]
  },
  {
   "cell_type": "code",
   "execution_count": 63,
   "id": "ebb5d649",
   "metadata": {},
   "outputs": [],
   "source": [
    "y_pred = model.predict(X)"
   ]
  },
  {
   "cell_type": "code",
   "execution_count": 64,
   "id": "5fa949e8",
   "metadata": {},
   "outputs": [
    {
     "data": {
      "text/plain": [
       "<matplotlib.collections.PathCollection at 0x14067ae60>"
      ]
     },
     "execution_count": 64,
     "metadata": {},
     "output_type": "execute_result"
    },
    {
     "data": {
      "text/plain": [
       "<Figure size 432x288 with 0 Axes>"
      ]
     },
     "metadata": {},
     "output_type": "display_data"
    },
    {
     "data": {
      "image/png": "[encoded data removed]",
      "text/plain": [
       "<Figure size 720x432 with 1 Axes>"
      ]
     },
     "metadata": {
      "needs_background": "light"
     },
     "output_type": "display_data"
    }
   ],
   "source": [
    "import matplotlib.pyplot as plt\n",
    "plt.clf()\n",
    "plt.figure(figsize=(10,6))\n",
    "plt.scatter(X,y, marker='>', s=100)\n",
    "plt.scatter(X, y_pred, color='red', marker='o', s=10, alpha=0.6)"
   ]
  },
  {
   "cell_type": "markdown",
   "id": "43b05c41",
   "metadata": {},
   "source": [
    "The chart shows that our algorithm has determined that if a patient's BMI is greater than 39, then for sure, they've got diabetes. \n",
    "\n",
    "I didn't realise you could have a BMI this large!\n",
    "\n",
    "You can also see from the chart that there are plenty of observations with BMI larger than this where the patient doesn't have Diabetes, so BMI alone probably isn't the full story. \n",
    "\n",
    "For now, we'll stick to just analysing BMI, but this time we'll train our model using a train, test split, and try to determine the accuracy of our model."
   ]
  },
  {
   "cell_type": "markdown",
   "id": "387cd977",
   "metadata": {},
   "source": [
    "# Train - Test Split"
   ]
  },
  {
   "cell_type": "code",
   "execution_count": 65,
   "id": "8c68db72",
   "metadata": {},
   "outputs": [
    {
     "data": {
      "text/plain": [
       "0.6233766233766234"
      ]
     },
     "execution_count": 65,
     "metadata": {},
     "output_type": "execute_result"
    }
   ],
   "source": [
    "from sklearn.linear_model import LogisticRegression\n",
    "from sklearn.model_selection import train_test_split\n",
    "\n",
    "X_train, X_test, y_train, y_test = train_test_split(X, y, test_size=0.3, random_state=21)\n",
    "\n",
    "model = LogisticRegression() \n",
    "model.fit(X_train, y_train)\n",
    "model.score(X_test, y_test) # The accuracy"
   ]
  },
  {
   "cell_type": "markdown",
   "id": "a09385c4",
   "metadata": {},
   "source": [
    "As you can see, our model accuracy is 62%. \n",
    "\n",
    "But how is this calculated? Different models score accuracy in different ways. In the case of Linear Regression, we used the Residual Sum of Squares (RSS) to determine the accuracy. \n",
    "\n",
    "To understand accuracy in terms of a Logistic Regression classifier, we need to start by understanding a Confusion Matrix."
   ]
  },
  {
   "cell_type": "markdown",
   "id": "24ef34cc-6167-476a-bd9a-b9fab2afc4b0",
   "metadata": {},
   "source": [
    "# Confusion Matrix"
   ]
  },
  {
   "cell_type": "code",
   "execution_count": 66,
   "id": "184bbe7a",
   "metadata": {},
   "outputs": [
    {
     "data": {
      "text/plain": [
       "array([[128,  16],\n",
       "       [ 71,  16]])"
      ]
     },
     "execution_count": 66,
     "metadata": {},
     "output_type": "execute_result"
    }
   ],
   "source": [
    "from sklearn.metrics import confusion_matrix\n",
    "\n",
    "y_pred = model.predict(X_test)\n",
    "conf_mat = confusion_matrix(y_test,y_pred)\n",
    "conf_mat"
   ]
  },
  {
   "cell_type": "markdown",
   "id": "57dc9e8b",
   "metadata": {},
   "source": [
    "Let's make our confusion matrix look a bit nicer, with a Seaborn heatmap."
   ]
  },
  {
   "cell_type": "code",
   "execution_count": 67,
   "id": "9b77b309",
   "metadata": {},
   "outputs": [
    {
     "data": {
      "text/plain": [
       "Text(0.5, 33.0, 'Predicted Values')"
      ]
     },
     "execution_count": 67,
     "metadata": {},
     "output_type": "execute_result"
    },
    {
     "data": {
      "image/png": "[encoded data removed]",
      "text/plain": [
       "<Figure size 864x432 with 2 Axes>"
      ]
     },
     "metadata": {
      "needs_background": "light"
     },
     "output_type": "display_data"
    }
   ],
   "source": [
    "import matplotlib.pyplot as plt\n",
    "import seaborn as sns\n",
    "# plotting the confusion matrix\n",
    "plt.figure(figsize=(12,6))\n",
    "plt.title(\"Confusion Matrix\")\n",
    "sns.heatmap(conf_mat, annot=True, fmt='d', cmap='Blues')\n",
    "plt.ylabel(\"Actual Values\")\n",
    "plt.xlabel(\"Predicted Values\")"
   ]
  },
  {
   "cell_type": "markdown",
   "id": "4c49fa26",
   "metadata": {},
   "source": [
    "### A Confusion Matrix works like this: \n",
    "\n",
    "In the top left we have coordinates actual=0, predicted=0.\n",
    "* The actual value was 0, and we predicted 0. \n",
    "* This happened 131 times\n",
    "* This is known as a **True Negative**. (We predicted Negative correctly)\n",
    "\n",
    "In the top right we have coordinates actual=0, predicted=1\n",
    "* The actual value was 0, but we predicted 1\n",
    "* This happened 13 times\n",
    "* This is known as a **False Negative**. (We predicted Negative incorrectly).\n",
    "* A False Negative is also known as **Type 2 Error**\n",
    "\n",
    "In the bottom left we have coordinates actual=1, predicted=0\n",
    "* The actual value was 1, but we predicted 0\n",
    "* This happened 48 times\n",
    "* This is known as a **False Positive**. (We predicted Positive incorrectly).\n",
    "* A False Positive is also known as a **Type 1 Error**\n",
    "\n",
    "In the bottom right we have coordinates actual=1, predicted=1\n",
    "* The actual value was 1, and we predicted 1\n",
    "* This happened 39 times\n",
    "* This is known as a **True Positive**. (We predicted Positive correctly).\n",
    "\n",
    "![Confusion Matrix](../../Images/confusion-matrix.jpeg)\n",
    "\n",
    "Although I prefer this example from [Answer Miner](https://www.answerminer.com/blog/confusion-matrix-explained)\n",
    "\n",
    "![Confusion Matrix - Preganancy Example](../../images/confusion_matrix_pregnant.jpeg)\n",
    "\n",
    "\n",
    "\n"
   ]
  },
  {
   "cell_type": "code",
   "execution_count": null,
   "id": "d46aa2ea",
   "metadata": {},
   "outputs": [],
   "source": []
  },
  {
   "cell_type": "markdown",
   "id": "d9624b0a",
   "metadata": {},
   "source": [
    "# Evaluating Performance\n",
    "\n",
    "The following metrics are widely used when predicting model performance.\n",
    "\n",
    "### Accuracy\n",
    "\n",
    "The accuracy is defined as the ratio between the number of correct predictions and the total number of predictions.\n",
    "\n",
    "$$ accuracy = \\frac{TP + TN}{TP + FP + TN + FN}$$\n",
    "\n",
    "This can also be represented as:\n",
    "\n",
    "$$ accuracy = \\frac{correct \\space predictions}{total \\space observations} $$\n",
    "\n",
    "### Precision - the percentage of positive predictions that were correct\n",
    "\n",
    "For each class it is defined as the ratio of true positives to the sum of true positives and false negatives i.e. the ratio between observations correctly predicted to be positive and the sum of the observations that were correctly identified as positive plus those incorrectly identified as positive. \n",
    "\n",
    "$$ precision = \\frac{TP}{TP + FP}$$\n",
    "\n",
    "\n",
    "### Recall\n",
    "\n",
    "**The percentage of positive cases we managed to catch**\n",
    "\n",
    "Recall is the ability of a classifier to find all positive instances. Also known as Sensitivity or the True Positive rate.\n",
    "\n",
    "This is the ratio between observations correctly predicted to be positive and the sum of the observations that were correctly identified as positive plus those incorrectly identified as negative. \n",
    "\n",
    "$$ recall = \\frac{TP}{TP + FN}$$\n",
    "\n",
    "### Specificity - the percentage of negative chases we managed to catch\n",
    "\n",
    "Also known as True Negative Rate.\n",
    "\n",
    "This is the ratio between observations correctly predicted to be negative and the sum of the observations that were correctly identified as negative plus those incorrectly identified as positive. \n",
    "\n",
    "$$ specificity = \\frac{TN}{TN + FP}$$\n",
    "\n",
    "\n",
    "\n",
    "### F1 Score - the percentage of positive predictions that were correct\n",
    "\n",
    "$$ f1 score = 2 \\times\\frac{precision \\times recall }{precision + recall}$$\n",
    "\n",
    "\n",
    "For more information see this Wikipedia page on [Precision and Recall](https://en.wikipedia.org/wiki/Precision_and_recall)\n",
    "Aslo check out this *Towards Data Science* Tutorial on [Understanding the Confusion Matrix](https://towardsdatascience.com/understanding-confusion-matrix-a9ad42dcfd62)"
   ]
  },
  {
   "cell_type": "markdown",
   "id": "c08d73d3",
   "metadata": {},
   "source": [
    "# Performance Metrics for our Diabetes Model"
   ]
  },
  {
   "cell_type": "code",
   "execution_count": 71,
   "id": "aa918012",
   "metadata": {},
   "outputs": [
    {
     "name": "stdout",
     "output_type": "stream",
     "text": [
      "Accuracy for test set is 0.6234.\n",
      "Precision for test set is 0.5000.\n",
      "Recall for test set is 0.1839.\n",
      "F1 Score for test set is 0.2689.\n"
     ]
    }
   ],
   "source": [
    "from sklearn import metrics \n",
    "\n",
    "print(f\"Accuracy for test set is {metrics.accuracy_score(y_test, y_pred):0.4f}.\")\n",
    "print(f\"Precision for test set is {metrics.precision_score(y_test, y_pred):0.4f}.\")\n",
    "print(f\"Recall for test set is {metrics.recall_score(y_test, y_pred):0.4f}.\")\n",
    "print(f\"F1 Score for test set is {metrics.f1_score(y_test, y_pred):0.4f}.\")\n"
   ]
  },
  {
   "cell_type": "markdown",
   "id": "7fa9df97",
   "metadata": {},
   "source": [
    "Alternatively you can get use the inbuilt classification report."
   ]
  },
  {
   "cell_type": "code",
   "execution_count": 72,
   "id": "e9c7b023",
   "metadata": {},
   "outputs": [
    {
     "name": "stdout",
     "output_type": "stream",
     "text": [
      "              precision    recall  f1-score   support\n",
      "\n",
      "           0       0.64      0.89      0.75       144\n",
      "           1       0.50      0.18      0.27        87\n",
      "\n",
      "    accuracy                           0.62       231\n",
      "   macro avg       0.57      0.54      0.51       231\n",
      "weighted avg       0.59      0.62      0.57       231\n",
      "\n"
     ]
    }
   ],
   "source": [
    "print(metrics.classification_report(y_test, y_pred))\n"
   ]
  },
  {
   "cell_type": "code",
   "execution_count": null,
   "id": "d791bf8d",
   "metadata": {},
   "outputs": [],
   "source": []
  },
  {
   "cell_type": "markdown",
   "id": "f8c880cd",
   "metadata": {},
   "source": [
    "# ROC Curves\n",
    "\n",
    "Another evaluation technique we can use for this then is the Receiver Operating Characteristic (ROC) curve which is seen in a lot of Machine Learning Contexts. \n",
    "\n",
    "This is used to plot the true positive rate against the false positive rate, showing the tradeoff between sensitivity and specificity.\n",
    "\n",
    "Within this plot the ideal is the purple line with the result from a purely random model is the red line, the aim being as close to the purple line as possible.\n",
    "\n"
   ]
  },
  {
   "cell_type": "code",
   "execution_count": 70,
   "id": "0c114ca8",
   "metadata": {},
   "outputs": [
    {
     "data": {
      "image/png": "[encoded data removed]",
      "text/plain": [
       "<Figure size 432x288 with 1 Axes>"
      ]
     },
     "metadata": {
      "needs_background": "light"
     },
     "output_type": "display_data"
    }
   ],
   "source": [
    "# ROC curve\n",
    "\n",
    "y_pred_proba = model.predict_proba(X_test)[::,1]\n",
    "fpr, tpr, _ = metrics.roc_curve(y_test, y_pred_proba)\n",
    "auc = metrics.roc_auc_score(y_test, y_pred_proba)\n",
    "plt.plot(fpr, tpr, label=\"auc = \" + str(round(auc,2)))\n",
    "x_ideal = (0, 0.001, 1)\n",
    "y_ideal = (0, 1, 1)\n",
    "plt.plot(x_ideal, y_ideal, color = \"violet\", label = \"Ideal\")\n",
    "plt.plot([0,1], [0,1], color = \"red\", linestyle = \"--\",\n",
    "          label = \"random\")\n",
    "plt.legend(loc=4)\n",
    "plt.show()"
   ]
  },
  {
   "cell_type": "markdown",
   "id": "b1af3db0",
   "metadata": {},
   "source": [
    "The performance of this is quantified by the Area Under the Curve (AUC) which shows how close the model is to the ideal performance. \n",
    "\n",
    "The “best” AUC score for the ideal model would be 1 where our random model has an AUC of 0.5. We can thus see our model performs relatively well although not perfect.\n"
   ]
  },
  {
   "cell_type": "markdown",
   "id": "ebd388a8",
   "metadata": {},
   "source": []
  },
  {
   "cell_type": "markdown",
   "id": "af4ea959",
   "metadata": {},
   "source": []
  }
 ],
 "metadata": {
  "kernelspec": {
   "display_name": "Python 3 (ipykernel)",
   "language": "python",
   "name": "python3"
  },
  "language_info": {
   "codemirror_mode": {
    "name": "ipython",
    "version": 3
   },
   "file_extension": ".py",
   "mimetype": "text/x-python",
   "name": "python",
   "nbconvert_exporter": "python",
   "pygments_lexer": "ipython3",
   "version": "3.10.4"
  },
  "vscode": {
   "interpreter": {
    "hash": "7e1998ff7f8aa20ada591c520b972326324e5ea05489af9e422744c7c09f6dad"
   }
  }
 },
 "nbformat": 4,
 "nbformat_minor": 5
}
