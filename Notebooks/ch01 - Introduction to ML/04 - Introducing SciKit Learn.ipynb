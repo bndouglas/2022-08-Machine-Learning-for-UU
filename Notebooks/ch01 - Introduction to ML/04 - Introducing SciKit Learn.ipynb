{
 "cells": [
  {
   "cell_type": "markdown",
   "metadata": {},
   "source": [
    "<h1 style='color: #C9C9C9'>Machine Learning with Python<img style=\"float: right; margin-top: 0;\" width=\"240\" src=\"../../Images/cf-logo.png\" /></h1> \n",
    "<p style='color: #C9C9C9'>&copy; Coding Fury 2022 - all rights reserved</p>\n",
    "\n",
    "<hr style='color: #C9C9C9' />"
   ]
  },
  {
   "cell_type": "markdown",
   "metadata": {},
   "source": [
    "# Introduction to SciKit Learn\n",
    "\n",
    "SciKit Learn is a free, open source Machine Learning Library for Python. It was first released to the Public in 2010, and is one of the one of the most popular Machine Learning Libraries on GitHub. \n",
    "\n",
    "It brings together a wide range of Machine Learning Libraries into one, easy to use, and well documented toolkit. \n",
    "\n",
    "The https://scikit-learn.org/ webpage splits the SciKit Learn functionality into 6 categories. I've given each a number (see annotations in pink).\n",
    "\n",
    "![SciKit Learn](../../Images/scikit-learn.png)"
   ]
  },
  {
   "cell_type": "markdown",
   "metadata": {},
   "source": [
    "# 1. Classification\n",
    "\n",
    "Classification is a form of Supervised Learning. Target variables belong to a particular class. \n",
    "\n",
    "# 2. Regression\n",
    "\n",
    "Regression is essentially finding the line of best fit through the points in a dataset.\n",
    "\n",
    "# 3. Clustering \n",
    "\n",
    "Clustering is a type of unsupervised Learning, i.e. the target variable is unknown, and it's up to the Machine Learning algorithim to discern which cluster an observation belongs to. \n",
    "\n",
    "It's easy to get Classification and Clustering confused. Classification tries to divvy up observations by identifiying the boundary lines between classes. Clusters are based on each observation's proximity to a centroid. \n",
    "\n",
    "![Classification vs Clustering](../../Images/classification-vs-clustering.png)\n",
    "\n",
    "\n",
    "# 4. Dimensionality Reduction\n",
    "\n",
    "Dimensionality reduction is about making your data easier to work with.\n",
    "\n",
    "# 5. Model Selection\n",
    "\n",
    "Often times you'll try modelling your data with multiple machine learning algorithms. Using model selection tools you'll be able to discern which one works best. \n",
    "\n",
    "\n",
    "# 6. Preprocessing\n",
    "\n",
    "Preprocessing \n",
    "\n",
    "\n"
   ]
  },
  {
   "cell_type": "markdown",
   "metadata": {},
   "source": [
    "# IMPORTANT: SciKit Learn Rules\n",
    "\n",
    "SciKit Learn requires:\n",
    "1. numerical data\n",
    "2. no missing data\n",
    "3. a numpy array of data"
   ]
  }
 ],
 "metadata": {
  "kernelspec": {
   "display_name": "Python 3 (ipykernel)",
   "language": "python",
   "name": "python3"
  },
  "language_info": {
   "codemirror_mode": {
    "name": "ipython",
    "version": 3
   },
   "file_extension": ".py",
   "mimetype": "text/x-python",
   "name": "python",
   "nbconvert_exporter": "python",
   "pygments_lexer": "ipython3",
   "version": "3.9.7"
  },
  "vscode": {
   "interpreter": {
    "hash": "7e1998ff7f8aa20ada591c520b972326324e5ea05489af9e422744c7c09f6dad"
   }
  }
 },
 "nbformat": 4,
 "nbformat_minor": 4
}
