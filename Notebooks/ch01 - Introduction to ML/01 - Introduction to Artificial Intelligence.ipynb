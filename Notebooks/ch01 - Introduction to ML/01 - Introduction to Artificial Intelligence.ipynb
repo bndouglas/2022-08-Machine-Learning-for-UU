{
 "cells": [
  {
   "cell_type": "markdown",
   "id": "23dcca9b-3523-453e-9cc7-26bfcaa0f018",
   "metadata": {},
   "source": [
    "<h1 style='color: #C9C9C9'>Machine Learning with Python<img style=\"float: right; margin-top: 0;\" width=\"240\" src=\"../../Images/cf-logo.png\" /></h1> \n",
    "<p style='color: #C9C9C9'>&copy; Coding Fury 2022 - all rights reserved</p>\n",
    "\n",
    "<hr style='color: #C9C9C9' />"
   ]
  },
  {
   "cell_type": "markdown",
   "id": "f57cf6f8-3822-4732-8249-229a38827a91",
   "metadata": {},
   "source": [
    "# An Introduction to Artificial Intelligence and Machine Learning\n",
    "\n",
    "\n",
    "Machine Learning is a subset of Artificial Intelligence. And deep learning is a subset of Machine Learning. The diagram below illustrates. \n",
    "\n",
    "![Artificial Intelligence](../../Images/artificial-intelligence.png)\n",
    "\n",
    "# What is Artificial Intelligence? \n",
    "\n",
    "According to [Wikipedia](https://en.wikipedia.org/wiki/Artificial_intelligence): \n",
    "\n",
    "> Artificial intelligence (AI) is intelligence demonstrated by machines, as opposed to the natural intelligence displayed by animals including humans. AI research has been defined as the field of study of intelligent agents, which refers to any system that perceives its environment and takes actions that maximize its chance of achieving its goals.\n",
    "\n",
    "> The term \"artificial intelligence\" had previously been used to describe machines that mimic and display \"human\" cognitive skills that are associated with the human mind, such as \"learning\" and \"problem-solving\". This definition has since been rejected by major AI researchers who now describe AI in terms of rationality and acting rationally, which does not limit how intelligence can be articulated.\n",
    "\n",
    "...\n",
    "> As machines become increasingly capable, tasks considered to require \"intelligence\" are often removed from the definition of AI, a phenomenon known as the AI effect. For instance, optical character recognition is frequently excluded from things considered to be AI, having become a routine technology.\n",
    "\n",
    "> Artificial intelligence was founded as an academic discipline in 1956, and in the years since has experienced several waves of optimism, followed by disappointment and the loss of funding (known as an \"AI winter\"), followed by new approaches, success and renewed funding. AI research has tried and discarded many different approaches since its founding, including simulating the brain, modeling human problem solving, formal logic, large databases of knowledge and imitating animal behavior. In the first decades of the 21st century, highly mathematical-statistical machine learning has dominated the field, and this technique has proved highly successful, helping to solve many challenging problems throughout industry and academia.\n",
    "\n",
    "...\n",
    "\n",
    "In other words AI has already seen several iterations of the Gartner Hype Cycle. \n",
    "\n",
    "<img src='../../Images/Gartner_Hype_Cycle.svg.png' width=600 height=400 />\n",
    "\n",
    "https://en.wikipedia.org/wiki/Gartner_hype_cycle\n",
    "\n",
    "\n",
    "# Discussion\n",
    "\n",
    "* What are your thoughts? Is it different this time? Should we prepare for another trough of disillusionment?\n",
    "* Do you think self-driving cars are likely to be on the roads this decade?\n",
    "  * See the \"Dirty Tesla\" YouTube channel for progress on Tesla Self Driving.\n",
    "  * See the \"JJRicks Studios\" YouTube channel, or search for \"Waymo self driving journey\"  \n",
    "* What jobs do you think will be replaced by Machine Learning in the near-term? Should that concern us?\n",
    "* What is Artificial General Intelligence (AGI) and how is it different from the AI we have today? \n",
    "* Does AGI pose a existential threat to humanity? \n",
    "  * is there a risk that an AGI set on the path to make as many staplers as effienctly as possible would try to make *us* into staplers?\n",
    "  * would an AGI with the task to solve Global Warming discern that the best way to achieve its goals would be to kill all the humans? \n",
    "\n",
    "\n",
    "# Explainability and Ethics\n",
    "\n",
    "Imagine you have trainined an AI Model for driving cars. It has been shown to statisitally perform better than a human by a factor of 10x. That's not to say that it'll cause no accidents, but it'll be involved in 10 times fewer accidents. Like a human driver the system will still be at fault some of the time, just less often. \n",
    "\n",
    "The truth is, you don't really know how or why it works. And because of this you can't predict with 100% confidence how it will react in an given situation. \n",
    "\n",
    "Does explanability matter? All evidence points to the fact that a lot of lives will be saved if all cars were to use your system. But sometimes the system *will* cause fatalities. \n",
    "\n",
    "Should this system be put into use straight away? \n",
    "\n",
    "Do you think families be willing to accept that a machine designed to reduce the number of fatalities overall, killed their loved one? \n",
    "\n",
    "If you want to know more, the Ethics of Artificial Intellignce has it's own wikipedia page https://en.wikipedia.org/wiki/Ethics_of_artificial_intelligence \n"
   ]
  },
  {
   "cell_type": "code",
   "execution_count": null,
   "id": "a1e8a3fd-0c32-4e83-b2b0-f0962f59b9da",
   "metadata": {},
   "outputs": [],
   "source": []
  },
  {
   "cell_type": "code",
   "execution_count": null,
   "id": "24ef34cc-6167-476a-bd9a-b9fab2afc4b0",
   "metadata": {},
   "outputs": [],
   "source": []
  }
 ],
 "metadata": {
  "kernelspec": {
   "display_name": "Python 3 (ipykernel)",
   "language": "python",
   "name": "python3"
  },
  "language_info": {
   "codemirror_mode": {
    "name": "ipython",
    "version": 3
   },
   "file_extension": ".py",
   "mimetype": "text/x-python",
   "name": "python",
   "nbconvert_exporter": "python",
   "pygments_lexer": "ipython3",
   "version": "3.9.7"
  },
  "vscode": {
   "interpreter": {
    "hash": "7e1998ff7f8aa20ada591c520b972326324e5ea05489af9e422744c7c09f6dad"
   }
  }
 },
 "nbformat": 4,
 "nbformat_minor": 5
}
