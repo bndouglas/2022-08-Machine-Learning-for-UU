{
 "cells": [
  {
   "cell_type": "markdown",
   "id": "23dcca9b-3523-453e-9cc7-26bfcaa0f018",
   "metadata": {},
   "source": [
    "<h1 style='color: #C9C9C9'>Machine Learning with Python<img style=\"float: right; margin-top: 0;\" width=\"240\" src=\"../../Images/cf-logo.png\" /></h1> \n",
    "<p style='color: #C9C9C9'>&copy; Coding Fury 2022 - all rights reserved</p>\n",
    "\n",
    "<hr style='color: #C9C9C9' />\n"
   ]
  },
  {
   "cell_type": "markdown",
   "id": "f57cf6f8-3822-4732-8249-229a38827a91",
   "metadata": {},
   "source": [
    "# What is Machine Learning? \n",
    "\n",
    "Machine Learning is the process where computers learn from data without being explicitly programmed. The computer algorithms should improve automatically through experience. In other words the performance of your model should improve as it receives more data. \n",
    "\n",
    "Classical Machine Learning falls into two categories: \n",
    "\n",
    "* Supervised\n",
    "* Unsupervised\n",
    "\n",
    "![Machine Learning Types](../../Images/machine-learning-types.png)\n",
    "\n",
    "The unknown variable, (the thing you are interested to calculate), is called the \"target variable\". \n",
    "\n",
    "## Continuous vs Categorical Target Values\n",
    "\n",
    "Target values can be either continuous or categorical. For example a Machine Learning model could be used to predict the temperature tomorrow. \n",
    "\n",
    "If the target variable were continous, we'd try to predict the value of the temperature using regression. \n",
    "\n",
    "![Continuous Target](../../Images/target-continuous.png)\n",
    "\n",
    "However if we're simply trying to predict if it's going to be hot or cold tomorrow, we'd use a categorical classifier.\n",
    "\n",
    "![Continuous Target](../../Images/target-categorical.png)\n",
    "\n",
    "\n",
    "\n",
    "## Known Target Variables = Labelled Data\n",
    "\n",
    "Sometimes you will have a sample of data where the target variable is known. This data is said to be \"labelled\".\n",
    "\n",
    "In cases where the you have a quantity of labelled data. You can use this data to train your model with a \"supervised\" machine learning model. \n",
    "\n",
    "For example, a simple GCSE Science experiment measures the extension in a spring when a force is applied i.e. Hooke's law.\n",
    "\n",
    "![Hooke's Law Apparatus](../../Images/hookes-law.png)\n",
    "> (source https://www.bbc.co.uk/bitesize/guides/zbyrmfr/revision/2)\n",
    "\n",
    "Experimentally you use the apparatus to capture some data points. \n",
    "\n",
    "![Hooke's Law Graph](../../Images/hookes-law-graph.png)\n",
    "\n",
    "From a Machine Learning point of view, the data is said to be labelled because you have labelled target values for 1 to 9 Newtons, as denoted by the dots on the chart above.\n",
    "\n",
    "From this data you should be able to train a model and make predictions regarding the extension of a spring for an unknown value such as 3.5N (interpolating from between known points) or 10N (extrapolating beyond the data you have).\n",
    "\n",
    "\n",
    "## Unknown Target Variables = Unlabelled Data\n",
    "\n",
    "In cases where the target variable is unknown, you will use Unsupervised learning. \n",
    "\n",
    "In these cases the aim is for the Machine Learning alogithm to spot the pattern. \n",
    "\n",
    "For example retailer seeks to identify patters among it's customers. Data is given to a clustering algorithm, and the following graph is produced. \n",
    "\n",
    "Five succinct clusters of customers were identified by the algorithm, however it's up to a human to give each cluster a name.\n",
    "\n",
    "\n",
    "![Shoppers](../../Images/shoppers-K-Means-clustering.png) \n",
    "\n",
    "\n",
    "\n",
    "It's important to note that the algorithm did not produce the legend for the chart.\n",
    "* careful customers\n",
    "* standard customers\n",
    "* target customers\n",
    "* careless customers\n",
    "* sensible customers\n",
    "\n",
    "This is good example of how Data Science requires not only Computing and Mathematics skills, but also a good working knowledge of the domain in which it is being employed.\n",
    "\n",
    "![Data Science Venn](../../Images/data-science-venn.png) \n",
    "\n",
    "\n",
    "\n"
   ]
  },
  {
   "cell_type": "code",
   "execution_count": null,
   "id": "ea1b1bab-5269-4990-9a03-c31f8e0a9221",
   "metadata": {},
   "outputs": [],
   "source": []
  },
  {
   "cell_type": "code",
   "execution_count": null,
   "id": "a1e8a3fd-0c32-4e83-b2b0-f0962f59b9da",
   "metadata": {},
   "outputs": [],
   "source": []
  },
  {
   "cell_type": "code",
   "execution_count": null,
   "id": "24ef34cc-6167-476a-bd9a-b9fab2afc4b0",
   "metadata": {},
   "outputs": [],
   "source": []
  },
  {
   "cell_type": "code",
   "execution_count": null,
   "id": "04171880-f368-4757-aafe-c8e4feab1549",
   "metadata": {},
   "outputs": [],
   "source": []
  }
 ],
 "metadata": {
  "kernelspec": {
   "display_name": "Python 3 (ipykernel)",
   "language": "python",
   "name": "python3"
  },
  "language_info": {
   "codemirror_mode": {
    "name": "ipython",
    "version": 3
   },
   "file_extension": ".py",
   "mimetype": "text/x-python",
   "name": "python",
   "nbconvert_exporter": "python",
   "pygments_lexer": "ipython3",
   "version": "3.9.7"
  },
  "vscode": {
   "interpreter": {
    "hash": "7e1998ff7f8aa20ada591c520b972326324e5ea05489af9e422744c7c09f6dad"
   }
  }
 },
 "nbformat": 4,
 "nbformat_minor": 5
}
