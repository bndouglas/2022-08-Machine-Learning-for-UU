{
 "cells": [
  {
   "cell_type": "markdown",
   "id": "633d67f0-876b-410b-a97f-395dff34343f",
   "metadata": {},
   "source": [
    "<h1 style='color: #C9C9C9'>Machine Learning with Python<img style=\"float: right; margin-top: 0;\" width=\"240\" src=\"../../Images/cf-logo.png\" /></h1> \n",
    "<p style='color: #C9C9C9'>&copy; Coding Fury 2022 - all rights reserved</p>\n",
    "\n",
    "<hr style='color: #C9C9C9' />"
   ]
  },
  {
   "cell_type": "markdown",
   "id": "e48481c7-877b-4db7-bada-3ba1c157c1e5",
   "metadata": {
    "tags": []
   },
   "source": [
    "# 09 Lab 01 : Evaluating Model Performance - Tips Datset\n",
    "\n",
    "Using the Tips dataset: \n",
    "\n",
    "\n",
    "\n"
   ]
  },
  {
   "cell_type": "markdown",
   "id": "c81eaf1f-f24d-4093-8c8a-9ee22c7bb00f",
   "metadata": {},
   "source": [
    "1. Read in the data\n"
   ]
  },
  {
   "cell_type": "code",
   "execution_count": null,
   "id": "e6b8eb62-a726-4e86-a6d7-6fd26399163b",
   "metadata": {},
   "outputs": [],
   "source": []
  },
  {
   "cell_type": "markdown",
   "id": "ed568103-c148-4ed0-842a-ccdb2033ced6",
   "metadata": {},
   "source": [
    "2. Your Features should be: \n",
    "* Total Bill\n",
    "* Group Size"
   ]
  },
  {
   "cell_type": "code",
   "execution_count": null,
   "id": "c1125d63-4e48-4ca8-808f-718ebbd13d21",
   "metadata": {},
   "outputs": [],
   "source": []
  },
  {
   "cell_type": "markdown",
   "id": "0b463ac0-6638-4f99-a29e-d6ad7478578c",
   "metadata": {},
   "source": [
    "3. Your Target Variable should be : \n",
    "* Tip"
   ]
  },
  {
   "cell_type": "code",
   "execution_count": null,
   "id": "bdda4d55-93c3-4575-8cbd-821251b0610b",
   "metadata": {},
   "outputs": [],
   "source": []
  },
  {
   "cell_type": "markdown",
   "id": "f5d210b6-c366-4a96-b2b7-7f212e87888a",
   "metadata": {},
   "source": [
    "4. Split the data into training and test "
   ]
  },
  {
   "cell_type": "code",
   "execution_count": null,
   "id": "8f1b60f1-050c-4a8f-b56d-833b42b37ae4",
   "metadata": {},
   "outputs": [],
   "source": []
  },
  {
   "cell_type": "markdown",
   "id": "539c43c2-62ac-49cc-8e6e-cb0f7189fd7e",
   "metadata": {},
   "source": [
    "5. Fit the model to the training dataset using Linear Regression"
   ]
  },
  {
   "cell_type": "code",
   "execution_count": null,
   "id": "ae591111-fe89-4119-a00b-da74a7e8bbbb",
   "metadata": {},
   "outputs": [],
   "source": []
  },
  {
   "cell_type": "markdown",
   "id": "516ee781-a60d-4090-8014-dbabe518eaa5",
   "metadata": {},
   "source": [
    "6. Score your model's accuracy ($R^2$)"
   ]
  },
  {
   "cell_type": "code",
   "execution_count": null,
   "id": "310cc0df-f466-4541-984c-6ac8bec13ad7",
   "metadata": {},
   "outputs": [],
   "source": []
  },
  {
   "cell_type": "markdown",
   "id": "ffac1bb1-9e32-44ce-a67e-c929755d4977",
   "metadata": {},
   "source": [
    "7. Calculate the Root Mean Squared Error"
   ]
  },
  {
   "cell_type": "code",
   "execution_count": null,
   "id": "82c24240-379e-4818-80a5-2d4e7b18b2b1",
   "metadata": {},
   "outputs": [],
   "source": []
  },
  {
   "cell_type": "markdown",
   "id": "e9578bee-c700-40c1-b116-2c6b28dc02ca",
   "metadata": {},
   "source": [
    "8. Comment on if the accuracy / error improved when you added the extra feature"
   ]
  },
  {
   "cell_type": "code",
   "execution_count": null,
   "id": "ce369e3c-c18b-460f-9814-3adf3a6629d6",
   "metadata": {},
   "outputs": [],
   "source": []
  }
 ],
 "metadata": {
  "kernelspec": {
   "display_name": "Python 3 (ipykernel)",
   "language": "python",
   "name": "python3"
  },
  "language_info": {
   "codemirror_mode": {
    "name": "ipython",
    "version": 3
   },
   "file_extension": ".py",
   "mimetype": "text/x-python",
   "name": "python",
   "nbconvert_exporter": "python",
   "pygments_lexer": "ipython3",
   "version": "3.9.7"
  }
 },
 "nbformat": 4,
 "nbformat_minor": 5
}
