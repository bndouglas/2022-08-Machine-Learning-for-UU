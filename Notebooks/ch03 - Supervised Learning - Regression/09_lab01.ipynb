{
 "cells": [
  {
   "cell_type": "markdown",
   "id": "633d67f0-876b-410b-a97f-395dff34343f",
   "metadata": {},
   "source": [
    "<h1 style='color: #C9C9C9'>Machine Learning with Python<img style=\"float: right; margin-top: 0;\" width=\"240\" src=\"../../Images/cf-logo.png\" /></h1> \n",
    "<p style='color: #C9C9C9'>&copy; Coding Fury 2022 - all rights reserved</p>\n",
    "\n",
    "<hr style='color: #C9C9C9' />"
   ]
  },
  {
   "cell_type": "markdown",
   "id": "e48481c7-877b-4db7-bada-3ba1c157c1e5",
   "metadata": {},
   "source": [
    "# 09 Lab 01\n",
    "\n",
    "Using the Tips dataset: \n",
    "\n",
    "1. Read in the data\n",
    "2. Your Features should be: \n",
    "* Total Bill\n",
    "* Group Size\n",
    "3. Your Target Variable should be : \n",
    "* Tip\n",
    "4. Split the data into training and test \n",
    "5. Fit the model to the training dataset using Linear Regression\n",
    "6. Score your model's accuracy ($R^2$)\n",
    "7. Calculate the Mean Squared Error\n",
    "8. Comment on if the accuracy / error improved when you added the extra feature\n",
    "\n",
    "\n"
   ]
  },
  {
   "cell_type": "code",
   "execution_count": null,
   "id": "93fdd9e8-114a-40ab-84d4-81ee58c1295a",
   "metadata": {},
   "outputs": [],
   "source": []
  }
 ],
 "metadata": {
  "kernelspec": {
   "display_name": "Python 3 (ipykernel)",
   "language": "python",
   "name": "python3"
  },
  "language_info": {
   "codemirror_mode": {
    "name": "ipython",
    "version": 3
   },
   "file_extension": ".py",
   "mimetype": "text/x-python",
   "name": "python",
   "nbconvert_exporter": "python",
   "pygments_lexer": "ipython3",
   "version": "3.9.7"
  }
 },
 "nbformat": 4,
 "nbformat_minor": 5
}
