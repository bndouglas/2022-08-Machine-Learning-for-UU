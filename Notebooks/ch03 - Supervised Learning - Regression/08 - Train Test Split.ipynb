{
 "cells": [
  {
   "cell_type": "markdown",
   "metadata": {},
   "source": [
    "<h1 style='color: #C9C9C9'>Machine Learning with Python<img style=\"float: right; margin-top: 0;\" width=\"240\" src=\"../../Images/cf-logo.png\" /></h1> \n",
    "<p style='color: #C9C9C9'>&copy; Coding Fury 2022 - all rights reserved</p>\n",
    "\n",
    "<hr style='color: #C9C9C9' />"
   ]
  },
  {
   "cell_type": "markdown",
   "metadata": {},
   "source": [
    "# Train Test Split\n",
    "\n",
    "In this tutorial, we're going to load the income_data.csv dataset, and consider how we're going to train then test the model. \n",
    "\n",
    "In an earlier example, we created a model for this dataset, but we really have little idea as to how well that model performs. \n",
    "\n",
    "This tutorial is concerned with creating a new testing dataset that we can use to test the performance of the model.\n",
    "\n",
    "Let's start by loading income_data.csv"
   ]
  },
  {
   "cell_type": "code",
   "execution_count": 1,
   "metadata": {},
   "outputs": [],
   "source": [
    "import pandas as pd\n",
    "import numpy as np\n",
    "import matplotlib.pyplot as plt\n",
    "from sklearn.linear_model import LinearRegression"
   ]
  },
  {
   "cell_type": "code",
   "execution_count": 2,
   "metadata": {},
   "outputs": [
    {
     "data": {
      "text/html": [
       "<div>\n",
       "<style scoped>\n",
       "    .dataframe tbody tr th:only-of-type {\n",
       "        vertical-align: middle;\n",
       "    }\n",
       "\n",
       "    .dataframe tbody tr th {\n",
       "        vertical-align: top;\n",
       "    }\n",
       "\n",
       "    .dataframe thead th {\n",
       "        text-align: right;\n",
       "    }\n",
       "</style>\n",
       "<table border=\"1\" class=\"dataframe\">\n",
       "  <thead>\n",
       "    <tr style=\"text-align: right;\">\n",
       "      <th></th>\n",
       "      <th>income</th>\n",
       "      <th>happiness</th>\n",
       "    </tr>\n",
       "  </thead>\n",
       "  <tbody>\n",
       "    <tr>\n",
       "      <th>0</th>\n",
       "      <td>38.63</td>\n",
       "      <td>2.314489</td>\n",
       "    </tr>\n",
       "    <tr>\n",
       "      <th>1</th>\n",
       "      <td>49.79</td>\n",
       "      <td>3.433490</td>\n",
       "    </tr>\n",
       "    <tr>\n",
       "      <th>2</th>\n",
       "      <td>49.24</td>\n",
       "      <td>4.599373</td>\n",
       "    </tr>\n",
       "    <tr>\n",
       "      <th>3</th>\n",
       "      <td>32.14</td>\n",
       "      <td>2.791114</td>\n",
       "    </tr>\n",
       "    <tr>\n",
       "      <th>4</th>\n",
       "      <td>71.96</td>\n",
       "      <td>5.596398</td>\n",
       "    </tr>\n",
       "    <tr>\n",
       "      <th>...</th>\n",
       "      <td>...</td>\n",
       "      <td>...</td>\n",
       "    </tr>\n",
       "    <tr>\n",
       "      <th>493</th>\n",
       "      <td>52.49</td>\n",
       "      <td>4.568705</td>\n",
       "    </tr>\n",
       "    <tr>\n",
       "      <th>494</th>\n",
       "      <td>34.72</td>\n",
       "      <td>2.535002</td>\n",
       "    </tr>\n",
       "    <tr>\n",
       "      <th>495</th>\n",
       "      <td>60.88</td>\n",
       "      <td>4.397451</td>\n",
       "    </tr>\n",
       "    <tr>\n",
       "      <th>496</th>\n",
       "      <td>34.41</td>\n",
       "      <td>2.070664</td>\n",
       "    </tr>\n",
       "    <tr>\n",
       "      <th>497</th>\n",
       "      <td>45.31</td>\n",
       "      <td>3.710193</td>\n",
       "    </tr>\n",
       "  </tbody>\n",
       "</table>\n",
       "<p>498 rows × 2 columns</p>\n",
       "</div>"
      ],
      "text/plain": [
       "     income  happiness\n",
       "0     38.63   2.314489\n",
       "1     49.79   3.433490\n",
       "2     49.24   4.599373\n",
       "3     32.14   2.791114\n",
       "4     71.96   5.596398\n",
       "..      ...        ...\n",
       "493   52.49   4.568705\n",
       "494   34.72   2.535002\n",
       "495   60.88   4.397451\n",
       "496   34.41   2.070664\n",
       "497   45.31   3.710193\n",
       "\n",
       "[498 rows x 2 columns]"
      ]
     },
     "execution_count": 2,
     "metadata": {},
     "output_type": "execute_result"
    }
   ],
   "source": [
    "happiness_df = pd.read_csv('../../Data/income_data.csv')\n",
    "happiness_df"
   ]
  },
  {
   "cell_type": "code",
   "execution_count": 3,
   "metadata": {},
   "outputs": [],
   "source": [
    "X = happiness_df['income'].values.reshape(-1,1)  # this could have been done: happiness_df[['income']].values\n",
    "y = happiness_df['happiness'].values"
   ]
  },
  {
   "cell_type": "code",
   "execution_count": 4,
   "metadata": {},
   "outputs": [
    {
     "data": {
      "text/plain": [
       "LinearRegression()"
      ]
     },
     "execution_count": 4,
     "metadata": {},
     "output_type": "execute_result"
    }
   ],
   "source": [
    "model = LinearRegression()\n",
    "model.fit(X, y)"
   ]
  },
  {
   "cell_type": "markdown",
   "metadata": {},
   "source": [
    "At this point, we can make predictions about our data with new values e.g. what if someone makes £40,000 per year, how happy will they be?"
   ]
  },
  {
   "cell_type": "code",
   "execution_count": 5,
   "metadata": {},
   "outputs": [
    {
     "data": {
      "text/plain": [
       "array([[40]])"
      ]
     },
     "execution_count": 5,
     "metadata": {},
     "output_type": "execute_result"
    }
   ],
   "source": [
    "new_X = np.array([40]).reshape(-1,1)\n",
    "new_X"
   ]
  },
  {
   "cell_type": "code",
   "execution_count": 6,
   "metadata": {},
   "outputs": [
    {
     "data": {
      "text/plain": [
       "array([3.05957802])"
      ]
     },
     "execution_count": 6,
     "metadata": {},
     "output_type": "execute_result"
    }
   ],
   "source": [
    "model.predict(new_X)"
   ]
  },
  {
   "cell_type": "markdown",
   "metadata": {},
   "source": [
    "The problem we have now is knowing how good the prediction is. \n",
    "\n",
    "Even if we were to find someone who had a salary of exactly £40,000, that wouldn't help us to evaluate the model. Perhaps that person has an unusually happy disposition? Maybe they're just back from the holiday of a lifetime? Or perhaps they've been bereaved this year? \n",
    "\n",
    "What we need is a range of values for income and happiness so that we can see how well our model performs on aggregate. \n",
    "\n",
    "And we can't use any of the values from our training dataset. They were used to create the model, so they're effectively biased. We want to know how well our model performs on NEW data.\n",
    "\n",
    "The easiest way to achieve this is to withhold some of the data from income_data.csv i.e. we can use some of the data for building a model, and withhold some data to test it with.\n",
    "\n",
    "Thankfully SciKit Learn has a library for exactly this. It's called **train_test_split**\n",
    "\n"
   ]
  },
  {
   "cell_type": "code",
   "execution_count": 7,
   "metadata": {},
   "outputs": [],
   "source": [
    "from sklearn.model_selection import train_test_split\n",
    "\n",
    "X_train, X_test, y_train, y_test = train_test_split(X, y, test_size=0.3, random_state=21)"
   ]
  },
  {
   "cell_type": "markdown",
   "metadata": {},
   "source": [
    "## Explanation\n",
    "\n",
    "```test_size=0.3``` \n",
    "\n",
    "> This sets 30% of our data as test set i.e. 70% will be used to train our model\n",
    "\n",
    "```random_state=21```\n",
    "\n",
    "> This is a seed for a random number generator that splits the data i.e. test rows are selected at random based on the seed. \n",
    ">  Choosing the same number will guarantee the same rows are selected for the split each time, making our program repeatable, with the same rows in the training and test set each time.\n",
    "\n",
    "\n",
    "**RETURENED VALUES**\n",
    "\n",
    "The data is returned as a tuple that contains 4 variales\n",
    "\n",
    "```X_train``` \n",
    "> this is the training data\n",
    "\n",
    "```X_test```\n",
    "> this is the test data\n",
    "\n",
    "```y_train```\n",
    "> the traing data labels labels (in this case the species)\n",
    "\n",
    "```y_test```\n",
    "> the test data labels"
   ]
  },
  {
   "cell_type": "markdown",
   "metadata": {},
   "source": [
    "## Train the model"
   ]
  },
  {
   "cell_type": "code",
   "execution_count": 8,
   "metadata": {},
   "outputs": [
    {
     "data": {
      "text/plain": [
       "LinearRegression()"
      ]
     },
     "execution_count": 8,
     "metadata": {},
     "output_type": "execute_result"
    }
   ],
   "source": [
    "model.fit(X_train, y_train)\n"
   ]
  },
  {
   "cell_type": "markdown",
   "metadata": {},
   "source": [
    "## Calculating the Accuracy Score"
   ]
  },
  {
   "cell_type": "code",
   "execution_count": 9,
   "metadata": {},
   "outputs": [
    {
     "data": {
      "text/plain": [
       "0.7749620717403137"
      ]
     },
     "execution_count": 9,
     "metadata": {},
     "output_type": "execute_result"
    }
   ],
   "source": [
    "model.score(X_test, y_test)"
   ]
  },
  {
   "cell_type": "markdown",
   "metadata": {},
   "source": [
    "Our accuracy was therefore 77%  But what does this really mean? \n",
    "\n",
    "## Simple Linear Regression in Excel\n",
    "\n",
    "Many people are aware that it's possible to perform Simple Linear Regression using Excel:\n",
    "1. Make a scatter chart\n",
    "2. Add Chart Element > Trendline\n",
    "\n",
    "![Analysing Income and Happiness in Excel](../../Images/income-happiness-in-excel.png)\n",
    "\n",
    "Notice the $R^2$ value at the top of the chart I produced in Excel.\n",
    "\n",
    "In Excel the $R^2$ value gives the accuracy of the trendline, and the number that is shown is very similar to the score for our model using SciKit Learn. That's because our model.score is using $R^2$ as well. \n",
    "\n",
    "## What is model.score()?\n",
    "\n",
    "In the case of Linear Regression, the score gives the $R^2$ value; however, the metric that ```model.score()``` uses will vary from one machine learning algorithm to another. \n",
    "\n",
    "In the next tutorial we'll look at what $R^2$ means, and look at alternatives that can be used for scoring a Linear Regression model. "
   ]
  }
 ],
 "metadata": {
  "kernelspec": {
   "display_name": "Python 3 (ipykernel)",
   "language": "python",
   "name": "python3"
  },
  "language_info": {
   "codemirror_mode": {
    "name": "ipython",
    "version": 3
   },
   "file_extension": ".py",
   "mimetype": "text/x-python",
   "name": "python",
   "nbconvert_exporter": "python",
   "pygments_lexer": "ipython3",
   "version": "3.9.7"
  },
  "vscode": {
   "interpreter": {
    "hash": "7e1998ff7f8aa20ada591c520b972326324e5ea05489af9e422744c7c09f6dad"
   }
  }
 },
 "nbformat": 4,
 "nbformat_minor": 4
}
