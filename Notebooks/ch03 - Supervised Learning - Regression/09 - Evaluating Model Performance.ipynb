{
 "cells": [
  {
   "cell_type": "markdown",
   "metadata": {},
   "source": [
    "<h1 style='color: #C9C9C9'>Machine Learning with Python<img style=\"float: right; margin-top: 0;\" width=\"240\" src=\"../../Images/cf-logo.png\" /></h1> \n",
    "<p style='color: #C9C9C9'>&copy; Coding Fury 2022 - all rights reserved</p>\n",
    "\n",
    "<hr style='color: #C9C9C9' />"
   ]
  },
  {
   "cell_type": "markdown",
   "metadata": {},
   "source": [
    "# Evaluating Model Performance\n",
    "\n",
    "Continuing on from the last example let's load the income vs happiness dataset and evaluate the performance of our model."
   ]
  },
  {
   "cell_type": "code",
   "execution_count": 2,
   "metadata": {},
   "outputs": [
    {
     "data": {
      "text/plain": [
       "0.38686327140864907"
      ]
     },
     "execution_count": 2,
     "metadata": {},
     "output_type": "execute_result"
    }
   ],
   "source": [
    "import pandas as pd\n",
    "import numpy as np\n",
    "import matplotlib.pyplot as plt\n",
    "from sklearn.linear_model import LinearRegression\n",
    "from sklearn.model_selection import train_test_split\n",
    "\n",
    "tips_df = pd.read_csv('../../Data/tips.csv')\n",
    "\n",
    "X = tips_df['tip'].values.reshape(-1,1)  # this could have been done: happiness_df[['income']].values\n",
    "y = tips_df['total_bill'].values\n",
    "\n",
    "X_train, X_test, y_train, y_test = train_test_split(X, y, test_size=0.3, random_state=21)\n",
    "\n",
    "model = LinearRegression()\n",
    "model.fit(X_train, y_train)  # Train the model\n",
    "model.score(X_test, y_test)  # Score the model's accuracy - this is the R^2 value for this model\n"
   ]
  },
  {
   "cell_type": "markdown",
   "metadata": {},
   "source": [
    "As you can see the Accuracy of this model isn't great. \n",
    "\n",
    "A perfect model, with 100% accuracy would have a value of 1. This model has an $R^2$ of approx 0.39.\n",
    "\n",
    "But what is $R^2$? "
   ]
  },
  {
   "cell_type": "markdown",
   "metadata": {},
   "source": [
    "# Regression Mechanics\n",
    "\n",
    "Using a single feature for X is \"simple linear regression\", it's the simpliest form of linear regression so that's what we're going to use for this explanation, however, the same principles apply as you add more features.\n",
    "\n",
    "The line in the chart above follows the equation: \n",
    "y = ax+b\n",
    "\n",
    "So finding the line of best fit is about finding suitable values for a and b.\n",
    "\n",
    "How do we do this?\n",
    "\n",
    "The strategy is to define an Error Function, and then try to minimise this error.\n",
    "\n",
    "People use the following terms for Error Function\n",
    "* Error Function\n",
    "* Loss Function \n",
    "* Cost Function\n",
    "\n",
    "![Calculate Error](../../Images/error-from-line.png)\n",
    "\n",
    "For each observation, we calculate the \"residual\", i.e. the vertical distance from each point to the line.\n",
    "\n",
    "If we simply sum up the residuals the positive values would cancel out the negative values. \n",
    "\n",
    "To counter this, we square the residuals. \n",
    "\n",
    "The Residual Sum of Squares (RSS) is given by the equation: \n",
    "\n",
    "![RSS Formula](../../Images/rss-formula.png)\n",
    "\n",
    "\n",
    "This type of Linear Regression is called **Ordinary Least Squares** where we try to minimise the RSS by varying the values a and b.\n",
    "\n",
    "\n",
    "# Multiple Linear Regression\n",
    "Where you have more dimensions (or features) the formula for the line of best fit is:\n",
    "\n",
    "$y = a_1x_1 + a_2x_2... + b$\n",
    "\n",
    "But the same principles apply. \n"
   ]
  },
  {
   "cell_type": "markdown",
   "metadata": {},
   "source": [
    "# Fit\n",
    "\n",
    "$R^2$ is the variance of the target values. \n",
    "\n",
    "$R^2$ ranges from 0 to 1 depending on how close the points are to the line. \n",
    "\n",
    "$R^2$ = 1 means that all points lie on the line.\n",
    "\n",
    "We calculate the $R^2$ by scoring our model. "
   ]
  },
  {
   "cell_type": "code",
   "execution_count": 3,
   "metadata": {},
   "outputs": [
    {
     "data": {
      "text/plain": [
       "0.38686327140864907"
      ]
     },
     "execution_count": 3,
     "metadata": {},
     "output_type": "execute_result"
    }
   ],
   "source": [
    "model.score(X_test, y_test) # yes, we did this earlier - this is a recap"
   ]
  },
  {
   "cell_type": "markdown",
   "metadata": {},
   "source": [
    "# Mean Squared Error\n",
    "\n",
    "Another way to calculate the Error is with the Mean Squared Error (MSE)\n",
    "\n",
    "![Mean Squared Error](../../Images/mean-squared-error-formula.png)\n",
    "\n",
    "MSE is measured in units of our target value squared i.e. if the target value is in £, then the MSE will be in $ £^2 $ "
   ]
  },
  {
   "cell_type": "code",
   "execution_count": 8,
   "metadata": {},
   "outputs": [
    {
     "data": {
      "text/plain": [
       "45.4310606551747"
      ]
     },
     "execution_count": 8,
     "metadata": {},
     "output_type": "execute_result"
    }
   ],
   "source": [
    "from sklearn.metrics import mean_squared_error\n",
    "\n",
    "y_pred = model.predict(X_test)\n",
    "mse = mean_squared_error(y_test, y_pred, squared=True) # by setting squared to false, we get the RMSE value\n",
    "mse"
   ]
  },
  {
   "cell_type": "markdown",
   "metadata": {},
   "source": [
    "To get the error in £ we can take the square root. This gives the RMSE error i.e. Root Mean Squared Error"
   ]
  },
  {
   "cell_type": "code",
   "execution_count": 9,
   "metadata": {},
   "outputs": [
    {
     "data": {
      "text/plain": [
       "6.74025672027221"
      ]
     },
     "execution_count": 9,
     "metadata": {},
     "output_type": "execute_result"
    }
   ],
   "source": [
    "from sklearn.metrics import mean_squared_error\n",
    "rmse = mean_squared_error(y_test, y_pred, squared=False) # by setting squared to false, we get the RMSE value\n",
    "rmse"
   ]
  },
  {
   "cell_type": "code",
   "execution_count": null,
   "metadata": {},
   "outputs": [],
   "source": []
  }
 ],
 "metadata": {
  "kernelspec": {
   "display_name": "Python 3.10.4 64-bit",
   "language": "python",
   "name": "python3"
  },
  "language_info": {
   "codemirror_mode": {
    "name": "ipython",
    "version": 3
   },
   "file_extension": ".py",
   "mimetype": "text/x-python",
   "name": "python",
   "nbconvert_exporter": "python",
   "pygments_lexer": "ipython3",
   "version": "3.10.4"
  },
  "orig_nbformat": 4,
  "vscode": {
   "interpreter": {
    "hash": "7e1998ff7f8aa20ada591c520b972326324e5ea05489af9e422744c7c09f6dad"
   }
  }
 },
 "nbformat": 4,
 "nbformat_minor": 2
}
