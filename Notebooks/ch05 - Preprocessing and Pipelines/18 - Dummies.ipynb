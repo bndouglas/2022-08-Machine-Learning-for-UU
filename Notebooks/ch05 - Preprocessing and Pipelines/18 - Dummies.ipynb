{
 "cells": [
  {
   "cell_type": "markdown",
   "metadata": {},
   "source": [
    "<h1 style='color: #C9C9C9'>Machine Learning with Python<img style=\"float: right; margin-top: 0;\" width=\"240\" src=\"../../Images/cf-logo.png\" /></h1> \n",
    "<p style='color: #C9C9C9'>&copy; Coding Fury 2022 - all rights reserved</p>\n",
    "\n",
    "<hr style='color: #C9C9C9' />"
   ]
  },
  {
   "cell_type": "markdown",
   "metadata": {},
   "source": [
    "# Dummies\n",
    "\n",
    "Before I introduce the topic of dummies, let's import the automobiles dataset. \n",
    "\n",
    "We'll also deal with the missing data."
   ]
  },
  {
   "cell_type": "markdown",
   "metadata": {},
   "source": [
    "## Load the Automobiles Dataset"
   ]
  },
  {
   "cell_type": "code",
   "execution_count": null,
   "metadata": {},
   "outputs": [],
   "source": [
    "import numpy as np\n",
    "import pandas as pd\n",
    "# ensure that we can see all columns when we display a dataframe\n",
    "pd.set_option('max_columns', None) \n",
    "\n",
    "# read the automobiles dataset into a dataframe\n",
    "auto_df = pd.read_csv('../../Data/automobiles.csv')\n",
    "\n",
    "# drop the symbolling and normalised losses columns\n",
    "auto_df = auto_df.drop(['symboling', 'normalised_losses'], axis=1)\n",
    "# drop the rows without a price\n",
    "auto_df = auto_df.dropna(subset=['price']) \n",
    "auto_df\n"
   ]
  },
  {
   "cell_type": "code",
   "execution_count": null,
   "metadata": {},
   "outputs": [],
   "source": [
    "auto_df['body_style'].unique()"
   ]
  },
  {
   "cell_type": "markdown",
   "metadata": {},
   "source": [
    "## Impute missing values"
   ]
  },
  {
   "cell_type": "code",
   "execution_count": null,
   "metadata": {},
   "outputs": [],
   "source": [
    "from sklearn.impute import SimpleImputer"
   ]
  },
  {
   "cell_type": "code",
   "execution_count": null,
   "metadata": {},
   "outputs": [],
   "source": [
    "imp_mode = SimpleImputer(strategy='most_frequent', missing_values=np.NaN)   # \"most_frequent\" is same as the \"mode\"\n",
    "auto_df['num_of_doors'] = imp_mode.fit_transform(auto_df[['num_of_doors']])"
   ]
  },
  {
   "cell_type": "code",
   "execution_count": null,
   "metadata": {},
   "outputs": [],
   "source": [
    "imp_mean = SimpleImputer(strategy='mean', missing_values=np.NaN)  \n",
    "auto_df[['bore', 'stroke']] = imp_mean.fit_transform(auto_df[['bore','stroke']])"
   ]
  },
  {
   "cell_type": "code",
   "execution_count": null,
   "metadata": {},
   "outputs": [],
   "source": [
    "imp_median = SimpleImputer(strategy='median', missing_values=np.NaN)  \n",
    "auto_df[['horsepower','peak_rpm']] = imp_mean.fit_transform(auto_df[['horsepower','peak_rpm']])"
   ]
  },
  {
   "cell_type": "markdown",
   "metadata": {},
   "source": [
    "## Are we ready to train a model?\n",
    "\n",
    "No, we can't train a model yet because lost of our columns contain strings. \n",
    "\n",
    "How could we fix this? \n",
    "\n",
    "If you look at the columns that contain strings, you can see that each column only contains a finite number of options. "
   ]
  },
  {
   "cell_type": "code",
   "execution_count": null,
   "metadata": {},
   "outputs": [],
   "source": [
    "auto_df['make'].unique()"
   ]
  },
  {
   "cell_type": "code",
   "execution_count": null,
   "metadata": {},
   "outputs": [],
   "source": [
    "auto_df['fuel_type'].unique()"
   ]
  },
  {
   "cell_type": "code",
   "execution_count": null,
   "metadata": {},
   "outputs": [],
   "source": [
    "auto_df['aspiration'].unique()"
   ]
  },
  {
   "cell_type": "markdown",
   "metadata": {},
   "source": [
    "## A possible solution?\n",
    "\n",
    "It should be obvious that in cases like this we should be able to substitute numbers for each of the values. For example perhaps 'gas' could be 0 and diesel could be '1'?\n",
    "\n",
    "Or maybe we could number the car make from 'alpha-romero'=0 through 'volvo'=21?\n",
    "\n",
    "There's a problem with this approach: it suggests that somehow a \"volvo\" is worth \"more\" than an \"alpha-romero\".\n",
    "\n",
    "# Creating Dummies\n",
    "\n",
    "What we actually need to do is create a column for each make. Then we can denote if the make is \"alpha-romero\" with a 0 or 1. \n",
    "\n",
    "This sounds like a lot of work, but don't worry, it's not. This process is called creating dummies; and a library for creating dummies is built into Pandas. "
   ]
  },
  {
   "cell_type": "code",
   "execution_count": null,
   "metadata": {},
   "outputs": [],
   "source": [
    "auto_dummies_df = pd.get_dummies(auto_df)\n",
    "auto_dummies_df"
   ]
  },
  {
   "cell_type": "markdown",
   "metadata": {},
   "source": [
    "\n",
    "> OneHotEncoder()\n",
    ">\n",
    "> Note that you can also create dummies with SciKit Learn's OneHotEncoder()\n",
    ">\n",
    "> However, OneHotEncoder only works on numerical data, which means the categories have to be numbered e.g. 0-10 for the encoder to make dummies for you.  \n",
    ">\n",
    "> If a feature contains strings/objects then you first have to use SciKit Learn's LabelEncoder to convert them into numbers, then you can apply the OneHotEncoder. Unquestionably, the pandas dummies library is easier to use.\n"
   ]
  },
  {
   "cell_type": "markdown",
   "metadata": {},
   "source": [
    "# Dummies: drop_first=True\n",
    "\n",
    "Consider the fuel types for 4 rows of data - shown as dummies.\n",
    "\n",
    "| # | fuel_type_diesel | fuel_type_gas |\n",
    "|---|------------------|---------------|\n",
    "|  1|                 0|              1|\n",
    "|  2|                 0|              1|\n",
    "|  3|                 1|              0|\n",
    "|  4|                 0|              1|\n",
    "\n",
    "Because there are only 2 possible outcomes: if the fuel type isn't petrol, then we know for certain that it must be diesel. Therefore I can represent the same information with only one column: \n",
    "\n",
    "| # | fuel_type_gas |\n",
    "|---|---------------|\n",
    "|  1|              1|\n",
    "|  2|              1|\n",
    "|  3|              0|\n",
    "|  4|              1|\n",
    "\n",
    "\n",
    "The same goes for the makes of cars, if we know that the car make isn't any of the combinations \"audi\" through \"volvo\" then it must be an \"alpha-romeo\". \n",
    "\n",
    "Because we know this implicitly, we should drop the first column, otherwise, we're carrying duplicate information. \n",
    "\n",
    "Furthermore, not dropping this column will cause problems for some models."
   ]
  },
  {
   "cell_type": "code",
   "execution_count": null,
   "metadata": {},
   "outputs": [],
   "source": [
    "auto_dummies_df = pd.get_dummies(auto_df, drop_first=True)\n",
    "auto_dummies_df"
   ]
  },
  {
   "cell_type": "code",
   "execution_count": null,
   "metadata": {},
   "outputs": [],
   "source": []
  }
 ],
 "metadata": {
  "kernelspec": {
   "display_name": "Python 3 (ipykernel)",
   "language": "python",
   "name": "python3"
  },
  "language_info": {
   "codemirror_mode": {
    "name": "ipython",
    "version": 3
   },
   "file_extension": ".py",
   "mimetype": "text/x-python",
   "name": "python",
   "nbconvert_exporter": "python",
   "pygments_lexer": "ipython3",
   "version": "3.10.4"
  },
  "vscode": {
   "interpreter": {
    "hash": "7e1998ff7f8aa20ada591c520b972326324e5ea05489af9e422744c7c09f6dad"
   }
  }
 },
 "nbformat": 4,
 "nbformat_minor": 4
}
