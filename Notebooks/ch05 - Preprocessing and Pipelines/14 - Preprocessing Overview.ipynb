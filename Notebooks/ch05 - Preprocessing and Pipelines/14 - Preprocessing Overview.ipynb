{
 "cells": [
  {
   "cell_type": "markdown",
   "metadata": {},
   "source": [
    "<h1 style='color: #C9C9C9'>Machine Learning with Python<img style=\"float: right; margin-top: 0;\" width=\"240\" src=\"../../Images/cf-logo.png\" /></h1> \n",
    "<p style='color: #C9C9C9'>&copy; Coding Fury 2022 - all rights reserved</p>\n",
    "\n",
    "<hr style='color: #C9C9C9' />"
   ]
  },
  {
   "cell_type": "markdown",
   "metadata": {},
   "source": [
    "# Preprocessing and Pipelines Overview\n",
    "\n",
    "In this chapter, we're going to learn how to overcome common problems with Machine Learning datasets. \n",
    "\n",
    "For example, you'll recall that in order to perform Machine Learning the dataset must: \n",
    "\n",
    "1. be numerical \n",
    "2. contain no missing data\n",
    "\n",
    "These rules are hard and fast.\n",
    "\n",
    "\n",
    "**Preprocessing**\n",
    "\n",
    "In this chapter, we'll look at 4 ways we can preprocess our data so it's ready for training a model.\n",
    "\n",
    "1. Reshaping (or transforming) the data to make it easier to model. \n",
    "\n",
    "2. Strategies for dealing with Missing Data. \n",
    "\n",
    "3. Strategies for dealing with non-numerical features. \n",
    "\n",
    "4. Strategies for Scaling your data.\n",
    "\n",
    "**Pipelines** \n",
    "\n",
    "5. Finally, we can build a pipeline that chains together all these steps and fits the data to a model. \n",
    "\n"
   ]
  },
  {
   "cell_type": "markdown",
   "metadata": {},
   "source": [
    "# The Automobiles Dataset\n",
    "\n",
    "In this chapter, we'll use the Automobiles dataset. The dataset has a range of issues that need to be fixed. We'll address these issues by preprocessing the data before training a model.\n"
   ]
  },
  {
   "cell_type": "code",
   "execution_count": null,
   "metadata": {},
   "outputs": [],
   "source": [
    "import pandas as pd\n",
    "\n",
    "auto_df = pd.read_csv('../../Data/automobiles.csv')\n",
    "auto_df"
   ]
  },
  {
   "cell_type": "markdown",
   "metadata": {},
   "source": [
    "There are a large number of columns in this dataset. You should notice that some columns are hidden (between wheel_base and engine_size)"
   ]
  },
  {
   "cell_type": "code",
   "execution_count": null,
   "metadata": {},
   "outputs": [],
   "source": [
    "auto_df.info()\n"
   ]
  },
  {
   "cell_type": "markdown",
   "metadata": {},
   "source": [
    "You'll notice that the dataset has columns with missing data. \n",
    "\n",
    "You should also notice that we're not seeing data from columns 20-23 inclusive, because there's a limit to how much data a jupyter notebook will output. \n",
    "\n",
    "We can break the output into two groups like this: \n"
   ]
  },
  {
   "cell_type": "code",
   "execution_count": null,
   "metadata": {},
   "outputs": [],
   "source": [
    "auto_df.iloc[:, 0:20].info()"
   ]
  },
  {
   "cell_type": "code",
   "execution_count": null,
   "metadata": {},
   "outputs": [],
   "source": [
    "auto_df.iloc[:, 20:].info()"
   ]
  },
  {
   "cell_type": "markdown",
   "metadata": {},
   "source": [
    "# Familiarise yourself with the data\n",
    "\n",
    "Take a few moments to familarise yourself with the data. Open it in Excel and make sure you understand the data. \n",
    "\n",
    "We're going to use various features about a car to try and predict the price of the car. \n",
    "\n",
    "The symboling and normalised_losses columns relate to evaluating insurance risk. We won't need them for this particular challenge.  "
   ]
  },
  {
   "cell_type": "code",
   "execution_count": null,
   "metadata": {},
   "outputs": [],
   "source": []
  }
 ],
 "metadata": {
  "kernelspec": {
   "display_name": "Python 3 (ipykernel)",
   "language": "python",
   "name": "python3"
  },
  "language_info": {
   "codemirror_mode": {
    "name": "ipython",
    "version": 3
   },
   "file_extension": ".py",
   "mimetype": "text/x-python",
   "name": "python",
   "nbconvert_exporter": "python",
   "pygments_lexer": "ipython3",
   "version": "3.9.7"
  },
  "vscode": {
   "interpreter": {
    "hash": "7e1998ff7f8aa20ada591c520b972326324e5ea05489af9e422744c7c09f6dad"
   }
  }
 },
 "nbformat": 4,
 "nbformat_minor": 4
}
