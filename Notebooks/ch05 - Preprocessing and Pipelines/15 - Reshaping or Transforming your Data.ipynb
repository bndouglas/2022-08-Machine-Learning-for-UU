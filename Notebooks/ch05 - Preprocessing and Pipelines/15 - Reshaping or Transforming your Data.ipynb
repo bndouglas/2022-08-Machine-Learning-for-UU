{
 "cells": [
  {
   "cell_type": "markdown",
   "metadata": {},
   "source": [
    "<h1 style='color: #C9C9C9'>Machine Learning with Python<img style=\"float: right; margin-top: 0;\" width=\"240\" src=\"../../Images/cf-logo.png\" /></h1> \n",
    "<p style='color: #C9C9C9'>&copy; Coding Fury 2022 - all rights reserved</p>\n",
    "\n",
    "<hr style='color: #C9C9C9' />"
   ]
  },
  {
   "cell_type": "markdown",
   "metadata": {},
   "source": [
    "# Transforming or Reshaping Data\n",
    "\n",
    "One of the neatest tricks we can employ is to transform complex so that it's in a shape that's easier to analyse. \n",
    "\n",
    "Let's take a minute to consider an example. \n",
    "\n",
    "Imagine, you've been asked to analyse some geographical data using latitude and longitude and predict if a new observation belongs in one of two categories. You start by plotting a graph of the data you have. \n",
    "\n",
    "![Cartesian Coords](../../Images/cartesian-coords.png)\n",
    "\n",
    "Because the boundary between the categories is a circle, it would be difficult to build model that works for this data.\n",
    "\n",
    "However, if you convert the data so that it uses polar coordinates rather than cartesian coordinates, the same data looks like this. \n",
    "\n",
    "![Polar Coords](../../Images/polar-coords.png)\n",
    "\n",
    "Now the points can be separated using a straight line, and the problem becomes super simple! \n",
    "\n",
    "\n",
    "The strategy of transforming data so that it's easier to analyse is widely used in Machine Learning, and it's something we'll revisit later in the course. \n",
    "\n",
    "The examples we'll look at won't use cartesian and polar coordinates, but they will produce similar effects. \n",
    "\n",
    "\n",
    "\n"
   ]
  }
 ],
 "metadata": {
  "kernelspec": {
   "display_name": "Python 3.10.4 64-bit",
   "language": "python",
   "name": "python3"
  },
  "language_info": {
   "name": "python",
   "version": "3.10.4"
  },
  "orig_nbformat": 4,
  "vscode": {
   "interpreter": {
    "hash": "7e1998ff7f8aa20ada591c520b972326324e5ea05489af9e422744c7c09f6dad"
   }
  }
 },
 "nbformat": 4,
 "nbformat_minor": 2
}
