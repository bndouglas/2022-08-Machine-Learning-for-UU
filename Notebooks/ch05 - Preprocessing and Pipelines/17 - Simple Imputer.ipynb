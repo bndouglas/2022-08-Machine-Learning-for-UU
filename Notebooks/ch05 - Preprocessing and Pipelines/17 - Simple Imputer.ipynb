{
 "cells": [
  {
   "cell_type": "markdown",
   "metadata": {},
   "source": [
    "<h1 style='color: #C9C9C9'>Machine Learning with Python<img style=\"float: right; margin-top: 0;\" width=\"240\" src=\"../../Images/cf-logo.png\" /></h1> \n",
    "<p style='color: #C9C9C9'>&copy; Coding Fury 2022 - all rights reserved</p>\n",
    "\n",
    "<hr style='color: #C9C9C9' />"
   ]
  },
  {
   "cell_type": "markdown",
   "metadata": {},
   "source": [
    "# Imputers in SciKit Learn\n",
    "\n",
    "In the last notebook, we learned how to deal with missing data. We also looked at the idea of imputing data - entering a value that seems reasonable. \n",
    "\n",
    "SciKit Learn comes with a SimpleImputer library, which makes things easier. \n",
    "\n",
    "It's best practice to split your data before imputing values - to avoid \"data leakage\". "
   ]
  },
  {
   "cell_type": "code",
   "execution_count": null,
   "metadata": {},
   "outputs": [],
   "source": [
    "import numpy as np\n",
    "import pandas as pd"
   ]
  },
  {
   "cell_type": "code",
   "execution_count": null,
   "metadata": {},
   "outputs": [],
   "source": [
    "auto_df = pd.read_csv('../../Data/automobiles.csv')\n",
    "auto_df "
   ]
  },
  {
   "cell_type": "code",
   "execution_count": null,
   "metadata": {},
   "outputs": [],
   "source": [
    "# drop the symbolling and normalised losses columns\n",
    "auto_df = auto_df.drop(['symboling', 'normalised_losses'], axis=1)\n",
    "# drop the rows without a price\n",
    "auto_df = auto_df.dropna(subset=['price']) "
   ]
  },
  {
   "cell_type": "code",
   "execution_count": null,
   "metadata": {},
   "outputs": [],
   "source": [
    "from sklearn.impute import SimpleImputer"
   ]
  },
  {
   "cell_type": "markdown",
   "metadata": {},
   "source": [
    "Imputing is done in 3 stages: \n",
    "1. Create an instance of the imputer\n",
    "2. fit the data to the imputer\n",
    "3. transform the data"
   ]
  },
  {
   "cell_type": "code",
   "execution_count": null,
   "metadata": {},
   "outputs": [],
   "source": [
    "imp_mode = SimpleImputer(strategy='most_frequent', missing_values=np.NaN)   # \"most_frequent\" is same as the \"mode\"\n",
    "imp_mode.fit(auto_df[['num_of_doors']])  \n",
    "auto_df['num_of_doors'] = imp_mode.transform(auto_df[['num_of_doors']])\n"
   ]
  },
  {
   "cell_type": "markdown",
   "metadata": {},
   "source": [
    "However, we can fit and transform the data in one line of code as shown below"
   ]
  },
  {
   "cell_type": "code",
   "execution_count": null,
   "metadata": {},
   "outputs": [],
   "source": [
    "imp_mode = SimpleImputer(strategy='most_frequent', missing_values=np.NaN)   # \"most_frequent\" is same as the \"mode\"\n",
    "auto_df['num_of_doors'] = imp_mode.fit_transform(auto_df[['num_of_doors']])"
   ]
  },
  {
   "cell_type": "code",
   "execution_count": null,
   "metadata": {},
   "outputs": [],
   "source": [
    "imp_mean = SimpleImputer(strategy='mean', missing_values=np.NaN)  \n",
    "auto_df[['bore', 'stroke']] = imp_mean.fit_transform(auto_df[['bore','stroke']])"
   ]
  },
  {
   "cell_type": "code",
   "execution_count": null,
   "metadata": {},
   "outputs": [],
   "source": [
    "imp_median = SimpleImputer(strategy='median', missing_values=np.NaN)  \n",
    "auto_df[['horsepower','peak_rpm']] = imp_mean.fit_transform(auto_df[['horsepower','peak_rpm']])"
   ]
  },
  {
   "cell_type": "code",
   "execution_count": null,
   "metadata": {},
   "outputs": [],
   "source": [
    "auto_df"
   ]
  },
  {
   "cell_type": "code",
   "execution_count": null,
   "metadata": {},
   "outputs": [],
   "source": []
  }
 ],
 "metadata": {
  "kernelspec": {
   "display_name": "Python 3 (ipykernel)",
   "language": "python",
   "name": "python3"
  },
  "language_info": {
   "codemirror_mode": {
    "name": "ipython",
    "version": 3
   },
   "file_extension": ".py",
   "mimetype": "text/x-python",
   "name": "python",
   "nbconvert_exporter": "python",
   "pygments_lexer": "ipython3",
   "version": "3.10.4"
  },
  "vscode": {
   "interpreter": {
    "hash": "7e1998ff7f8aa20ada591c520b972326324e5ea05489af9e422744c7c09f6dad"
   }
  }
 },
 "nbformat": 4,
 "nbformat_minor": 4
}
